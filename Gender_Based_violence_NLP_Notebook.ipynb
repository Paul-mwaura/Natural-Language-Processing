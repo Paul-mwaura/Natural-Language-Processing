{
  "nbformat": 4,
  "nbformat_minor": 0,
  "metadata": {
    "colab": {
      "name": "Gender Based violence NLP Notebook.ipynb",
      "provenance": [],
      "authorship_tag": "ABX9TyM5x1h9ciFT/n9HxfObuG7G",
      "include_colab_link": true
    },
    "kernelspec": {
      "name": "python3",
      "display_name": "Python 3"
    },
    "language_info": {
      "name": "python"
    }
  },
  "cells": [
    {
      "cell_type": "markdown",
      "metadata": {
        "id": "view-in-github",
        "colab_type": "text"
      },
      "source": [
        "<a href=\"https://colab.research.google.com/github/Paul-mwaura/Natural-Language-Processing/blob/main/Gender_Based_violence_NLP_Notebook.ipynb\" target=\"_parent\"><img src=\"https://colab.research.google.com/assets/colab-badge.svg\" alt=\"Open In Colab\"/></a>"
      ]
    },
    {
      "cell_type": "code",
      "metadata": {
        "id": "CMlUGKNBf7v1"
      },
      "source": [
        "import numpy as np\n",
        "import pandas as pd\n",
        "from sklearn.feature_extraction.text import CountVectorizer, TfidfTransformer\n",
        "from sklearn.pipeline import Pipeline\n",
        "from sklearn.naive_bayes import MultinomialNB\n",
        "from sklearn.metrics import confusion_matrix,classification_report\n",
        "from sklearn.model_selection import train_test_split, cross_val_score\n",
        "from sklearn.ensemble import RandomForestClassifier\n",
        "from sklearn.svm import NuSVC, SVC\n",
        "import pickle"
      ],
      "execution_count": null,
      "outputs": []
    },
    {
      "cell_type": "code",
      "metadata": {
        "colab": {
          "base_uri": "https://localhost:8080/",
          "height": 202
        },
        "id": "lHij4r9ZgC11",
        "outputId": "11d3fb66-da80-465f-cab0-8bd13cc88c78"
      },
      "source": [
        "data_url = 'training data.xlsx'\n",
        "df = pd.read_excel(data_url)\n",
        "df.head()"
      ],
      "execution_count": null,
      "outputs": [
        {
          "output_type": "execute_result",
          "data": {
            "text/html": [
              "<div>\n",
              "<style scoped>\n",
              "    .dataframe tbody tr th:only-of-type {\n",
              "        vertical-align: middle;\n",
              "    }\n",
              "\n",
              "    .dataframe tbody tr th {\n",
              "        vertical-align: top;\n",
              "    }\n",
              "\n",
              "    .dataframe thead th {\n",
              "        text-align: right;\n",
              "    }\n",
              "</style>\n",
              "<table border=\"1\" class=\"dataframe\">\n",
              "  <thead>\n",
              "    <tr style=\"text-align: right;\">\n",
              "      <th></th>\n",
              "      <th>labels</th>\n",
              "      <th>data</th>\n",
              "    </tr>\n",
              "  </thead>\n",
              "  <tbody>\n",
              "    <tr>\n",
              "      <th>0</th>\n",
              "      <td>assault</td>\n",
              "      <td>he punched me in the back of the fuckin’ head,...</td>\n",
              "    </tr>\n",
              "    <tr>\n",
              "      <th>1</th>\n",
              "      <td>assault</td>\n",
              "      <td>I’ve managed to gain my feet, um still trying ...</td>\n",
              "    </tr>\n",
              "    <tr>\n",
              "      <th>2</th>\n",
              "      <td>assault</td>\n",
              "      <td>I started screaming ‘Help! Help!’ and the male...</td>\n",
              "    </tr>\n",
              "    <tr>\n",
              "      <th>3</th>\n",
              "      <td>assault</td>\n",
              "      <td>He just dropped the jumpers onto the ground, t...</td>\n",
              "    </tr>\n",
              "    <tr>\n",
              "      <th>4</th>\n",
              "      <td>assault</td>\n",
              "      <td>He tried to assault me and my attempt was to g...</td>\n",
              "    </tr>\n",
              "  </tbody>\n",
              "</table>\n",
              "</div>"
            ],
            "text/plain": [
              "    labels                                               data\n",
              "0  assault  he punched me in the back of the fuckin’ head,...\n",
              "1  assault  I’ve managed to gain my feet, um still trying ...\n",
              "2  assault  I started screaming ‘Help! Help!’ and the male...\n",
              "3  assault  He just dropped the jumpers onto the ground, t...\n",
              "4  assault  He tried to assault me and my attempt was to g..."
            ]
          },
          "metadata": {
            "tags": []
          },
          "execution_count": 8
        }
      ]
    },
    {
      "cell_type": "code",
      "metadata": {
        "colab": {
          "base_uri": "https://localhost:8080/"
        },
        "id": "xN_xaZbogmEK",
        "outputId": "297f6ffc-e279-46b6-8e78-75af5df2639d"
      },
      "source": [
        "df.shape"
      ],
      "execution_count": null,
      "outputs": [
        {
          "output_type": "execute_result",
          "data": {
            "text/plain": [
              "(101, 2)"
            ]
          },
          "metadata": {
            "tags": []
          },
          "execution_count": 9
        }
      ]
    },
    {
      "cell_type": "code",
      "metadata": {
        "colab": {
          "base_uri": "https://localhost:8080/"
        },
        "id": "RO9MTqzJgo3o",
        "outputId": "0cc99ed2-77a2-4335-b525-2eeeb6ab6e13"
      },
      "source": [
        "def prepareData(data_url, testSize):\n",
        "    data = df.copy()\n",
        "    data = data.loc[data['labels'].isin(['assault', 'sexual abuse'])]\n",
        "    X = data['data']\n",
        "    y = data['labels']\n",
        "    X_train, X_test, y_train, y_test = train_test_split(X, y, test_size=testSize)\n",
        "    return X_train, X_test, y_train, y_test, X, y\n",
        "\n",
        "def makeModel(classifier, X_train, y_train):\n",
        "\n",
        "    pipeline = Pipeline([\n",
        "        ('bow', CountVectorizer()),  # strings to token integer counts\n",
        "        ('tfidf', TfidfTransformer()),  # integer counts to weighted TF-IDF scores\n",
        "        ('classifier', classifier),  # train on TF-IDF vectors with  classifier\n",
        "    ])\n",
        "\n",
        "    pipeline.fit(X_train, y_train)\n",
        "    return pipeline\n",
        "\n",
        "def testPerformance (model, model_type, X_test, y_test):\n",
        "    print(\"results with \"+model_type+\" classifier: \\n\")\n",
        "    print(\"confusion matrix: \\n\", confusion_matrix(y_test, model.predict(X_test)))\n",
        "\n",
        "    print(\"\\n\"+classification_report(y_test, model.predict(X_test)))\n",
        "\n",
        "\n",
        "#prepare training and testing data\n",
        "data_url = \"C:/Users/Ashley/Dropbox/cs109/SML Chatbot Project/training data.xlsx\"\n",
        "X_train, X_test, y_train, y_test, X, y = prepareData(data_url, testSize=0.2)\n",
        "\n",
        "#######################\n",
        "# testing the different classifiers\n",
        "########################\n",
        "\n",
        "#random forrest\n",
        "print(\"Random Forest\")\n",
        "model = makeModel(RandomForestClassifier(), X_train, y_train)\n",
        "testPerformance(model, \"random forest\", X_test, y_test)\n",
        "print(\"\\ncross validation: \")\n",
        "ranforest = Pipeline([\n",
        "            ('bow', CountVectorizer()),  # strings to token integer counts\n",
        "            ('tfidf', TfidfTransformer()),  # integer counts to weighted TF-IDF scores\n",
        "            ('classifier', RandomForestClassifier()),  # train on TF-IDF vectors with  classifier\n",
        "            ])\n",
        "r = cross_val_score(ranforest, X_train, y_train, cv=3, scoring='accuracy')\n",
        "print(\"mean accuracy: \"+str(np.mean(r))+\"\\nstandard error: \"+str(np.std(r)))\n",
        "\n",
        "#New Support Vector Machine\n",
        "print(\"\\nNew Support Vector Machine\")\n",
        "model_1 = makeModel(NuSVC(), X_train, y_train)\n",
        "testPerformance(model_1, \"Suport Vector Machine\", X_test, y_test)\n",
        "print(\"\\ncross validation: \")\n",
        "NuSupport = Pipeline([\n",
        "            ('bow', CountVectorizer()),  # strings to token integer counts\n",
        "            ('tfidf', TfidfTransformer()),  # integer counts to weighted TF-IDF scores\n",
        "            ('classifier', NuSVC()),  # train on TF-IDF vectors with  classifier\n",
        "            ])\n",
        "s = cross_val_score(NuSupport, X_train, y_train, cv=3, scoring='accuracy')\n",
        "print(\"mean accuracy: \"+str(np.mean(s))+\"\\nstandard error:\"+str(np.std(s)))\n",
        "\n",
        "#Support vector machine\n",
        "print(\"\\nSupport Vector Machine\")\n",
        "model_2 = makeModel(SVC(), X_train, y_train)\n",
        "testPerformance(model_2, \"Suport Vector Machine\", X_test, y_test)\n",
        "print(\"\\ncross validation: \")\n",
        "Support = Pipeline([\n",
        "            ('bow', CountVectorizer()),  # strings to token integer counts\n",
        "            ('tfidf', TfidfTransformer()),  # integer counts to weighted TF-IDF scores\n",
        "            ('classifier', SVC()),  # train on TF-IDF vectors with  classifier\n",
        "            ])\n",
        "s = cross_val_score(Support, X_train, y_train, cv=3, scoring='accuracy')\n",
        "print(\"mean accuracy: \"+str(np.mean(s))+\"\\nstandard error:\"+str(np.std(s)))\n",
        "\n",
        "#Multi Naive Bayes\n",
        "print(\"\\nMultinomial Naive Bayes\")\n",
        "model_3 = makeModel(MultinomialNB(), X_train, y_train)\n",
        "testPerformance(model_3, \"MultinomialNB\", X_test, y_test)\n",
        "print(\"\\ncross validation: \")\n",
        "Bayes = Pipeline([\n",
        "            ('bow', CountVectorizer()),  # strings to token integer counts\n",
        "            ('tfidf', TfidfTransformer()),  # integer counts to weighted TF-IDF scores\n",
        "            ('classifier', MultinomialNB()),  # train on TF-IDF vectors with  classifier\n",
        "            ])\n",
        "n = cross_val_score(Bayes, X_train, y_train, cv=3, scoring='accuracy')\n",
        "print(\"mean accuracy: \"+str(np.mean(n))+\"\\nstandard error: \"+str(np.std(n)))\n"
      ],
      "execution_count": null,
      "outputs": [
        {
          "output_type": "stream",
          "text": [
            "Random Forest\n",
            "results with random forest classifier: \n",
            "\n",
            "confusion matrix: \n",
            " [[5 0]\n",
            " [1 6]]\n",
            "\n",
            "              precision    recall  f1-score   support\n",
            "\n",
            "     assault       0.83      1.00      0.91         5\n",
            "sexual abuse       1.00      0.86      0.92         7\n",
            "\n",
            "    accuracy                           0.92        12\n",
            "   macro avg       0.92      0.93      0.92        12\n",
            "weighted avg       0.93      0.92      0.92        12\n",
            "\n",
            "\n",
            "cross validation: \n",
            "mean accuracy: 0.8291666666666666\n",
            "standard error: 0.03280836614171587\n",
            "\n",
            "New Support Vector Machine\n",
            "results with Suport Vector Machine classifier: \n",
            "\n",
            "confusion matrix: \n",
            " [[4 1]\n",
            " [0 7]]\n",
            "\n",
            "              precision    recall  f1-score   support\n",
            "\n",
            "     assault       1.00      0.80      0.89         5\n",
            "sexual abuse       0.88      1.00      0.93         7\n",
            "\n",
            "    accuracy                           0.92        12\n",
            "   macro avg       0.94      0.90      0.91        12\n",
            "weighted avg       0.93      0.92      0.91        12\n",
            "\n",
            "\n",
            "cross validation: \n",
            "mean accuracy: 0.8291666666666666\n",
            "standard error:0.03280836614171587\n",
            "\n",
            "Support Vector Machine\n",
            "results with Suport Vector Machine classifier: \n",
            "\n",
            "confusion matrix: \n",
            " [[2 3]\n",
            " [0 7]]\n",
            "\n",
            "              precision    recall  f1-score   support\n",
            "\n",
            "     assault       1.00      0.40      0.57         5\n",
            "sexual abuse       0.70      1.00      0.82         7\n",
            "\n",
            "    accuracy                           0.75        12\n",
            "   macro avg       0.85      0.70      0.70        12\n",
            "weighted avg       0.82      0.75      0.72        12\n",
            "\n",
            "\n",
            "cross validation: \n",
            "mean accuracy: 0.7861111111111111\n",
            "standard error:0.037319524562623364\n",
            "\n",
            "Multinomial Naive Bayes\n",
            "results with MultinomialNB classifier: \n",
            "\n",
            "confusion matrix: \n",
            " [[2 3]\n",
            " [0 7]]\n",
            "\n",
            "              precision    recall  f1-score   support\n",
            "\n",
            "     assault       1.00      0.40      0.57         5\n",
            "sexual abuse       0.70      1.00      0.82         7\n",
            "\n",
            "    accuracy                           0.75        12\n",
            "   macro avg       0.85      0.70      0.70        12\n",
            "weighted avg       0.82      0.75      0.72        12\n",
            "\n",
            "\n",
            "cross validation: \n",
            "mean accuracy: 0.6597222222222222\n",
            "standard error: 0.025983731852596812\n"
          ],
          "name": "stdout"
        }
      ]
    },
    {
      "cell_type": "code",
      "metadata": {
        "colab": {
          "base_uri": "https://localhost:8080/"
        },
        "id": "_RAiaOWRg6oX",
        "outputId": "28d5f7ec-0570-4315-d6a0-b676c77100a5"
      },
      "source": [
        "# Saving the classifiers\n",
        "pickle.dump(ranforest, open(\"randomForest.p\",\"wb\"))\n",
        "print(\"\\nrandom forest saved\")\n",
        "# pickle.dump(NewSVC, open(\"NewSVC.p\",\"wb\"))\n",
        "# print(\"\\nsupport vector saved\")\n",
        "# pickle.dump(MultiNB, open(\"MultiNB.p\",\"wb\"))\n",
        "# print(\"\\nnaive bayes saved\")"
      ],
      "execution_count": null,
      "outputs": [
        {
          "output_type": "stream",
          "text": [
            "\n",
            "random forest saved\n"
          ],
          "name": "stdout"
        }
      ]
    },
    {
      "cell_type": "code",
      "metadata": {
        "id": "MbrlkpLxhUFW"
      },
      "source": [
        ""
      ],
      "execution_count": null,
      "outputs": []
    }
  ]
}