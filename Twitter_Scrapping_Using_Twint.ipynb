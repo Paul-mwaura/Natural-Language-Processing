{
  "nbformat": 4,
  "nbformat_minor": 0,
  "metadata": {
    "colab": {
      "name": "Twitter Scrapping Using Twint.ipynb",
      "provenance": [],
      "authorship_tag": "ABX9TyP7l/0Su+tZrFqMmNu4+c1Y",
      "include_colab_link": true
    },
    "kernelspec": {
      "display_name": "Python 3",
      "name": "python3"
    },
    "language_info": {
      "name": "python"
    }
  },
  "cells": [
    {
      "cell_type": "markdown",
      "metadata": {
        "id": "view-in-github",
        "colab_type": "text"
      },
      "source": [
        "<a href=\"https://colab.research.google.com/github/Paul-mwaura/Natural-Language-Processing/blob/main/Twitter_Scrapping_Using_Twint.ipynb\" target=\"_parent\"><img src=\"https://colab.research.google.com/assets/colab-badge.svg\" alt=\"Open In Colab\"/></a>"
      ]
    },
    {
      "cell_type": "code",
      "metadata": {
        "colab": {
          "base_uri": "https://localhost:8080/"
        },
        "id": "fDDDdMyYgXWe",
        "outputId": "86cb3abd-993b-45b4-c03c-da32b0378e93"
      },
      "source": [
        "!pip3 uninstall twint"
      ],
      "execution_count": 20,
      "outputs": [
        {
          "output_type": "stream",
          "text": [
            "Uninstalling twint-2.1.21:\n",
            "  Would remove:\n",
            "    /root/.local/bin/twint\n",
            "    /root/.local/lib/python3.7/site-packages/twint-2.1.21.dist-info/*\n",
            "    /root/.local/lib/python3.7/site-packages/twint/*\n",
            "Proceed (y/n)? y\n",
            "  Successfully uninstalled twint-2.1.21\n"
          ],
          "name": "stdout"
        }
      ]
    },
    {
      "cell_type": "code",
      "metadata": {
        "colab": {
          "base_uri": "https://localhost:8080/",
          "height": 921
        },
        "id": "20SFv3GCfL1E",
        "outputId": "3860aa9d-04b4-4504-bf0b-be1e7b42f46e"
      },
      "source": [
        "!pip3 install --user --upgrade git+https://github.com/twintproject/twint.git@origin/master #egg=twint"
      ],
      "execution_count": 21,
      "outputs": [
        {
          "output_type": "stream",
          "text": [
            "Collecting twint\n",
            "  Cloning https://github.com/twintproject/twint.git (to revision origin/master) to /tmp/pip-install-k8d6y1il/twint\n",
            "  Running command git clone -q https://github.com/twintproject/twint.git /tmp/pip-install-k8d6y1il/twint\n",
            "\u001b[33m  WARNING: Did not find branch or tag 'origin/master', assuming revision or ref.\u001b[0m\n",
            "  Running command git checkout -q origin/master\n",
            "Requirement already satisfied, skipping upgrade: aiohttp in /usr/local/lib/python3.7/dist-packages (from twint) (3.7.4.post0)\n",
            "Requirement already satisfied, skipping upgrade: aiodns in /usr/local/lib/python3.7/dist-packages (from twint) (2.0.0)\n",
            "Requirement already satisfied, skipping upgrade: beautifulsoup4 in /usr/local/lib/python3.7/dist-packages (from twint) (4.6.3)\n",
            "Requirement already satisfied, skipping upgrade: cchardet in /usr/local/lib/python3.7/dist-packages (from twint) (2.1.7)\n",
            "Requirement already satisfied, skipping upgrade: dataclasses in /root/.local/lib/python3.7/site-packages (from twint) (0.6)\n",
            "Requirement already satisfied, skipping upgrade: elasticsearch in /usr/local/lib/python3.7/dist-packages (from twint) (7.12.1)\n",
            "Requirement already satisfied, skipping upgrade: pysocks in /usr/local/lib/python3.7/dist-packages (from twint) (1.7.1)\n",
            "Requirement already satisfied, skipping upgrade: pandas in /usr/local/lib/python3.7/dist-packages (from twint) (1.1.5)\n",
            "Requirement already satisfied, skipping upgrade: aiohttp_socks in /usr/local/lib/python3.7/dist-packages (from twint) (0.6.0)\n",
            "Requirement already satisfied, skipping upgrade: schedule in /usr/local/lib/python3.7/dist-packages (from twint) (1.1.0)\n",
            "Requirement already satisfied, skipping upgrade: geopy in /usr/local/lib/python3.7/dist-packages (from twint) (1.17.0)\n",
            "Requirement already satisfied, skipping upgrade: fake-useragent in /usr/local/lib/python3.7/dist-packages (from twint) (0.1.11)\n",
            "Requirement already satisfied, skipping upgrade: googletransx in /usr/local/lib/python3.7/dist-packages (from twint) (2.4.2)\n",
            "Requirement already satisfied, skipping upgrade: yarl<2.0,>=1.0 in /usr/local/lib/python3.7/dist-packages (from aiohttp->twint) (1.6.3)\n",
            "Requirement already satisfied, skipping upgrade: typing-extensions>=3.6.5 in /usr/local/lib/python3.7/dist-packages (from aiohttp->twint) (3.7.4.3)\n",
            "Requirement already satisfied, skipping upgrade: attrs>=17.3.0 in /usr/local/lib/python3.7/dist-packages (from aiohttp->twint) (20.3.0)\n",
            "Requirement already satisfied, skipping upgrade: async-timeout<4.0,>=3.0 in /usr/local/lib/python3.7/dist-packages (from aiohttp->twint) (3.0.1)\n",
            "Requirement already satisfied, skipping upgrade: multidict<7.0,>=4.5 in /usr/local/lib/python3.7/dist-packages (from aiohttp->twint) (5.1.0)\n",
            "Requirement already satisfied, skipping upgrade: chardet<5.0,>=2.0 in /usr/local/lib/python3.7/dist-packages (from aiohttp->twint) (3.0.4)\n",
            "Requirement already satisfied, skipping upgrade: pycares>=3.0.0 in /usr/local/lib/python3.7/dist-packages (from aiodns->twint) (3.1.1)\n",
            "Requirement already satisfied, skipping upgrade: certifi in /usr/local/lib/python3.7/dist-packages (from elasticsearch->twint) (2020.12.5)\n",
            "Requirement already satisfied, skipping upgrade: urllib3<2,>=1.21.1 in /usr/local/lib/python3.7/dist-packages (from elasticsearch->twint) (1.24.3)\n",
            "Requirement already satisfied, skipping upgrade: numpy>=1.15.4 in /usr/local/lib/python3.7/dist-packages (from pandas->twint) (1.19.5)\n",
            "Requirement already satisfied, skipping upgrade: python-dateutil>=2.7.3 in /usr/local/lib/python3.7/dist-packages (from pandas->twint) (2.8.1)\n",
            "Requirement already satisfied, skipping upgrade: pytz>=2017.2 in /usr/local/lib/python3.7/dist-packages (from pandas->twint) (2018.9)\n",
            "Requirement already satisfied, skipping upgrade: python-socks[asyncio]>=1.2.2 in /usr/local/lib/python3.7/dist-packages (from aiohttp_socks->twint) (1.2.4)\n",
            "Requirement already satisfied, skipping upgrade: geographiclib<2,>=1.49 in /usr/local/lib/python3.7/dist-packages (from geopy->twint) (1.50)\n",
            "Requirement already satisfied, skipping upgrade: requests in /usr/local/lib/python3.7/dist-packages (from googletransx->twint) (2.23.0)\n",
            "Requirement already satisfied, skipping upgrade: idna>=2.0 in /usr/local/lib/python3.7/dist-packages (from yarl<2.0,>=1.0->aiohttp->twint) (2.10)\n",
            "Requirement already satisfied, skipping upgrade: cffi>=1.5.0 in /usr/local/lib/python3.7/dist-packages (from pycares>=3.0.0->aiodns->twint) (1.14.5)\n",
            "Requirement already satisfied, skipping upgrade: six>=1.5 in /usr/local/lib/python3.7/dist-packages (from python-dateutil>=2.7.3->pandas->twint) (1.15.0)\n",
            "Requirement already satisfied, skipping upgrade: pycparser in /usr/local/lib/python3.7/dist-packages (from cffi>=1.5.0->pycares>=3.0.0->aiodns->twint) (2.20)\n",
            "Building wheels for collected packages: twint\n",
            "  Building wheel for twint (setup.py) ... \u001b[?25l\u001b[?25hdone\n",
            "  Created wheel for twint: filename=twint-2.1.21-cp37-none-any.whl size=38863 sha256=f10e22d840adfcae69936de5a35b5174054d9a28499bd77710ffd5744278121d\n",
            "  Stored in directory: /tmp/pip-ephem-wheel-cache-hcqjhw1z/wheels/4f/3b/75/62d04b3b446658ba85401e8868d3cd1d4bc22f17ad755460a6\n",
            "Successfully built twint\n",
            "Installing collected packages: twint\n",
            "\u001b[33m  WARNING: The script twint is installed in '/root/.local/bin' which is not on PATH.\n",
            "  Consider adding this directory to PATH or, if you prefer to suppress this warning, use --no-warn-script-location.\u001b[0m\n",
            "Successfully installed twint-2.1.21\n"
          ],
          "name": "stdout"
        },
        {
          "output_type": "display_data",
          "data": {
            "application/vnd.colab-display-data+json": {
              "pip_warning": {
                "packages": [
                  "twint"
                ]
              }
            }
          },
          "metadata": {
            "tags": []
          }
        }
      ]
    },
    {
      "cell_type": "code",
      "metadata": {
        "id": "HgtVYI7HJxxc"
      },
      "source": [
        "from datetime import timedelta\n",
        "from string import ascii_letters, digits\n",
        "from os import mkdir, path\n",
        "import nest_asyncio\n",
        "import pandas as pd\n",
        "import twint\n",
        "\n",
        "nest_asyncio.apply()\n",
        "\n",
        "def clean_name(dirname):\n",
        "    \n",
        "    valid = set(ascii_letters + digits)\n",
        "    return ''.join(a for a in dirname if a in valid)\n",
        "\n",
        "\n",
        "def twint_search(searchterm, since, until, json_name):\n",
        "\n",
        "    c = twint.Config()\n",
        "    c.Search = searchterm\n",
        "    c.Since = since\n",
        "    c.Until = until\n",
        "    c.Limit = 100\n",
        "    c.Lang = \"en\"\n",
        "    c.Hide_output = True\n",
        "    c.Store_json = True\n",
        "    c.Output = json_name\n",
        "    c.Debug = True\n",
        "\n",
        "    try:\n",
        "        twint.run.Search(c)    \n",
        "        \n",
        "    except (KeyboardInterrupt, SystemExit):\n",
        "        raise\n",
        "\n",
        "        \n",
        "#     except:\n",
        "#         print(\"Problem with %s.\" % since)\n",
        "\n",
        "\n",
        "def twint_loop(searchterm, since, until):\n",
        "\n",
        "    dirname = clean_name(searchterm)\n",
        "    \n",
        "    try:\n",
        "        mkdir(dirname)\n",
        "        print(\"Directory\" , dirname ,  \"Created \")\n",
        "        \n",
        "    except FileExistsError:\n",
        "        print(\"Directory\" , dirname ,  \"already exists\")\n",
        "\n",
        "    daterange = pd.date_range(since, until)\n",
        "\n",
        "    for start_date in daterange:\n",
        "\n",
        "        since= start_date.strftime(\"%Y-%m-%d\")\n",
        "        until = (start_date + timedelta(days=1)).strftime(\"%Y-%m-%d\")\n",
        "\n",
        "        json_name = '%s.json' % since\n",
        "        json_name = path.join(dirname, json_name)\n",
        "\n",
        "        print('Getting %s ' % since )\n",
        "        twint_search(searchterm, since, until, json_name)"
      ],
      "execution_count": 31,
      "outputs": []
    },
    {
      "cell_type": "code",
      "metadata": {
        "colab": {
          "base_uri": "https://localhost:8080/"
        },
        "id": "gkfS71HafF7R",
        "outputId": "7073054d-e181-4fb4-f02c-d4d0a0cd7ece"
      },
      "source": [
        "twint_loop('discrimination OR gender OR gbv OR violence', '04-01-2021', '04-30-2021')"
      ],
      "execution_count": 32,
      "outputs": [
        {
          "output_type": "stream",
          "text": [
            "Directory discriminationORgenderORgbvORviolence Created \n",
            "Getting 2021-04-01 \n",
            "Getting 2021-04-02 \n",
            "Getting 2021-04-03 \n",
            "Getting 2021-04-04 \n",
            "Getting 2021-04-05 \n",
            "Getting 2021-04-06 \n",
            "Getting 2021-04-07 \n",
            "Getting 2021-04-08 \n",
            "Getting 2021-04-09 \n",
            "Getting 2021-04-10 \n",
            "Getting 2021-04-11 \n",
            "Getting 2021-04-12 \n",
            "Getting 2021-04-13 \n",
            "Getting 2021-04-14 \n",
            "Getting 2021-04-15 \n",
            "Getting 2021-04-16 \n",
            "Getting 2021-04-17 \n",
            "Getting 2021-04-18 \n",
            "Getting 2021-04-19 \n",
            "Getting 2021-04-20 \n",
            "Getting 2021-04-21 \n",
            "Getting 2021-04-22 \n",
            "Getting 2021-04-23 \n",
            "Getting 2021-04-24 \n",
            "Getting 2021-04-25 \n",
            "Getting 2021-04-26 \n",
            "Getting 2021-04-27 \n",
            "Getting 2021-04-28 \n",
            "Getting 2021-04-29 \n",
            "Getting 2021-04-30 \n"
          ],
          "name": "stdout"
        }
      ]
    },
    {
      "cell_type": "code",
      "metadata": {
        "colab": {
          "base_uri": "https://localhost:8080/",
          "height": 234
        },
        "id": "JdaiigoQgnoQ",
        "outputId": "419a6578-87ba-46fb-cdff-b139f4efd3aa"
      },
      "source": [
        "from glob import glob\n",
        "\n",
        "file_names = glob(path.join('discriminationORgender','*.json'))\n",
        "dfs = [pd.read_json(fn, lines = True) for fn in file_names]\n",
        "gender_df = pd.concat(dfs)\n",
        "gender_df.head(2)"
      ],
      "execution_count": 33,
      "outputs": [
        {
          "output_type": "execute_result",
          "data": {
            "text/html": [
              "<div>\n",
              "<style scoped>\n",
              "    .dataframe tbody tr th:only-of-type {\n",
              "        vertical-align: middle;\n",
              "    }\n",
              "\n",
              "    .dataframe tbody tr th {\n",
              "        vertical-align: top;\n",
              "    }\n",
              "\n",
              "    .dataframe thead th {\n",
              "        text-align: right;\n",
              "    }\n",
              "</style>\n",
              "<table border=\"1\" class=\"dataframe\">\n",
              "  <thead>\n",
              "    <tr style=\"text-align: right;\">\n",
              "      <th></th>\n",
              "      <th>id</th>\n",
              "      <th>conversation_id</th>\n",
              "      <th>created_at</th>\n",
              "      <th>date</th>\n",
              "      <th>time</th>\n",
              "      <th>timezone</th>\n",
              "      <th>user_id</th>\n",
              "      <th>username</th>\n",
              "      <th>name</th>\n",
              "      <th>place</th>\n",
              "      <th>tweet</th>\n",
              "      <th>language</th>\n",
              "      <th>mentions</th>\n",
              "      <th>urls</th>\n",
              "      <th>photos</th>\n",
              "      <th>replies_count</th>\n",
              "      <th>retweets_count</th>\n",
              "      <th>likes_count</th>\n",
              "      <th>hashtags</th>\n",
              "      <th>cashtags</th>\n",
              "      <th>link</th>\n",
              "      <th>retweet</th>\n",
              "      <th>quote_url</th>\n",
              "      <th>video</th>\n",
              "      <th>thumbnail</th>\n",
              "      <th>near</th>\n",
              "      <th>geo</th>\n",
              "      <th>source</th>\n",
              "      <th>user_rt_id</th>\n",
              "      <th>user_rt</th>\n",
              "      <th>retweet_id</th>\n",
              "      <th>reply_to</th>\n",
              "      <th>retweet_date</th>\n",
              "      <th>translate</th>\n",
              "      <th>trans_src</th>\n",
              "      <th>trans_dest</th>\n",
              "    </tr>\n",
              "  </thead>\n",
              "  <tbody>\n",
              "    <tr>\n",
              "      <th>0</th>\n",
              "      <td>1378497541625483264</td>\n",
              "      <td>1378496445075095552</td>\n",
              "      <td>2021-04-03 23:59:59+00:00</td>\n",
              "      <td>2021-04-03</td>\n",
              "      <td>23:59:59</td>\n",
              "      <td>0</td>\n",
              "      <td>1032477534225608705</td>\n",
              "      <td>xochelynn</td>\n",
              "      <td>chey🪐.</td>\n",
              "      <td></td>\n",
              "      <td>@ajenayyyyy like what😂😂 friendships can be bet...</td>\n",
              "      <td>en</td>\n",
              "      <td>[]</td>\n",
              "      <td>[]</td>\n",
              "      <td>[]</td>\n",
              "      <td>1</td>\n",
              "      <td>0</td>\n",
              "      <td>1</td>\n",
              "      <td>[]</td>\n",
              "      <td>[]</td>\n",
              "      <td>https://twitter.com/xochelynn/status/137849754...</td>\n",
              "      <td>False</td>\n",
              "      <td></td>\n",
              "      <td>0</td>\n",
              "      <td></td>\n",
              "      <td></td>\n",
              "      <td></td>\n",
              "      <td></td>\n",
              "      <td></td>\n",
              "      <td></td>\n",
              "      <td></td>\n",
              "      <td>[{'screen_name': 'ajenayyyyy', 'name': 'Aj👸🏽',...</td>\n",
              "      <td></td>\n",
              "      <td></td>\n",
              "      <td></td>\n",
              "      <td></td>\n",
              "    </tr>\n",
              "    <tr>\n",
              "      <th>1</th>\n",
              "      <td>1378497540451098624</td>\n",
              "      <td>1378490644117692416</td>\n",
              "      <td>2021-04-03 23:59:59+00:00</td>\n",
              "      <td>2021-04-03</td>\n",
              "      <td>23:59:59</td>\n",
              "      <td>0</td>\n",
              "      <td>842215100589174784</td>\n",
              "      <td>melodylastname</td>\n",
              "      <td>superliminal dream criminal</td>\n",
              "      <td></td>\n",
              "      <td>@VeryLittleFun chairperson of the gender revea...</td>\n",
              "      <td>en</td>\n",
              "      <td>[]</td>\n",
              "      <td>[]</td>\n",
              "      <td>[]</td>\n",
              "      <td>0</td>\n",
              "      <td>0</td>\n",
              "      <td>0</td>\n",
              "      <td>[]</td>\n",
              "      <td>[]</td>\n",
              "      <td>https://twitter.com/melodylastname/status/1378...</td>\n",
              "      <td>False</td>\n",
              "      <td></td>\n",
              "      <td>0</td>\n",
              "      <td></td>\n",
              "      <td></td>\n",
              "      <td></td>\n",
              "      <td></td>\n",
              "      <td></td>\n",
              "      <td></td>\n",
              "      <td></td>\n",
              "      <td>[{'screen_name': 'VeryLittleFun', 'name': 'bee...</td>\n",
              "      <td></td>\n",
              "      <td></td>\n",
              "      <td></td>\n",
              "      <td></td>\n",
              "    </tr>\n",
              "  </tbody>\n",
              "</table>\n",
              "</div>"
            ],
            "text/plain": [
              "                    id      conversation_id  ... trans_src trans_dest\n",
              "0  1378497541625483264  1378496445075095552  ...                     \n",
              "1  1378497540451098624  1378490644117692416  ...                     \n",
              "\n",
              "[2 rows x 36 columns]"
            ]
          },
          "metadata": {
            "tags": []
          },
          "execution_count": 33
        }
      ]
    },
    {
      "cell_type": "code",
      "metadata": {
        "colab": {
          "base_uri": "https://localhost:8080/"
        },
        "id": "zrXklHsBfW6y",
        "outputId": "72fec3b8-d87a-4fa6-e784-995a7d791d41"
      },
      "source": [
        "gender_df.shape"
      ],
      "execution_count": 35,
      "outputs": [
        {
          "output_type": "execute_result",
          "data": {
            "text/plain": [
              "(3098, 36)"
            ]
          },
          "metadata": {
            "tags": []
          },
          "execution_count": 35
        }
      ]
    }
  ]
}