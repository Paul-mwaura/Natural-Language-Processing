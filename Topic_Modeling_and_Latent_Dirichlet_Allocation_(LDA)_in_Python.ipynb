{
  "nbformat": 4,
  "nbformat_minor": 0,
  "metadata": {
    "colab": {
      "name": "Topic Modeling and Latent Dirichlet Allocation (LDA) in Python.ipynb",
      "provenance": [],
      "toc_visible": true,
      "authorship_tag": "ABX9TyP/KHDzfi0ZYLUSP/DyhFEE",
      "include_colab_link": true
    },
    "kernelspec": {
      "display_name": "Python 3",
      "language": "python",
      "name": "python3"
    },
    "language_info": {
      "codemirror_mode": {
        "name": "ipython",
        "version": 3
      },
      "file_extension": ".py",
      "mimetype": "text/x-python",
      "name": "python",
      "nbconvert_exporter": "python",
      "pygments_lexer": "ipython3",
      "version": "3.7.1"
    }
  },
  "cells": [
    {
      "cell_type": "markdown",
      "metadata": {
        "id": "view-in-github",
        "colab_type": "text"
      },
      "source": [
        "<a href=\"https://colab.research.google.com/github/Paul-mwaura/Natural-Language-Processing/blob/main/Topic_Modeling_and_Latent_Dirichlet_Allocation_(LDA)_in_Python.ipynb\" target=\"_parent\"><img src=\"https://colab.research.google.com/assets/colab-badge.svg\" alt=\"Open In Colab\"/></a>"
      ]
    },
    {
      "cell_type": "markdown",
      "metadata": {
        "id": "B2cVQb0XuolE"
      },
      "source": [
        "# Topic Modeling and Latent Dirichlet Allocation (LDA) in Python"
      ]
    },
    {
      "cell_type": "markdown",
      "metadata": {
        "id": "E7k_egW5vBF4"
      },
      "source": [
        "> **Topic modeling** is a type of statistical modeling for discovering the abstract “topics” that occur in a collection of documents. **Latent Dirichlet Allocation (LDA)** is an example of topic model and is used to classify text in a document to a particular topic. It builds a topic per document model and words per topic model, modeled as **Dirichlet distributions**."
      ]
    },
    {
      "cell_type": "code",
      "metadata": {
        "id": "Xo0vTdIK1vdX"
      },
      "source": [
        "# Import necessary Libraries.\n",
        "#\n",
        "import pandas as pd\n",
        "\n",
        "data = pd.read_excel('abcnews-date-text.xlsx', 0);\n",
        "data.to_csv(\"abcnews-date-text.csv\")"
      ],
      "execution_count": 7,
      "outputs": []
    },
    {
      "cell_type": "code",
      "metadata": {
        "colab": {
          "base_uri": "https://localhost:8080/",
          "height": 204
        },
        "id": "QdvgxF8h2MnZ",
        "outputId": "22084be6-4e51-48ca-834d-1a0a09e23345"
      },
      "source": [
        "data = pd.read_csv('abcnews-date-text.csv', error_bad_lines=False, sep=\",\");\n",
        "data.head()"
      ],
      "execution_count": 11,
      "outputs": [
        {
          "output_type": "execute_result",
          "data": {
            "text/html": [
              "<div>\n",
              "<style scoped>\n",
              "    .dataframe tbody tr th:only-of-type {\n",
              "        vertical-align: middle;\n",
              "    }\n",
              "\n",
              "    .dataframe tbody tr th {\n",
              "        vertical-align: top;\n",
              "    }\n",
              "\n",
              "    .dataframe thead th {\n",
              "        text-align: right;\n",
              "    }\n",
              "</style>\n",
              "<table border=\"1\" class=\"dataframe\">\n",
              "  <thead>\n",
              "    <tr style=\"text-align: right;\">\n",
              "      <th></th>\n",
              "      <th>Unnamed: 0</th>\n",
              "      <th>publish_date,headline_text</th>\n",
              "    </tr>\n",
              "  </thead>\n",
              "  <tbody>\n",
              "    <tr>\n",
              "      <th>0</th>\n",
              "      <td>0</td>\n",
              "      <td>20030219,aba decides against community broadca...</td>\n",
              "    </tr>\n",
              "    <tr>\n",
              "      <th>1</th>\n",
              "      <td>1</td>\n",
              "      <td>20030219,act fire witnesses must be aware of d...</td>\n",
              "    </tr>\n",
              "    <tr>\n",
              "      <th>2</th>\n",
              "      <td>2</td>\n",
              "      <td>20030219,a g calls for infrastructure protecti...</td>\n",
              "    </tr>\n",
              "    <tr>\n",
              "      <th>3</th>\n",
              "      <td>3</td>\n",
              "      <td>20030219,air nz staff in aust strike for pay rise</td>\n",
              "    </tr>\n",
              "    <tr>\n",
              "      <th>4</th>\n",
              "      <td>4</td>\n",
              "      <td>20030219,air nz strike to affect australian tr...</td>\n",
              "    </tr>\n",
              "  </tbody>\n",
              "</table>\n",
              "</div>"
            ],
            "text/plain": [
              "   Unnamed: 0                         publish_date,headline_text\n",
              "0           0  20030219,aba decides against community broadca...\n",
              "1           1  20030219,act fire witnesses must be aware of d...\n",
              "2           2  20030219,a g calls for infrastructure protecti...\n",
              "3           3  20030219,air nz staff in aust strike for pay rise\n",
              "4           4  20030219,air nz strike to affect australian tr..."
            ]
          },
          "metadata": {
            "tags": []
          },
          "execution_count": 11
        }
      ]
    },
    {
      "cell_type": "code",
      "metadata": {
        "colab": {
          "base_uri": "https://localhost:8080/",
          "height": 204
        },
        "id": "nz19TtAQ6Fue",
        "outputId": "df2bdbdf-6ef6-4fb0-bb26-a6d9e81c4e2e"
      },
      "source": [
        "data[['publish_date','headline_text']] = data['publish_date,headline_text'].str.split(',',expand=True)\n",
        "data = data.iloc[:, 2:]\n",
        "data.head()"
      ],
      "execution_count": 16,
      "outputs": [
        {
          "output_type": "execute_result",
          "data": {
            "text/html": [
              "<div>\n",
              "<style scoped>\n",
              "    .dataframe tbody tr th:only-of-type {\n",
              "        vertical-align: middle;\n",
              "    }\n",
              "\n",
              "    .dataframe tbody tr th {\n",
              "        vertical-align: top;\n",
              "    }\n",
              "\n",
              "    .dataframe thead th {\n",
              "        text-align: right;\n",
              "    }\n",
              "</style>\n",
              "<table border=\"1\" class=\"dataframe\">\n",
              "  <thead>\n",
              "    <tr style=\"text-align: right;\">\n",
              "      <th></th>\n",
              "      <th>publish_date</th>\n",
              "      <th>headline_text</th>\n",
              "    </tr>\n",
              "  </thead>\n",
              "  <tbody>\n",
              "    <tr>\n",
              "      <th>0</th>\n",
              "      <td>20030219</td>\n",
              "      <td>aba decides against community broadcasting lic...</td>\n",
              "    </tr>\n",
              "    <tr>\n",
              "      <th>1</th>\n",
              "      <td>20030219</td>\n",
              "      <td>act fire witnesses must be aware of defamation</td>\n",
              "    </tr>\n",
              "    <tr>\n",
              "      <th>2</th>\n",
              "      <td>20030219</td>\n",
              "      <td>a g calls for infrastructure protection summit</td>\n",
              "    </tr>\n",
              "    <tr>\n",
              "      <th>3</th>\n",
              "      <td>20030219</td>\n",
              "      <td>air nz staff in aust strike for pay rise</td>\n",
              "    </tr>\n",
              "    <tr>\n",
              "      <th>4</th>\n",
              "      <td>20030219</td>\n",
              "      <td>air nz strike to affect australian travellers</td>\n",
              "    </tr>\n",
              "  </tbody>\n",
              "</table>\n",
              "</div>"
            ],
            "text/plain": [
              "  publish_date                                      headline_text\n",
              "0     20030219  aba decides against community broadcasting lic...\n",
              "1     20030219     act fire witnesses must be aware of defamation\n",
              "2     20030219     a g calls for infrastructure protection summit\n",
              "3     20030219           air nz staff in aust strike for pay rise\n",
              "4     20030219      air nz strike to affect australian travellers"
            ]
          },
          "metadata": {
            "tags": []
          },
          "execution_count": 16
        }
      ]
    },
    {
      "cell_type": "code",
      "metadata": {
        "id": "LSoFvHdRC0Qz"
      },
      "source": [
        "data_text = data[['headline_text']]\n",
        "data_text['index'] = data_text.index\n",
        "documents = data_text"
      ],
      "execution_count": 17,
      "outputs": []
    },
    {
      "cell_type": "code",
      "metadata": {
        "colab": {
          "base_uri": "https://localhost:8080/"
        },
        "id": "ZfBp_IcTUVGE",
        "outputId": "cca1bc49-d386-4bb4-e2d4-db50c71be384"
      },
      "source": [
        "# Preview the top rows.\n",
        "#\n",
        "print(len(documents))\n",
        "print(documents[:5])"
      ],
      "execution_count": 18,
      "outputs": [
        {
          "output_type": "stream",
          "text": [
            "9269\n",
            "                                       headline_text  index\n",
            "0  aba decides against community broadcasting lic...      0\n",
            "1     act fire witnesses must be aware of defamation      1\n",
            "2     a g calls for infrastructure protection summit      2\n",
            "3           air nz staff in aust strike for pay rise      3\n",
            "4      air nz strike to affect australian travellers      4\n"
          ],
          "name": "stdout"
        }
      ]
    },
    {
      "cell_type": "markdown",
      "metadata": {
        "id": "A0vkgCtOUsv9"
      },
      "source": [
        "## Data Pre-processing"
      ]
    },
    {
      "cell_type": "markdown",
      "metadata": {
        "id": "p-Vk7cS1Zjaw"
      },
      "source": [
        ">>\n",
        "**Tokenization**: Split the text into sentences and the sentences into words. Lowercase the words and remove punctuation.\n",
        ">>\n",
        "Words that have fewer than 3 characters are removed.\n",
        ">>\n",
        "All stopwords are removed.\n",
        ">>\n",
        "**Words are lemmatized** — words in third person are changed to first person and verbs in past and future tenses are changed into present.\n",
        ">>\n",
        "**Words are stemmed** — words are reduced to their root form."
      ]
    },
    {
      "cell_type": "markdown",
      "metadata": {
        "id": "FMrgILf7lcEn"
      },
      "source": [
        "**Loading gensim and nltk libraries**"
      ]
    },
    {
      "cell_type": "code",
      "metadata": {
        "colab": {
          "base_uri": "https://localhost:8080/"
        },
        "id": "BWB0eNwMUXTn",
        "outputId": "ece5c47f-444d-4921-c49d-3ddf0656bac9"
      },
      "source": [
        "import gensim\n",
        "from gensim.utils import simple_preprocess\n",
        "from gensim.parsing.preprocessing import STOPWORDS\n",
        "from nltk.stem import WordNetLemmatizer, SnowballStemmer\n",
        "from nltk.stem.porter import *\n",
        "import numpy as np\n",
        "np.random.seed(2018)\n",
        "import nltk\n",
        "nltk.download('wordnet')\n",
        "\n",
        "from nltk import PorterStemmer\n",
        "stemmer=PorterStemmer()"
      ],
      "execution_count": 19,
      "outputs": [
        {
          "output_type": "stream",
          "text": [
            "[nltk_data] Downloading package wordnet to /root/nltk_data...\n",
            "[nltk_data]   Unzipping corpora/wordnet.zip.\n"
          ],
          "name": "stdout"
        }
      ]
    },
    {
      "cell_type": "markdown",
      "metadata": {
        "id": "jfSLejlBlxTi"
      },
      "source": [
        "**Lematization**"
      ]
    },
    {
      "cell_type": "code",
      "metadata": {
        "id": "oONG8jcZlmg3"
      },
      "source": [
        "def lemmatize_stemming(text):\n",
        "    return stemmer.stem(WordNetLemmatizer().lemmatize(text, pos='v'))\n",
        "def preprocess(text):\n",
        "    result = []\n",
        "    for token in gensim.utils.simple_preprocess(text):\n",
        "        if token not in gensim.parsing.preprocessing.STOPWORDS and len(token) > 3:\n",
        "            result.append(lemmatize_stemming(token))\n",
        "    return result"
      ],
      "execution_count": 21,
      "outputs": []
    },
    {
      "cell_type": "code",
      "metadata": {
        "colab": {
          "base_uri": "https://localhost:8080/"
        },
        "id": "VorMVdvf68YY",
        "outputId": "6ed469d5-0b24-44ba-9d5a-fb530a6554b6"
      },
      "source": [
        "documents.shape"
      ],
      "execution_count": 23,
      "outputs": [
        {
          "output_type": "execute_result",
          "data": {
            "text/plain": [
              "(9269, 2)"
            ]
          },
          "metadata": {
            "tags": []
          },
          "execution_count": 23
        }
      ]
    },
    {
      "cell_type": "code",
      "metadata": {
        "colab": {
          "base_uri": "https://localhost:8080/"
        },
        "id": "XNjh6f7Jl1cp",
        "outputId": "f78df24f-262b-4486-e73c-129fe71bd11a"
      },
      "source": [
        "doc_sample = documents[documents['index'] == 9000].values[0][0]\n",
        "print('original document: ')\n",
        "words = []\n",
        "for word in doc_sample.split(' '):\n",
        "    words.append(word)\n",
        "print(words)\n",
        "print('\\n\\n tokenized and lemmatized document: ')\n",
        "print(preprocess(doc_sample))"
      ],
      "execution_count": 25,
      "outputs": [
        {
          "output_type": "stream",
          "text": [
            "original document: \n",
            "['tasmanian', 'student', 'ends', 'anti', 'war', 'hunger', 'strike']\n",
            "\n",
            "\n",
            " tokenized and lemmatized document: \n",
            "['tasmanian', 'student', 'end', 'anti', 'hunger', 'strike']\n"
          ],
          "name": "stdout"
        }
      ]
    },
    {
      "cell_type": "markdown",
      "metadata": {
        "id": "pquEp9ASoasp"
      },
      "source": [
        "> Preprocess the headline text, saving the results as ‘processed_docs’"
      ]
    },
    {
      "cell_type": "code",
      "metadata": {
        "colab": {
          "base_uri": "https://localhost:8080/"
        },
        "id": "3_K1jQo-l52U",
        "outputId": "6f0c3d6a-2c2a-44fb-be08-b074d481d8cf"
      },
      "source": [
        "processed_docs = documents['headline_text'].map(preprocess)\n",
        "processed_docs[:10]"
      ],
      "execution_count": 26,
      "outputs": [
        {
          "output_type": "execute_result",
          "data": {
            "text/plain": [
              "0               [decid, commun, broadcast, licenc]\n",
              "1                               [wit, awar, defam]\n",
              "2           [call, infrastructur, protect, summit]\n",
              "3                      [staff, aust, strike, rise]\n",
              "4             [strike, affect, australian, travel]\n",
              "5               [ambiti, olsson, win, tripl, jump]\n",
              "6           [antic, delight, record, break, barca]\n",
              "7    [aussi, qualifi, stosur, wast, memphi, match]\n",
              "8            [aust, address, secur, council, iraq]\n",
              "9                         [australia, lock, timet]\n",
              "Name: headline_text, dtype: object"
            ]
          },
          "metadata": {
            "tags": []
          },
          "execution_count": 26
        }
      ]
    },
    {
      "cell_type": "markdown",
      "metadata": {
        "id": "R5bz2On1oj12"
      },
      "source": [
        "## Bag of Words on the Data set"
      ]
    },
    {
      "cell_type": "markdown",
      "metadata": {
        "id": "ssE5Vq4vol-W"
      },
      "source": [
        ">>\n",
        "Create a dictionary from ‘processed_docs’ containing the number of times a word appears in the training set."
      ]
    },
    {
      "cell_type": "code",
      "metadata": {
        "colab": {
          "base_uri": "https://localhost:8080/"
        },
        "id": "Hc6YDM7gocGY",
        "outputId": "deadf363-2c9f-4627-8781-85acf33ac07a"
      },
      "source": [
        "dictionary = gensim.corpora.Dictionary(processed_docs)\n",
        "count = 0\n",
        "for k, v in dictionary.iteritems():\n",
        "    print(k, v)\n",
        "    count += 1\n",
        "    if count > 10:\n",
        "        break"
      ],
      "execution_count": 27,
      "outputs": [
        {
          "output_type": "stream",
          "text": [
            "0 broadcast\n",
            "1 commun\n",
            "2 decid\n",
            "3 licenc\n",
            "4 awar\n",
            "5 defam\n",
            "6 wit\n",
            "7 call\n",
            "8 infrastructur\n",
            "9 protect\n",
            "10 summit\n"
          ],
          "name": "stdout"
        }
      ]
    },
    {
      "cell_type": "markdown",
      "metadata": {
        "id": "qHGMsS39o7wy"
      },
      "source": [
        "**Gensim filter_extremes**\n",
        ">>\n",
        "Filter out tokens that appear in:\n",
        ">>\n",
        "* less than 15 documents (absolute number) or\n",
        ">>\n",
        "* more than 0.5 documents (fraction of total corpus size, not absolute number).\n",
        ">>\n",
        "* after the above two steps, keep only the first 100000 most frequent tokens."
      ]
    },
    {
      "cell_type": "code",
      "metadata": {
        "id": "qm-V8H-uov7W"
      },
      "source": [
        "dictionary.filter_extremes(no_below=15, no_above=0.5, keep_n=100000)"
      ],
      "execution_count": 28,
      "outputs": []
    },
    {
      "cell_type": "markdown",
      "metadata": {
        "id": "cc3SenzRpZn0"
      },
      "source": [
        "## Gensim doc2bow"
      ]
    },
    {
      "cell_type": "markdown",
      "metadata": {
        "id": "sQyvsEQqpW4T"
      },
      "source": [
        ">>\n",
        "For each document we create a dictionary reporting how many\n",
        "words and how many times those words appear. Save this to ‘bow_corpus’, then check our selected document earlier."
      ]
    },
    {
      "cell_type": "code",
      "metadata": {
        "colab": {
          "base_uri": "https://localhost:8080/"
        },
        "id": "yoKiM9xypQPo",
        "outputId": "56e4932f-e0a4-45c4-b309-6fb28c7836ff"
      },
      "source": [
        "bow_corpus = [dictionary.doc2bow(doc) for doc in processed_docs]\n",
        "bow_corpus[4310]"
      ],
      "execution_count": 29,
      "outputs": [
        {
          "output_type": "execute_result",
          "data": {
            "text/plain": [
              "[(43, 1), (60, 1), (258, 1)]"
            ]
          },
          "metadata": {
            "tags": []
          },
          "execution_count": 29
        }
      ]
    },
    {
      "cell_type": "markdown",
      "metadata": {
        "id": "fsFvSA58sY0Z"
      },
      "source": [
        "**Preview Bag Of Words for our sample preprocessed document.**"
      ]
    },
    {
      "cell_type": "code",
      "metadata": {
        "colab": {
          "base_uri": "https://localhost:8080/"
        },
        "id": "Tcie1RH4petF",
        "outputId": "c1c89c1a-5d2d-48f7-a981-89b7b8cd8732"
      },
      "source": [
        "bow_doc = bow_corpus[9000]\n",
        "for i in range(len(bow_doc)):\n",
        "    print(\"Word {} (\\\"{}\\\") appears {} time.\".format(bow_doc[i][0], \n",
        "                                               dictionary[bow_doc[i][0]], \n",
        "bow_doc[i][1]))"
      ],
      "execution_count": 32,
      "outputs": [
        {
          "output_type": "stream",
          "text": [
            "Word 8 (\"strike\") appears 1 time.\n",
            "Word 215 (\"student\") appears 1 time.\n",
            "Word 261 (\"anti\") appears 1 time.\n",
            "Word 292 (\"tasmanian\") appears 1 time.\n",
            "Word 488 (\"end\") appears 1 time.\n"
          ],
          "name": "stdout"
        }
      ]
    },
    {
      "cell_type": "markdown",
      "metadata": {
        "id": "0XH46vchsiD0"
      },
      "source": [
        "## TF-IDF"
      ]
    },
    {
      "cell_type": "markdown",
      "metadata": {
        "id": "OEjFl3XKsfqU"
      },
      "source": [
        ">>\n",
        "Create tf-idf model object using models.TfidfModel on ‘bow_corpus’ and save it to ‘tfidf’, then apply transformation to the entire corpus and call it ‘corpus_tfidf’. Finally we preview TF-IDF scores for our first document."
      ]
    },
    {
      "cell_type": "code",
      "metadata": {
        "colab": {
          "base_uri": "https://localhost:8080/"
        },
        "id": "YL3RlO4tscnu",
        "outputId": "6e9bcbf2-8610-40fc-df6a-ff0d19453484"
      },
      "source": [
        "from gensim import corpora, models\n",
        "tfidf = models.TfidfModel(bow_corpus)\n",
        "corpus_tfidf = tfidf[bow_corpus]\n",
        "from pprint import pprint\n",
        "for doc in corpus_tfidf:\n",
        "    pprint(doc)\n",
        "    break"
      ],
      "execution_count": 33,
      "outputs": [
        {
          "output_type": "stream",
          "text": [
            "[(0, 0.6388391606013308), (1, 0.7693403192880164)]\n"
          ],
          "name": "stdout"
        }
      ]
    },
    {
      "cell_type": "markdown",
      "metadata": {
        "id": "un4ZYyBqssYX"
      },
      "source": [
        "## Running LDA using Bag of Words"
      ]
    },
    {
      "cell_type": "markdown",
      "metadata": {
        "id": "EROU9gEEsqb1"
      },
      "source": [
        ">>\n",
        "Train our lda model using gensim.models.LdaMulticore and save it to ‘lda_model’"
      ]
    },
    {
      "cell_type": "code",
      "metadata": {
        "id": "JnQNaEXxsmhP"
      },
      "source": [
        "lda_model = gensim.models.LdaMulticore(bow_corpus, num_topics=10, id2word=dictionary, passes=2, workers=2)"
      ],
      "execution_count": 34,
      "outputs": []
    },
    {
      "cell_type": "markdown",
      "metadata": {
        "id": "fgABOOnTs0We"
      },
      "source": [
        ">>\n",
        "For each topic, we will explore the words occuring in that topic and its relative weight."
      ]
    },
    {
      "cell_type": "code",
      "metadata": {
        "colab": {
          "base_uri": "https://localhost:8080/"
        },
        "id": "5FJbBIN8sxGs",
        "outputId": "cb39e8de-ca20-456f-fe0f-d324a3a707b7"
      },
      "source": [
        "for idx, topic in lda_model.print_topics(-1):\n",
        "    print('Topic: {} \\nWords: {}'.format(idx, topic))"
      ],
      "execution_count": 35,
      "outputs": [
        {
          "output_type": "stream",
          "text": [
            "Topic: 0 \n",
            "Words: 0.050*\"plan\" + 0.022*\"welcom\" + 0.021*\"say\" + 0.019*\"support\" + 0.015*\"coast\" + 0.015*\"iraq\" + 0.013*\"hospit\" + 0.011*\"offer\" + 0.011*\"terror\" + 0.010*\"rail\"\n",
            "Topic: 1 \n",
            "Words: 0.029*\"warn\" + 0.026*\"iraqi\" + 0.017*\"forc\" + 0.016*\"kill\" + 0.015*\"govt\" + 0.014*\"dead\" + 0.014*\"iraq\" + 0.013*\"tour\" + 0.012*\"hit\" + 0.012*\"report\"\n",
            "Topic: 2 \n",
            "Words: 0.036*\"govt\" + 0.017*\"england\" + 0.016*\"bushfir\" + 0.016*\"rain\" + 0.016*\"fund\" + 0.015*\"iraq\" + 0.014*\"concern\" + 0.014*\"centr\" + 0.013*\"boost\" + 0.013*\"charg\"\n",
            "Topic: 3 \n",
            "Words: 0.035*\"iraq\" + 0.031*\"troop\" + 0.017*\"iraqi\" + 0.017*\"aust\" + 0.016*\"attack\" + 0.016*\"council\" + 0.015*\"kill\" + 0.014*\"confid\" + 0.014*\"suicid\" + 0.012*\"rise\"\n",
            "Topic: 4 \n",
            "Words: 0.023*\"council\" + 0.020*\"australian\" + 0.016*\"elect\" + 0.016*\"critic\" + 0.015*\"kill\" + 0.014*\"suspect\" + 0.014*\"charg\" + 0.014*\"minist\" + 0.013*\"crash\" + 0.012*\"polic\"\n",
            "Topic: 5 \n",
            "Words: 0.051*\"protest\" + 0.040*\"anti\" + 0.022*\"meet\" + 0.017*\"secur\" + 0.016*\"polic\" + 0.015*\"charg\" + 0.014*\"shoot\" + 0.013*\"raid\" + 0.013*\"return\" + 0.012*\"talk\"\n",
            "Topic: 6 \n",
            "Words: 0.024*\"miss\" + 0.023*\"plan\" + 0.017*\"test\" + 0.016*\"iraq\" + 0.016*\"hold\" + 0.015*\"govt\" + 0.014*\"polic\" + 0.014*\"crash\" + 0.014*\"die\" + 0.014*\"sar\"\n",
            "Topic: 7 \n",
            "Words: 0.044*\"polic\" + 0.026*\"death\" + 0.020*\"world\" + 0.018*\"open\" + 0.016*\"get\" + 0.016*\"water\" + 0.014*\"look\" + 0.014*\"take\" + 0.013*\"help\" + 0.012*\"court\"\n",
            "Topic: 8 \n",
            "Words: 0.046*\"face\" + 0.020*\"govt\" + 0.019*\"claim\" + 0.015*\"court\" + 0.014*\"urg\" + 0.013*\"power\" + 0.012*\"iraqi\" + 0.011*\"sar\" + 0.011*\"charg\" + 0.010*\"doubl\"\n",
            "Topic: 9 \n",
            "Words: 0.083*\"iraq\" + 0.039*\"baghdad\" + 0.020*\"report\" + 0.016*\"say\" + 0.012*\"australia\" + 0.012*\"deni\" + 0.012*\"bomb\" + 0.012*\"coalit\" + 0.011*\"urg\" + 0.011*\"water\"\n"
          ],
          "name": "stdout"
        }
      ]
    },
    {
      "cell_type": "markdown",
      "metadata": {
        "id": "khJTFUUmtDnO"
      },
      "source": [
        "> We can now distinguish different topics using the words in each topic and their corresponding weights.\n"
      ]
    },
    {
      "cell_type": "markdown",
      "metadata": {
        "id": "NSPZkwUgtQZ1"
      },
      "source": [
        "## Running LDA using TF-IDF"
      ]
    },
    {
      "cell_type": "code",
      "metadata": {
        "colab": {
          "base_uri": "https://localhost:8080/"
        },
        "id": "OiErjhVGs4A5",
        "outputId": "1d115fb9-11eb-49fc-cda9-7cdb7110af89"
      },
      "source": [
        "lda_model_tfidf = gensim.models.LdaMulticore(corpus_tfidf, num_topics=10, id2word=dictionary, passes=2, workers=4)\n",
        "for idx, topic in lda_model_tfidf.print_topics(-1):\n",
        "    print('Topic: {} Word: {}'.format(idx, topic))"
      ],
      "execution_count": 36,
      "outputs": [
        {
          "output_type": "stream",
          "text": [
            "Topic: 0 Word: 0.015*\"rise\" + 0.015*\"rain\" + 0.015*\"death\" + 0.013*\"jail\" + 0.012*\"servic\" + 0.012*\"fund\" + 0.010*\"kill\" + 0.010*\"green\" + 0.009*\"farmer\" + 0.008*\"blue\"\n",
            "Topic: 1 Word: 0.032*\"iraq\" + 0.023*\"say\" + 0.013*\"seek\" + 0.012*\"saddam\" + 0.011*\"howard\" + 0.011*\"strike\" + 0.010*\"team\" + 0.009*\"coast\" + 0.009*\"australia\" + 0.009*\"gold\"\n",
            "Topic: 2 Word: 0.020*\"report\" + 0.020*\"govt\" + 0.014*\"aust\" + 0.013*\"deni\" + 0.013*\"warn\" + 0.012*\"claim\" + 0.010*\"iraq\" + 0.010*\"releas\" + 0.010*\"take\" + 0.009*\"titl\"\n",
            "Topic: 3 Word: 0.032*\"plan\" + 0.015*\"urg\" + 0.014*\"minist\" + 0.012*\"govt\" + 0.012*\"offer\" + 0.012*\"remain\" + 0.010*\"confid\" + 0.009*\"crash\" + 0.009*\"die\" + 0.009*\"water\"\n",
            "Topic: 4 Word: 0.021*\"miss\" + 0.013*\"injur\" + 0.011*\"port\" + 0.011*\"call\" + 0.010*\"hold\" + 0.010*\"council\" + 0.010*\"open\" + 0.010*\"hospit\" + 0.009*\"shark\" + 0.009*\"vote\"\n",
            "Topic: 5 Word: 0.014*\"get\" + 0.013*\"polic\" + 0.012*\"worker\" + 0.011*\"return\" + 0.010*\"bushfir\" + 0.010*\"search\" + 0.010*\"break\" + 0.009*\"fund\" + 0.009*\"anti\" + 0.009*\"match\"\n",
            "Topic: 6 Word: 0.030*\"polic\" + 0.014*\"warn\" + 0.013*\"fight\" + 0.012*\"win\" + 0.012*\"investig\" + 0.010*\"court\" + 0.010*\"kill\" + 0.010*\"protest\" + 0.010*\"anti\" + 0.009*\"want\"\n",
            "Topic: 7 Word: 0.019*\"baghdad\" + 0.019*\"iraqi\" + 0.016*\"world\" + 0.015*\"lead\" + 0.012*\"forc\" + 0.011*\"england\" + 0.009*\"melbourn\" + 0.009*\"bomb\" + 0.009*\"say\" + 0.008*\"iraq\"\n",
            "Topic: 8 Word: 0.020*\"iraq\" + 0.019*\"protest\" + 0.014*\"meet\" + 0.013*\"record\" + 0.012*\"home\" + 0.012*\"open\" + 0.011*\"face\" + 0.010*\"plan\" + 0.010*\"support\" + 0.010*\"fear\"\n",
            "Topic: 9 Word: 0.027*\"charg\" + 0.019*\"final\" + 0.015*\"season\" + 0.010*\"shoot\" + 0.010*\"chang\" + 0.010*\"hit\" + 0.010*\"face\" + 0.009*\"question\" + 0.009*\"draw\" + 0.009*\"iraq\"\n"
          ],
          "name": "stdout"
        }
      ]
    },
    {
      "cell_type": "markdown",
      "metadata": {
        "id": "wwlJz2gEtXCH"
      },
      "source": [
        "> We can distinguish different topics using the words in each topic and their corresponding weights."
      ]
    },
    {
      "cell_type": "markdown",
      "metadata": {
        "id": "Cy8e0dmathrS"
      },
      "source": [
        "## Performance evaluation by classifying sample document using LDA Bag of Words model"
      ]
    },
    {
      "cell_type": "code",
      "metadata": {
        "colab": {
          "base_uri": "https://localhost:8080/"
        },
        "id": "jFtZjWPitS_Y",
        "outputId": "900b3d79-7b2a-4a4c-bcf9-e19c7a6a71c7"
      },
      "source": [
        "processed_docs[9000]"
      ],
      "execution_count": 39,
      "outputs": [
        {
          "output_type": "execute_result",
          "data": {
            "text/plain": [
              "['tasmanian', 'student', 'end', 'anti', 'hunger', 'strike']"
            ]
          },
          "metadata": {
            "tags": []
          },
          "execution_count": 39
        }
      ]
    },
    {
      "cell_type": "code",
      "metadata": {
        "colab": {
          "base_uri": "https://localhost:8080/"
        },
        "id": "M8j7yKgytmtd",
        "outputId": "0946b67c-35a1-4fee-c6ae-92a02db51901"
      },
      "source": [
        "for index, score in sorted(lda_model[bow_corpus[4310]], key=lambda tup: -1*tup[1]):\n",
        "    print(\"\\nScore: {}\\t \\nTopic: {}\".format(score, lda_model.print_topic(index, 10)))"
      ],
      "execution_count": 40,
      "outputs": [
        {
          "output_type": "stream",
          "text": [
            "\n",
            "Score: 0.5248236060142517\t \n",
            "Topic: 0.036*\"govt\" + 0.017*\"england\" + 0.016*\"bushfir\" + 0.016*\"rain\" + 0.016*\"fund\" + 0.015*\"iraq\" + 0.014*\"concern\" + 0.014*\"centr\" + 0.013*\"boost\" + 0.013*\"charg\"\n",
            "\n",
            "Score: 0.2751636505126953\t \n",
            "Topic: 0.044*\"polic\" + 0.026*\"death\" + 0.020*\"world\" + 0.018*\"open\" + 0.016*\"get\" + 0.016*\"water\" + 0.014*\"look\" + 0.014*\"take\" + 0.013*\"help\" + 0.012*\"court\"\n",
            "\n",
            "Score: 0.025004133582115173\t \n",
            "Topic: 0.051*\"protest\" + 0.040*\"anti\" + 0.022*\"meet\" + 0.017*\"secur\" + 0.016*\"polic\" + 0.015*\"charg\" + 0.014*\"shoot\" + 0.013*\"raid\" + 0.013*\"return\" + 0.012*\"talk\"\n",
            "\n",
            "Score: 0.025003252550959587\t \n",
            "Topic: 0.050*\"plan\" + 0.022*\"welcom\" + 0.021*\"say\" + 0.019*\"support\" + 0.015*\"coast\" + 0.015*\"iraq\" + 0.013*\"hospit\" + 0.011*\"offer\" + 0.011*\"terror\" + 0.010*\"rail\"\n",
            "\n",
            "Score: 0.02500160224735737\t \n",
            "Topic: 0.023*\"council\" + 0.020*\"australian\" + 0.016*\"elect\" + 0.016*\"critic\" + 0.015*\"kill\" + 0.014*\"suspect\" + 0.014*\"charg\" + 0.014*\"minist\" + 0.013*\"crash\" + 0.012*\"polic\"\n",
            "\n",
            "Score: 0.025001272559165955\t \n",
            "Topic: 0.029*\"warn\" + 0.026*\"iraqi\" + 0.017*\"forc\" + 0.016*\"kill\" + 0.015*\"govt\" + 0.014*\"dead\" + 0.014*\"iraq\" + 0.013*\"tour\" + 0.012*\"hit\" + 0.012*\"report\"\n",
            "\n",
            "Score: 0.025000961497426033\t \n",
            "Topic: 0.046*\"face\" + 0.020*\"govt\" + 0.019*\"claim\" + 0.015*\"court\" + 0.014*\"urg\" + 0.013*\"power\" + 0.012*\"iraqi\" + 0.011*\"sar\" + 0.011*\"charg\" + 0.010*\"doubl\"\n",
            "\n",
            "Score: 0.02500062994658947\t \n",
            "Topic: 0.083*\"iraq\" + 0.039*\"baghdad\" + 0.020*\"report\" + 0.016*\"say\" + 0.012*\"australia\" + 0.012*\"deni\" + 0.012*\"bomb\" + 0.012*\"coalit\" + 0.011*\"urg\" + 0.011*\"water\"\n",
            "\n",
            "Score: 0.02500048466026783\t \n",
            "Topic: 0.035*\"iraq\" + 0.031*\"troop\" + 0.017*\"iraqi\" + 0.017*\"aust\" + 0.016*\"attack\" + 0.016*\"council\" + 0.015*\"kill\" + 0.014*\"confid\" + 0.014*\"suicid\" + 0.012*\"rise\"\n",
            "\n",
            "Score: 0.02500038594007492\t \n",
            "Topic: 0.024*\"miss\" + 0.023*\"plan\" + 0.017*\"test\" + 0.016*\"iraq\" + 0.016*\"hold\" + 0.015*\"govt\" + 0.014*\"polic\" + 0.014*\"crash\" + 0.014*\"die\" + 0.014*\"sar\"\n"
          ],
          "name": "stdout"
        }
      ]
    },
    {
      "cell_type": "markdown",
      "metadata": {
        "id": "cvJkuK5Bt6lg"
      },
      "source": [
        "> Our test document has the highest probability to be part of the topic that our model assigned, which is the accurate classification."
      ]
    },
    {
      "cell_type": "markdown",
      "metadata": {
        "id": "QHn_KyW-t-I5"
      },
      "source": [
        "## Performance evaluation by classifying sample document using LDA TF-IDF model."
      ]
    },
    {
      "cell_type": "code",
      "metadata": {
        "colab": {
          "base_uri": "https://localhost:8080/"
        },
        "id": "zK9foBYgtwh3",
        "outputId": "648a5e8a-9265-4070-8ef9-cc50041deb5b"
      },
      "source": [
        "for index, score in sorted(lda_model_tfidf[bow_corpus[4310]], key=lambda tup: -1*tup[1]):\n",
        "    print(\"\\nScore: {}\\t \\nTopic: {}\".format(score, lda_model_tfidf.print_topic(index, 10)))"
      ],
      "execution_count": 41,
      "outputs": [
        {
          "output_type": "stream",
          "text": [
            "\n",
            "Score: 0.5064266920089722\t \n",
            "Topic: 0.014*\"get\" + 0.013*\"polic\" + 0.012*\"worker\" + 0.011*\"return\" + 0.010*\"bushfir\" + 0.010*\"search\" + 0.010*\"break\" + 0.009*\"fund\" + 0.009*\"anti\" + 0.009*\"match\"\n",
            "\n",
            "Score: 0.2935522496700287\t \n",
            "Topic: 0.015*\"rise\" + 0.015*\"rain\" + 0.015*\"death\" + 0.013*\"jail\" + 0.012*\"servic\" + 0.012*\"fund\" + 0.010*\"kill\" + 0.010*\"green\" + 0.009*\"farmer\" + 0.008*\"blue\"\n",
            "\n",
            "Score: 0.025004150345921516\t \n",
            "Topic: 0.032*\"plan\" + 0.015*\"urg\" + 0.014*\"minist\" + 0.012*\"govt\" + 0.012*\"offer\" + 0.012*\"remain\" + 0.010*\"confid\" + 0.009*\"crash\" + 0.009*\"die\" + 0.009*\"water\"\n",
            "\n",
            "Score: 0.025003215298056602\t \n",
            "Topic: 0.021*\"miss\" + 0.013*\"injur\" + 0.011*\"port\" + 0.011*\"call\" + 0.010*\"hold\" + 0.010*\"council\" + 0.010*\"open\" + 0.010*\"hospit\" + 0.009*\"shark\" + 0.009*\"vote\"\n",
            "\n",
            "Score: 0.02500317059457302\t \n",
            "Topic: 0.020*\"report\" + 0.020*\"govt\" + 0.014*\"aust\" + 0.013*\"deni\" + 0.013*\"warn\" + 0.012*\"claim\" + 0.010*\"iraq\" + 0.010*\"releas\" + 0.010*\"take\" + 0.009*\"titl\"\n",
            "\n",
            "Score: 0.025003159418702126\t \n",
            "Topic: 0.030*\"polic\" + 0.014*\"warn\" + 0.013*\"fight\" + 0.012*\"win\" + 0.012*\"investig\" + 0.010*\"court\" + 0.010*\"kill\" + 0.010*\"protest\" + 0.010*\"anti\" + 0.009*\"want\"\n",
            "\n",
            "Score: 0.025002622976899147\t \n",
            "Topic: 0.027*\"charg\" + 0.019*\"final\" + 0.015*\"season\" + 0.010*\"shoot\" + 0.010*\"chang\" + 0.010*\"hit\" + 0.010*\"face\" + 0.009*\"question\" + 0.009*\"draw\" + 0.009*\"iraq\"\n",
            "\n",
            "Score: 0.02500242553651333\t \n",
            "Topic: 0.032*\"iraq\" + 0.023*\"say\" + 0.013*\"seek\" + 0.012*\"saddam\" + 0.011*\"howard\" + 0.011*\"strike\" + 0.010*\"team\" + 0.009*\"coast\" + 0.009*\"australia\" + 0.009*\"gold\"\n",
            "\n",
            "Score: 0.02500140108168125\t \n",
            "Topic: 0.019*\"baghdad\" + 0.019*\"iraqi\" + 0.016*\"world\" + 0.015*\"lead\" + 0.012*\"forc\" + 0.011*\"england\" + 0.009*\"melbourn\" + 0.009*\"bomb\" + 0.009*\"say\" + 0.008*\"iraq\"\n",
            "\n",
            "Score: 0.025000883266329765\t \n",
            "Topic: 0.020*\"iraq\" + 0.019*\"protest\" + 0.014*\"meet\" + 0.013*\"record\" + 0.012*\"home\" + 0.012*\"open\" + 0.011*\"face\" + 0.010*\"plan\" + 0.010*\"support\" + 0.010*\"fear\"\n"
          ],
          "name": "stdout"
        }
      ]
    },
    {
      "cell_type": "markdown",
      "metadata": {
        "id": "YCDepPwxuLlo"
      },
      "source": [
        "> Our test document has the highest probability to be part of the topic that our model assigned, which is the accurate classification."
      ]
    },
    {
      "cell_type": "markdown",
      "metadata": {
        "id": "3tjIU_dTuVkM"
      },
      "source": [
        "## Testing model on unseen document"
      ]
    },
    {
      "cell_type": "code",
      "metadata": {
        "colab": {
          "base_uri": "https://localhost:8080/"
        },
        "id": "2mFt6wuquEn6",
        "outputId": "66dfe8bd-10d8-4c9a-c455-6529a67da015"
      },
      "source": [
        "# unseen_document = 'How a Pentagon deal became an identity crisis for Google'\n",
        "\n",
        "unseen_document = input(\"Enter a sentence to identify the topic: \")\n",
        "\n",
        "bow_vector = dictionary.doc2bow(preprocess(unseen_document))\n",
        "for index, score in sorted(lda_model[bow_vector], key=lambda tup: -1*tup[1]):\n",
        "    print(\"Score: {}\\t Topic: {}\".format(score, lda_model.print_topic(index, 5)))"
      ],
      "execution_count": 42,
      "outputs": [
        {
          "output_type": "stream",
          "text": [
            "Enter a sentence to identify the topic: The rebels in the Donbas region of eastern Ukraine also rely on Russian help. Western governments say Russia has deployed regular troops there, along with heavy weapons. That is denied by the Kremlin, which says Russian \"volunteers\" are helping the rebels, who seized a swathe of the Donetsk and Luhansk regions in April 2014\n",
            "Score: 0.4207592010498047\t Topic: 0.044*\"polic\" + 0.026*\"death\" + 0.020*\"world\" + 0.018*\"open\" + 0.016*\"get\"\n",
            "Score: 0.26123395562171936\t Topic: 0.083*\"iraq\" + 0.039*\"baghdad\" + 0.020*\"report\" + 0.016*\"say\" + 0.012*\"australia\"\n",
            "Score: 0.24798600375652313\t Topic: 0.035*\"iraq\" + 0.031*\"troop\" + 0.017*\"iraqi\" + 0.017*\"aust\" + 0.016*\"attack\"\n",
            "Score: 0.010005224496126175\t Topic: 0.036*\"govt\" + 0.017*\"england\" + 0.016*\"bushfir\" + 0.016*\"rain\" + 0.016*\"fund\"\n",
            "Score: 0.010003713890910149\t Topic: 0.050*\"plan\" + 0.022*\"welcom\" + 0.021*\"say\" + 0.019*\"support\" + 0.015*\"coast\"\n",
            "Score: 0.010002924129366875\t Topic: 0.046*\"face\" + 0.020*\"govt\" + 0.019*\"claim\" + 0.015*\"court\" + 0.014*\"urg\"\n",
            "Score: 0.010002913884818554\t Topic: 0.023*\"council\" + 0.020*\"australian\" + 0.016*\"elect\" + 0.016*\"critic\" + 0.015*\"kill\"\n",
            "Score: 0.010002551600337029\t Topic: 0.029*\"warn\" + 0.026*\"iraqi\" + 0.017*\"forc\" + 0.016*\"kill\" + 0.015*\"govt\"\n",
            "Score: 0.010001999326050282\t Topic: 0.051*\"protest\" + 0.040*\"anti\" + 0.022*\"meet\" + 0.017*\"secur\" + 0.016*\"polic\"\n",
            "Score: 0.01000150851905346\t Topic: 0.024*\"miss\" + 0.023*\"plan\" + 0.017*\"test\" + 0.016*\"iraq\" + 0.016*\"hold\"\n"
          ],
          "name": "stdout"
        }
      ]
    },
    {
      "cell_type": "code",
      "metadata": {
        "id": "fkgQtjXtxKBk"
      },
      "source": [
        ""
      ],
      "execution_count": null,
      "outputs": []
    }
  ]
}