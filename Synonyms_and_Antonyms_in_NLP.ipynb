{
  "nbformat": 4,
  "nbformat_minor": 0,
  "metadata": {
    "colab": {
      "name": "Synonyms and Antonyms in NLP",
      "provenance": [],
      "authorship_tag": "ABX9TyMEKinfgD4CCQ2IBFjXTkxR",
      "include_colab_link": true
    },
    "kernelspec": {
      "name": "python3",
      "display_name": "Python 3"
    }
  },
  "cells": [
    {
      "cell_type": "markdown",
      "metadata": {
        "id": "view-in-github",
        "colab_type": "text"
      },
      "source": [
        "<a href=\"https://colab.research.google.com/github/Paul-mwaura/Natural-Language-Processing/blob/main/Synonyms_and_Antonyms_in_NLP.ipynb\" target=\"_parent\"><img src=\"https://colab.research.google.com/assets/colab-badge.svg\" alt=\"Open In Colab\"/></a>"
      ]
    },
    {
      "cell_type": "markdown",
      "metadata": {
        "id": "ukdxA0A_c891"
      },
      "source": [
        "# Synonyms and Antonyms in NLP"
      ]
    },
    {
      "cell_type": "code",
      "metadata": {
        "colab": {
          "base_uri": "https://localhost:8080/"
        },
        "id": "52vp5RRMaGuU",
        "outputId": "2ef9cd54-179e-491c-ecc7-b123c222baf7"
      },
      "source": [
        "import nltk\n",
        "from nltk.corpus import wordnet\n",
        "\n",
        "nltk.download('wordnet')\n",
        "\n",
        "syns = wordnet.synsets(\"dog\")\n",
        "print(syns)"
      ],
      "execution_count": 4,
      "outputs": [
        {
          "output_type": "stream",
          "text": [
            "[nltk_data] Downloading package wordnet to /root/nltk_data...\n",
            "[nltk_data]   Package wordnet is already up-to-date!\n",
            "[Synset('dog.n.01'), Synset('frump.n.01'), Synset('dog.n.03'), Synset('cad.n.01'), Synset('frank.n.02'), Synset('pawl.n.01'), Synset('andiron.n.01'), Synset('chase.v.01')]\n"
          ],
          "name": "stdout"
        }
      ]
    },
    {
      "cell_type": "code",
      "metadata": {
        "colab": {
          "base_uri": "https://localhost:8080/"
        },
        "id": "Z_gkTrOHaK2X",
        "outputId": "faa0e9f3-da00-41d8-b37c-2a6ae9125d36"
      },
      "source": [
        "synonyms = []\n",
        "antonyms = []\n",
        "\n",
        "for syn in wordnet.synsets(\"sad\"):\n",
        "    for l in syn.lemmas():\n",
        "        synonyms.append(l.name())\n",
        "        if l.antonyms():\n",
        "            antonyms.append(l.antonyms()[0].name())\n",
        "print(\"\\nSet of synonyms of the said word:\")\n",
        "print(set(synonyms))\n",
        "print(\"\\nSet of antonyms of the said word:\")\n",
        "print(set(antonyms))\n",
        "\n",
        "synset = wordnet.synsets(\"sad\")\n",
        "print('\\nThe meaning of the word : ' + synset[0].definition())"
      ],
      "execution_count": 24,
      "outputs": [
        {
          "output_type": "stream",
          "text": [
            "\n",
            "Set of synonyms of the said word:\n",
            "{'distressing', 'sad', 'deplorable', 'lamentable', 'pitiful', 'sorry'}\n",
            "\n",
            "Set of antonyms of the said word:\n",
            "{'glad'}\n",
            "\n",
            "The meaning of the word : experiencing or showing sorrow or unhappiness\n"
          ],
          "name": "stdout"
        }
      ]
    },
    {
      "cell_type": "markdown",
      "metadata": {
        "id": "fgV_Ant-cNx5"
      },
      "source": [
        "Wordnet is a corpus, so it is imported from the ntlk.corpus\n",
        "\n",
        "List of both synonym and antonym is taken as empty which will be used for appending\n",
        "\n",
        "Synonyms of the word active are searched in the module synsets and are appended in the list synonyms. The same process is repeated for the second one.\n",
        "\n",
        "Output is printed"
      ]
    },
    {
      "cell_type": "markdown",
      "metadata": {
        "id": "BdIo-6D7cknF"
      },
      "source": [
        "#### **NOTE**\n",
        "\n",
        "WordNet also provides information on co-ordinate terms, derivates, senses and more. It is used to find the similarities between any two words. It also holds information on the results of the related word. In short or nutshell one can treat it as Dictionary or Thesaurus. Going deeper in wordnet, it is divided into four total subnets such as\n",
        "\n",
        "* Noun\n",
        "* Verb\n",
        "* Adjective\n",
        "* Adverb\n",
        "\n",
        "It can be used in the area of artificial intelligence for text analysis. With the help of Wordnet, you can create your corpus for spelling checking, language translation, Spam detection and many more.\n",
        "\n",
        "In the same way, you can use this corpus and mold it to work some dynamic functionality. This is just like ready to made corpus for you. You can use it in your way."
      ]
    },
    {
      "cell_type": "markdown",
      "metadata": {
        "id": "bbBpc2eadHpY"
      },
      "source": [
        "### From Inputs\n",
        "\n",
        "> Here we will take an input then return the synonym and it's antonym."
      ]
    },
    {
      "cell_type": "code",
      "metadata": {
        "colab": {
          "base_uri": "https://localhost:8080/"
        },
        "id": "ZHsUh3nUayof",
        "outputId": "da2bebd4-f785-4f66-bade-0078c17852f5"
      },
      "source": [
        "synonyms = []\n",
        "antonyms = []\n",
        "\n",
        "print(\"Enter a word to find it's Synonym and Antonym.\")\n",
        "print(\"\\n------------------------------------------\\n\")\n",
        "\n",
        "def word_input():\n",
        "  word = input(\"Word: \")\n",
        "  print(\"\\n------------------------------------------\\n\")\n",
        "\n",
        "  for syn in wordnet.synsets(word):\n",
        "      for l in syn.lemmas():\n",
        "          synonyms.append(l.name())\n",
        "          if l.antonyms():\n",
        "              antonyms.append(l.antonyms()[0].name())\n",
        "  print(\"\\nSet of synonyms of the said word:\")\n",
        "  print(set(synonyms))\n",
        "  print(\"\\nSet of antonyms of the said word:\")\n",
        "  print(set(antonyms))\n",
        "  print(\"\\n------------------------------------------\\n\")\n",
        "  synset = wordnet.synsets(word)\n",
        "  print('The meaning of the word : ' + synset[0].definition())\n",
        "\n",
        "word_input()"
      ],
      "execution_count": 26,
      "outputs": [
        {
          "output_type": "stream",
          "text": [
            "Enter a word to find it's Synonym and Antonym.\n",
            "\n",
            "------------------------------------------\n",
            "\n",
            "Word: news\n",
            "\n",
            "------------------------------------------\n",
            "\n",
            "\n",
            "Set of synonyms of the said word:\n",
            "{'intelligence', 'tidings', 'word', 'news_program', 'newsworthiness', 'news_show', 'news'}\n",
            "\n",
            "Set of antonyms of the said word:\n",
            "set()\n",
            "\n",
            "------------------------------------------\n",
            "\n",
            "The meaning of the word : information about recent and important events\n"
          ],
          "name": "stdout"
        }
      ]
    },
    {
      "cell_type": "markdown",
      "metadata": {
        "id": "HWGYQd6zgzb4"
      },
      "source": [
        "### Creating a set of synonyms of a word."
      ]
    },
    {
      "cell_type": "code",
      "metadata": {
        "colab": {
          "base_uri": "https://localhost:8080/"
        },
        "id": "vRhiAENphT3X",
        "outputId": "721d6e57-dae8-4137-cf6a-8a57c83d2679"
      },
      "source": [
        "synonyms = wordnet.synsets('change')\n",
        "set(chain.from_iterable([word.lemma_names() for word in synonyms]))"
      ],
      "execution_count": 27,
      "outputs": [
        {
          "output_type": "execute_result",
          "data": {
            "text/plain": [
              "{'alter',\n",
              " 'alteration',\n",
              " 'change',\n",
              " 'commute',\n",
              " 'convert',\n",
              " 'deepen',\n",
              " 'exchange',\n",
              " 'interchange',\n",
              " 'modification',\n",
              " 'modify',\n",
              " 'shift',\n",
              " 'switch',\n",
              " 'transfer',\n",
              " 'variety',\n",
              " 'vary'}"
            ]
          },
          "metadata": {
            "tags": []
          },
          "execution_count": 27
        }
      ]
    },
    {
      "cell_type": "markdown",
      "metadata": {
        "id": "0zZ3SiHHjgdN"
      },
      "source": [
        "### Check for similarity between two words"
      ]
    },
    {
      "cell_type": "markdown",
      "metadata": {
        "id": "yttcHq7pkZtV"
      },
      "source": [
        "> Check the word types."
      ]
    },
    {
      "cell_type": "code",
      "metadata": {
        "colab": {
          "base_uri": "https://localhost:8080/"
        },
        "id": "pObmbdBtj3XY",
        "outputId": "46de602e-31d5-4eb7-cfcb-b5708a1e8cf5"
      },
      "source": [
        "words = ['Travel', 'Walk', 'Good', 'Zebra']\n",
        "\n",
        "for w in words:\n",
        "  synset = wordnet.synsets(w)\n",
        "  print('Word and Type : ' + synset[0].name())"
      ],
      "execution_count": 30,
      "outputs": [
        {
          "output_type": "stream",
          "text": [
            "Word and Type : travel.n.01\n",
            "Word and Type : walk.n.01\n",
            "Word and Type : good.n.01\n",
            "Word and Type : zebra.n.01\n"
          ],
          "name": "stdout"
        }
      ]
    },
    {
      "cell_type": "markdown",
      "metadata": {
        "id": "qKOxZ-pbkey7"
      },
      "source": [
        "> Check the similarity"
      ]
    },
    {
      "cell_type": "code",
      "metadata": {
        "colab": {
          "base_uri": "https://localhost:8080/"
        },
        "id": "0NfIPxn7h7qL",
        "outputId": "0801beff-64cc-4dfd-b180-9228049b8fee"
      },
      "source": [
        "# Example 1\n",
        "first = wordnet.synsets(\"Travel\")\n",
        "second = wordnet.synsets(\"Walk\")\n",
        "\n",
        "first_word = wordnet.synset(\"Travel.n.01\")\n",
        "second_word = wordnet.synset(\"Walk.n.01\")\n",
        "print('Similarity: ' + str(first_word.wup_similarity(second_word)))\n",
        "print(\"\\n------------------------------------------\\n\")\n",
        "print('The meaning of the word Travel : ' + first[0].definition())\n",
        "print('The meaning of the word Walk: ' + second[0].definition())\n",
        "print(\"\\n------------------------------------------\\n\")\n",
        "\n",
        "## Example 2\n",
        "first = wordnet.synsets(\"Good\")\n",
        "second = wordnet.synsets(\"Zebra\")\n",
        "\n",
        "first_word = wordnet.synset(\"Good.n.01\")\n",
        "second_word = wordnet.synset(\"Zebra.n.01\")\n",
        "print('Similarity: ' + str(first_word.wup_similarity(second_word)))\n",
        "print(\"\\n------------------------------------------\\n\")\n",
        "print('The meaning of the word Good: ' + first[0].definition())\n",
        "print('The meaning of the word Zebra: ' + second[0].definition())"
      ],
      "execution_count": 35,
      "outputs": [
        {
          "output_type": "stream",
          "text": [
            "Similarity: 0.8421052631578947\n",
            "\n",
            "------------------------------------------\n",
            "\n",
            "The meaning of the word Travel : the act of going from one place to another\n",
            "The meaning of the word Walk: the act of traveling by foot\n",
            "\n",
            "------------------------------------------\n",
            "\n",
            "Similarity: 0.09090909090909091\n",
            "\n",
            "------------------------------------------\n",
            "\n",
            "The meaning of the word Good: benefit\n",
            "The meaning of the word Zebra: any of several fleet black-and-white striped African equines\n"
          ],
          "name": "stdout"
        }
      ]
    },
    {
      "cell_type": "code",
      "metadata": {
        "id": "vmZ9fHXMjm1R"
      },
      "source": [
        ""
      ],
      "execution_count": null,
      "outputs": []
    }
  ]
}