{
  "nbformat": 4,
  "nbformat_minor": 0,
  "metadata": {
    "kernelspec": {
      "display_name": "Python 3",
      "language": "python",
      "name": "python3"
    },
    "language_info": {
      "codemirror_mode": {
        "name": "ipython",
        "version": 3
      },
      "file_extension": ".py",
      "mimetype": "text/x-python",
      "name": "python",
      "nbconvert_exporter": "python",
      "pygments_lexer": "ipython3",
      "version": "3.7.4"
    },
    "colab": {
      "name": "Sentiment Analysis(Text Polarity).ipynb",
      "provenance": [],
      "include_colab_link": true
    }
  },
  "cells": [
    {
      "cell_type": "markdown",
      "metadata": {
        "id": "view-in-github",
        "colab_type": "text"
      },
      "source": [
        "<a href=\"https://colab.research.google.com/github/Paul-mwaura/Natural-Language-Processing/blob/main/Sentiment_Analysis(Text_Polarity).ipynb\" target=\"_parent\"><img src=\"https://colab.research.google.com/assets/colab-badge.svg\" alt=\"Open In Colab\"/></a>"
      ]
    },
    {
      "cell_type": "markdown",
      "metadata": {
        "id": "f2WAdTQe6xq6"
      },
      "source": [
        "# Sentiment Analysis with twitter data  \n",
        "This project entails analyzing the sentiment associated with tweets on the current pandemic of covid-19.  \n",
        "The data is obtained from twitter using a script I designed,you may have a look at it [here.](https://github.com/lyraxvincent/twitter-tweepy/blob/master/tweetscrap.py) (with a few modifications of the script of course)  \n",
        "I modified the script to fit the needs:\n",
        "- Tweets obtained are only from the country Kenya\n",
        "- Tweets obtained are only in the English language\n",
        "- No retweets obtained\n",
        "\n",
        "I used the powerful text processing python module **TextBlob** for this task."
      ]
    },
    {
      "cell_type": "markdown",
      "metadata": {
        "id": "odWJgJlv6xq7"
      },
      "source": [
        "**Import necessary modules**"
      ]
    },
    {
      "cell_type": "code",
      "metadata": {
        "id": "phJz7pLr6xq8",
        "colab": {
          "base_uri": "https://localhost:8080/",
          "height": 70
        },
        "outputId": "ea22f841-a3f6-480f-8697-12bfbd082495"
      },
      "source": [
        "pip install textblob"
      ],
      "execution_count": null,
      "outputs": [
        {
          "output_type": "stream",
          "text": [
            "Requirement already satisfied: textblob in /usr/local/lib/python3.6/dist-packages (0.15.3)\n",
            "Requirement already satisfied: nltk>=3.1 in /usr/local/lib/python3.6/dist-packages (from textblob) (3.2.5)\n",
            "Requirement already satisfied: six in /usr/local/lib/python3.6/dist-packages (from nltk>=3.1->textblob) (1.12.0)\n"
          ],
          "name": "stdout"
        }
      ]
    },
    {
      "cell_type": "code",
      "metadata": {
        "id": "36Kv0N_o6xrC"
      },
      "source": [
        "import pandas as pd\n",
        "from textblob import TextBlob"
      ],
      "execution_count": null,
      "outputs": []
    },
    {
      "cell_type": "markdown",
      "metadata": {
        "id": "w0pU8fDc6xrH"
      },
      "source": [
        "Load the data"
      ]
    },
    {
      "cell_type": "code",
      "metadata": {
        "id": "N9teRYzA6xrH"
      },
      "source": [
        " tweets = pd.read_csv('covidKE tweets.csv')"
      ],
      "execution_count": null,
      "outputs": []
    },
    {
      "cell_type": "code",
      "metadata": {
        "scrolled": true,
        "id": "oOxPzBwy6xrL",
        "colab": {
          "base_uri": "https://localhost:8080/",
          "height": 197
        },
        "outputId": "070e635f-fc52-4c02-992b-fdf16895e4ad"
      },
      "source": [
        "tweets.head()"
      ],
      "execution_count": null,
      "outputs": [
        {
          "output_type": "execute_result",
          "data": {
            "text/html": [
              "<div>\n",
              "<style scoped>\n",
              "    .dataframe tbody tr th:only-of-type {\n",
              "        vertical-align: middle;\n",
              "    }\n",
              "\n",
              "    .dataframe tbody tr th {\n",
              "        vertical-align: top;\n",
              "    }\n",
              "\n",
              "    .dataframe thead th {\n",
              "        text-align: right;\n",
              "    }\n",
              "</style>\n",
              "<table border=\"1\" class=\"dataframe\">\n",
              "  <thead>\n",
              "    <tr style=\"text-align: right;\">\n",
              "      <th></th>\n",
              "      <th>tweet_id</th>\n",
              "      <th>text</th>\n",
              "      <th>created_at</th>\n",
              "      <th>likes</th>\n",
              "    </tr>\n",
              "  </thead>\n",
              "  <tbody>\n",
              "    <tr>\n",
              "      <th>0</th>\n",
              "      <td>1242123434466979841</td>\n",
              "      <td>Everyday might not be good but there's always ...</td>\n",
              "      <td>2020-03-23 16:17:58</td>\n",
              "      <td>1</td>\n",
              "    </tr>\n",
              "    <tr>\n",
              "      <th>1</th>\n",
              "      <td>1242123396684697603</td>\n",
              "      <td>The next one week 😷\\n\\n #coronaviruskenya</td>\n",
              "      <td>2020-03-23 16:17:49</td>\n",
              "      <td>0</td>\n",
              "    </tr>\n",
              "    <tr>\n",
              "      <th>2</th>\n",
              "      <td>1242123373188124673</td>\n",
              "      <td>#coronaviruskenya #LockdownNow #UhuruKenyatta ...</td>\n",
              "      <td>2020-03-23 16:17:44</td>\n",
              "      <td>0</td>\n",
              "    </tr>\n",
              "    <tr>\n",
              "      <th>3</th>\n",
              "      <td>1242086219519012867</td>\n",
              "      <td>Internet never forget we will remind you that ...</td>\n",
              "      <td>2020-03-23 13:50:06</td>\n",
              "      <td>0</td>\n",
              "    </tr>\n",
              "    <tr>\n",
              "      <th>4</th>\n",
              "      <td>1242123367882330113</td>\n",
              "      <td>@ntsa_kenya @DCI_Kenya #coronaviruskenya If on...</td>\n",
              "      <td>2020-03-23 16:17:43</td>\n",
              "      <td>0</td>\n",
              "    </tr>\n",
              "  </tbody>\n",
              "</table>\n",
              "</div>"
            ],
            "text/plain": [
              "              tweet_id  ... likes\n",
              "0  1242123434466979841  ...     1\n",
              "1  1242123396684697603  ...     0\n",
              "2  1242123373188124673  ...     0\n",
              "3  1242086219519012867  ...     0\n",
              "4  1242123367882330113  ...     0\n",
              "\n",
              "[5 rows x 4 columns]"
            ]
          },
          "metadata": {
            "tags": []
          },
          "execution_count": 4
        }
      ]
    },
    {
      "cell_type": "code",
      "metadata": {
        "id": "YwNPIoya6xrP",
        "colab": {
          "base_uri": "https://localhost:8080/",
          "height": 212
        },
        "outputId": "e7851ed1-8fe8-4664-94eb-5feab1592eb4"
      },
      "source": [
        "tweets.info()"
      ],
      "execution_count": null,
      "outputs": [
        {
          "output_type": "stream",
          "text": [
            "<class 'pandas.core.frame.DataFrame'>\n",
            "RangeIndex: 1190 entries, 0 to 1189\n",
            "Data columns (total 4 columns):\n",
            " #   Column      Non-Null Count  Dtype \n",
            "---  ------      --------------  ----- \n",
            " 0   tweet_id    1190 non-null   int64 \n",
            " 1   text        1190 non-null   object\n",
            " 2   created_at  1190 non-null   object\n",
            " 3   likes       1190 non-null   int64 \n",
            "dtypes: int64(2), object(2)\n",
            "memory usage: 37.3+ KB\n"
          ],
          "name": "stdout"
        }
      ]
    },
    {
      "cell_type": "markdown",
      "metadata": {
        "id": "lQdxrMYa6xrS"
      },
      "source": [
        "## Text Preprocessing\n",
        "\n",
        "We remove any special characters, punctuations and stopwords from the tweets."
      ]
    },
    {
      "cell_type": "code",
      "metadata": {
        "id": "CbKWaGT46xrT"
      },
      "source": [
        "import re\n",
        "import string\n",
        "from nltk.corpus import stopwords"
      ],
      "execution_count": null,
      "outputs": []
    },
    {
      "cell_type": "markdown",
      "metadata": {
        "id": "U26NQ0Fj6xrZ"
      },
      "source": [
        "Let's design a function for this task"
      ]
    },
    {
      "cell_type": "code",
      "metadata": {
        "id": "x_GIzYqh6xrZ"
      },
      "source": [
        "regex = re.compile('[^a-zA-Z]')\n",
        "def text_process(text):\n",
        "    np = text.lower().split('#coronaviruskenya') # Remove the hashtag\n",
        "    np = ''.join(np)\n",
        "    np = [c for c in np if c not in string.punctuation]\n",
        "    np = [c for c in np if c != '\\n'] # Removing newline\n",
        "    np = ''.join(np)\n",
        "    np = np.split('https')[0] # Remove links\n",
        "    np = regex.sub(' ', np) # Remove emojis and any non-letters\n",
        "    #np = [word for word in np.split() if word not in stopwords.words('english')] # Remove stopwords\n",
        "    return ' '.join(np)"
      ],
      "execution_count": null,
      "outputs": []
    },
    {
      "cell_type": "code",
      "metadata": {
        "id": "1j0ptplv6xrd"
      },
      "source": [
        "# Apply function to the text column\n",
        "# We will overwrite the text column (after testing the function on a single tweet)\n",
        "\n",
        "tweets['text'] = tweets['text'].apply(text_process)"
      ],
      "execution_count": null,
      "outputs": []
    },
    {
      "cell_type": "code",
      "metadata": {
        "id": "FFkmtZGV6xrf",
        "colab": {
          "base_uri": "https://localhost:8080/",
          "height": 197
        },
        "outputId": "fc25bd74-4693-48d2-8202-b7df99ada9c7"
      },
      "source": [
        "tweets.head()"
      ],
      "execution_count": null,
      "outputs": [
        {
          "output_type": "execute_result",
          "data": {
            "text/html": [
              "<div>\n",
              "<style scoped>\n",
              "    .dataframe tbody tr th:only-of-type {\n",
              "        vertical-align: middle;\n",
              "    }\n",
              "\n",
              "    .dataframe tbody tr th {\n",
              "        vertical-align: top;\n",
              "    }\n",
              "\n",
              "    .dataframe thead th {\n",
              "        text-align: right;\n",
              "    }\n",
              "</style>\n",
              "<table border=\"1\" class=\"dataframe\">\n",
              "  <thead>\n",
              "    <tr style=\"text-align: right;\">\n",
              "      <th></th>\n",
              "      <th>tweet_id</th>\n",
              "      <th>text</th>\n",
              "      <th>created_at</th>\n",
              "      <th>likes</th>\n",
              "    </tr>\n",
              "  </thead>\n",
              "  <tbody>\n",
              "    <tr>\n",
              "      <th>0</th>\n",
              "      <td>1242123434466979841</td>\n",
              "      <td>e v e r y d a y   m i g h t   n o t   b e   g ...</td>\n",
              "      <td>2020-03-23 16:17:58</td>\n",
              "      <td>1</td>\n",
              "    </tr>\n",
              "    <tr>\n",
              "      <th>1</th>\n",
              "      <td>1242123396684697603</td>\n",
              "      <td>t h e   n e x t   o n e   w e e k</td>\n",
              "      <td>2020-03-23 16:17:49</td>\n",
              "      <td>0</td>\n",
              "    </tr>\n",
              "    <tr>\n",
              "      <th>2</th>\n",
              "      <td>1242123373188124673</td>\n",
              "      <td>l o c k d o w n n o w   u h u r u k e n y a ...</td>\n",
              "      <td>2020-03-23 16:17:44</td>\n",
              "      <td>0</td>\n",
              "    </tr>\n",
              "    <tr>\n",
              "      <th>3</th>\n",
              "      <td>1242086219519012867</td>\n",
              "      <td>i n t e r n e t   n e v e r   f o r g e t   w ...</td>\n",
              "      <td>2020-03-23 13:50:06</td>\n",
              "      <td>0</td>\n",
              "    </tr>\n",
              "    <tr>\n",
              "      <th>4</th>\n",
              "      <td>1242123367882330113</td>\n",
              "      <td>n t s a k e n y a   d c i k e n y a     i f   ...</td>\n",
              "      <td>2020-03-23 16:17:43</td>\n",
              "      <td>0</td>\n",
              "    </tr>\n",
              "  </tbody>\n",
              "</table>\n",
              "</div>"
            ],
            "text/plain": [
              "              tweet_id  ... likes\n",
              "0  1242123434466979841  ...     1\n",
              "1  1242123396684697603  ...     0\n",
              "2  1242123373188124673  ...     0\n",
              "3  1242086219519012867  ...     0\n",
              "4  1242123367882330113  ...     0\n",
              "\n",
              "[5 rows x 4 columns]"
            ]
          },
          "metadata": {
            "tags": []
          },
          "execution_count": 9
        }
      ]
    },
    {
      "cell_type": "markdown",
      "metadata": {
        "id": "CQZGF1zw6xrj"
      },
      "source": [
        "## Sentiment Analysis"
      ]
    },
    {
      "cell_type": "markdown",
      "metadata": {
        "id": "r-N4D5Gp6xrj"
      },
      "source": [
        "An example to show how we get the sentiment score/polarity for a single tweet"
      ]
    },
    {
      "cell_type": "code",
      "metadata": {
        "id": "KamLiFDU6xrk",
        "colab": {
          "base_uri": "https://localhost:8080/",
          "height": 34
        },
        "outputId": "140ff630-a9ed-4815-d8fc-83e1322cc648"
      },
      "source": [
        "TextBlob(tweets.text[5]).sentiment"
      ],
      "execution_count": null,
      "outputs": [
        {
          "output_type": "execute_result",
          "data": {
            "text/plain": [
              "Sentiment(polarity=0.0, subjectivity=0.0)"
            ]
          },
          "metadata": {
            "tags": []
          },
          "execution_count": 10
        }
      ]
    },
    {
      "cell_type": "code",
      "metadata": {
        "id": "3Yu-TQMy6xro",
        "colab": {
          "base_uri": "https://localhost:8080/",
          "height": 34
        },
        "outputId": "f5e2f21a-bfaf-4b87-a657-b3077bcbe2e5"
      },
      "source": [
        "TextBlob(tweets['text'][0]).sentiment.polarity"
      ],
      "execution_count": null,
      "outputs": [
        {
          "output_type": "execute_result",
          "data": {
            "text/plain": [
              "0.0"
            ]
          },
          "metadata": {
            "tags": []
          },
          "execution_count": 11
        }
      ]
    },
    {
      "cell_type": "markdown",
      "metadata": {
        "id": "CglWnxg86xrs"
      },
      "source": [
        "Let's add a numerical column relating to text; text length "
      ]
    },
    {
      "cell_type": "code",
      "metadata": {
        "id": "_Rtme7vK6xrt"
      },
      "source": [
        "tweets['text length'] = tweets['text'].apply(len)"
      ],
      "execution_count": null,
      "outputs": []
    },
    {
      "cell_type": "code",
      "metadata": {
        "id": "COmqMGW96xrw",
        "colab": {
          "base_uri": "https://localhost:8080/",
          "height": 197
        },
        "outputId": "d510c535-0d93-4bbf-8068-f81475411639"
      },
      "source": [
        "tweets.head()"
      ],
      "execution_count": null,
      "outputs": [
        {
          "output_type": "execute_result",
          "data": {
            "text/html": [
              "<div>\n",
              "<style scoped>\n",
              "    .dataframe tbody tr th:only-of-type {\n",
              "        vertical-align: middle;\n",
              "    }\n",
              "\n",
              "    .dataframe tbody tr th {\n",
              "        vertical-align: top;\n",
              "    }\n",
              "\n",
              "    .dataframe thead th {\n",
              "        text-align: right;\n",
              "    }\n",
              "</style>\n",
              "<table border=\"1\" class=\"dataframe\">\n",
              "  <thead>\n",
              "    <tr style=\"text-align: right;\">\n",
              "      <th></th>\n",
              "      <th>tweet_id</th>\n",
              "      <th>text</th>\n",
              "      <th>created_at</th>\n",
              "      <th>likes</th>\n",
              "      <th>text length</th>\n",
              "    </tr>\n",
              "  </thead>\n",
              "  <tbody>\n",
              "    <tr>\n",
              "      <th>0</th>\n",
              "      <td>1242123434466979841</td>\n",
              "      <td>e v e r y d a y   m i g h t   n o t   b e   g ...</td>\n",
              "      <td>2020-03-23 16:17:58</td>\n",
              "      <td>1</td>\n",
              "      <td>161</td>\n",
              "    </tr>\n",
              "    <tr>\n",
              "      <th>1</th>\n",
              "      <td>1242123396684697603</td>\n",
              "      <td>t h e   n e x t   o n e   w e e k</td>\n",
              "      <td>2020-03-23 16:17:49</td>\n",
              "      <td>0</td>\n",
              "      <td>39</td>\n",
              "    </tr>\n",
              "    <tr>\n",
              "      <th>2</th>\n",
              "      <td>1242123373188124673</td>\n",
              "      <td>l o c k d o w n n o w   u h u r u k e n y a ...</td>\n",
              "      <td>2020-03-23 16:17:44</td>\n",
              "      <td>0</td>\n",
              "      <td>193</td>\n",
              "    </tr>\n",
              "    <tr>\n",
              "      <th>3</th>\n",
              "      <td>1242086219519012867</td>\n",
              "      <td>i n t e r n e t   n e v e r   f o r g e t   w ...</td>\n",
              "      <td>2020-03-23 13:50:06</td>\n",
              "      <td>0</td>\n",
              "      <td>173</td>\n",
              "    </tr>\n",
              "    <tr>\n",
              "      <th>4</th>\n",
              "      <td>1242123367882330113</td>\n",
              "      <td>n t s a k e n y a   d c i k e n y a     i f   ...</td>\n",
              "      <td>2020-03-23 16:17:43</td>\n",
              "      <td>0</td>\n",
              "      <td>169</td>\n",
              "    </tr>\n",
              "  </tbody>\n",
              "</table>\n",
              "</div>"
            ],
            "text/plain": [
              "              tweet_id  ... text length\n",
              "0  1242123434466979841  ...         161\n",
              "1  1242123396684697603  ...          39\n",
              "2  1242123373188124673  ...         193\n",
              "3  1242086219519012867  ...         173\n",
              "4  1242123367882330113  ...         169\n",
              "\n",
              "[5 rows x 5 columns]"
            ]
          },
          "metadata": {
            "tags": []
          },
          "execution_count": 13
        }
      ]
    },
    {
      "cell_type": "markdown",
      "metadata": {
        "id": "LUdRolEw6xrz"
      },
      "source": [
        "Now we design a function to apply to the text column to produce polarity for each tweet"
      ]
    },
    {
      "cell_type": "code",
      "metadata": {
        "id": "9ws5ROJ76xr0"
      },
      "source": [
        "def get_polarity(text):\n",
        "    return TextBlob(text).sentiment.polarity"
      ],
      "execution_count": null,
      "outputs": []
    },
    {
      "cell_type": "markdown",
      "metadata": {
        "id": "TndKXHEr6xr4"
      },
      "source": [
        "We add a new column to the dataframe based off of tweet polarity"
      ]
    },
    {
      "cell_type": "code",
      "metadata": {
        "id": "ipW_BGXp6xr5"
      },
      "source": [
        "tweets['polarity'] = tweets['text'].apply(get_polarity)"
      ],
      "execution_count": null,
      "outputs": []
    },
    {
      "cell_type": "code",
      "metadata": {
        "id": "yAjWosJe6xr8"
      },
      "source": [
        "# Short form using lambda\n",
        "##\n",
        "#tweets['polarity'] = tweets['text'].apply(lambda text: TextBlob(text).sentiment.polarity)"
      ],
      "execution_count": null,
      "outputs": []
    },
    {
      "cell_type": "code",
      "metadata": {
        "id": "zvWMB9dG6xsB",
        "colab": {
          "base_uri": "https://localhost:8080/",
          "height": 347
        },
        "outputId": "bb64bcc5-69fa-4c01-ed02-92cbcf2b0004"
      },
      "source": [
        "tweets.sample(10)"
      ],
      "execution_count": null,
      "outputs": [
        {
          "output_type": "execute_result",
          "data": {
            "text/html": [
              "<div>\n",
              "<style scoped>\n",
              "    .dataframe tbody tr th:only-of-type {\n",
              "        vertical-align: middle;\n",
              "    }\n",
              "\n",
              "    .dataframe tbody tr th {\n",
              "        vertical-align: top;\n",
              "    }\n",
              "\n",
              "    .dataframe thead th {\n",
              "        text-align: right;\n",
              "    }\n",
              "</style>\n",
              "<table border=\"1\" class=\"dataframe\">\n",
              "  <thead>\n",
              "    <tr style=\"text-align: right;\">\n",
              "      <th></th>\n",
              "      <th>tweet_id</th>\n",
              "      <th>text</th>\n",
              "      <th>created_at</th>\n",
              "      <th>likes</th>\n",
              "      <th>text length</th>\n",
              "      <th>polarity</th>\n",
              "    </tr>\n",
              "  </thead>\n",
              "  <tbody>\n",
              "    <tr>\n",
              "      <th>927</th>\n",
              "      <td>1242083452020756485</td>\n",
              "      <td>y   a l l   e x p e c t i n g   l a n d l o r ...</td>\n",
              "      <td>2020-03-23 13:39:06</td>\n",
              "      <td>4</td>\n",
              "      <td>197</td>\n",
              "      <td>0.0</td>\n",
              "    </tr>\n",
              "    <tr>\n",
              "      <th>363</th>\n",
              "      <td>1242106699542126592</td>\n",
              "      <td>s h o r t l y   a f t e r   t h e     b r e a ...</td>\n",
              "      <td>2020-03-23 15:11:29</td>\n",
              "      <td>0</td>\n",
              "      <td>199</td>\n",
              "      <td>0.0</td>\n",
              "    </tr>\n",
              "    <tr>\n",
              "      <th>986</th>\n",
              "      <td>1242079103655837699</td>\n",
              "      <td>p l e a s e   s t a y   a t   h o m e   c o v ...</td>\n",
              "      <td>2020-03-23 13:21:49</td>\n",
              "      <td>2</td>\n",
              "      <td>103</td>\n",
              "      <td>0.0</td>\n",
              "    </tr>\n",
              "    <tr>\n",
              "      <th>867</th>\n",
              "      <td>1242087578687418369</td>\n",
              "      <td>o u r   o w n   k n e y a n s   k w a n i   n ...</td>\n",
              "      <td>2020-03-23 13:55:30</td>\n",
              "      <td>0</td>\n",
              "      <td>153</td>\n",
              "      <td>0.0</td>\n",
              "    </tr>\n",
              "    <tr>\n",
              "      <th>906</th>\n",
              "      <td>1242084245289480195</td>\n",
              "      <td>t o   f i g h t   t h i s   c o v i d       d ...</td>\n",
              "      <td>2020-03-23 13:42:15</td>\n",
              "      <td>1</td>\n",
              "      <td>227</td>\n",
              "      <td>0.0</td>\n",
              "    </tr>\n",
              "    <tr>\n",
              "      <th>427</th>\n",
              "      <td>1242103897482813441</td>\n",
              "      <td>i   d o n t   r e m e m b e r   t h e   l a s ...</td>\n",
              "      <td>2020-03-23 15:00:20</td>\n",
              "      <td>2</td>\n",
              "      <td>225</td>\n",
              "      <td>0.0</td>\n",
              "    </tr>\n",
              "    <tr>\n",
              "      <th>920</th>\n",
              "      <td>1242083697379115008</td>\n",
              "      <td>d a m n   i t   g i r l c a l l   m e   c o v ...</td>\n",
              "      <td>2020-03-23 13:40:04</td>\n",
              "      <td>1</td>\n",
              "      <td>125</td>\n",
              "      <td>0.0</td>\n",
              "    </tr>\n",
              "    <tr>\n",
              "      <th>391</th>\n",
              "      <td>1242105349798330369</td>\n",
              "      <td>y o u   s t a n d   i n f r o n t   o f   p e ...</td>\n",
              "      <td>2020-03-23 15:06:07</td>\n",
              "      <td>2</td>\n",
              "      <td>225</td>\n",
              "      <td>0.0</td>\n",
              "    </tr>\n",
              "    <tr>\n",
              "      <th>253</th>\n",
              "      <td>1242111906976018432</td>\n",
              "      <td>v i t a f o a m k e   k e n y a   h a s   g i ...</td>\n",
              "      <td>2020-03-23 15:32:10</td>\n",
              "      <td>1</td>\n",
              "      <td>215</td>\n",
              "      <td>0.0</td>\n",
              "    </tr>\n",
              "    <tr>\n",
              "      <th>1139</th>\n",
              "      <td>1242067158202531840</td>\n",
              "      <td>m y   c h u r c h   i s   o f f i c i a l l y ...</td>\n",
              "      <td>2020-03-23 12:34:21</td>\n",
              "      <td>0</td>\n",
              "      <td>101</td>\n",
              "      <td>0.0</td>\n",
              "    </tr>\n",
              "  </tbody>\n",
              "</table>\n",
              "</div>"
            ],
            "text/plain": [
              "                 tweet_id  ... polarity\n",
              "927   1242083452020756485  ...      0.0\n",
              "363   1242106699542126592  ...      0.0\n",
              "986   1242079103655837699  ...      0.0\n",
              "867   1242087578687418369  ...      0.0\n",
              "906   1242084245289480195  ...      0.0\n",
              "427   1242103897482813441  ...      0.0\n",
              "920   1242083697379115008  ...      0.0\n",
              "391   1242105349798330369  ...      0.0\n",
              "253   1242111906976018432  ...      0.0\n",
              "1139  1242067158202531840  ...      0.0\n",
              "\n",
              "[10 rows x 6 columns]"
            ]
          },
          "metadata": {
            "tags": []
          },
          "execution_count": 17
        }
      ]
    },
    {
      "cell_type": "markdown",
      "metadata": {
        "id": "92U5uxTi6xsE"
      },
      "source": [
        "Tweets with lowest polarity(-1)"
      ]
    },
    {
      "cell_type": "code",
      "metadata": {
        "id": "2yYRb5zU6xsF",
        "colab": {
          "base_uri": "https://localhost:8080/",
          "height": 47
        },
        "outputId": "15bcb89a-4996-47eb-aeb0-7efed781533f"
      },
      "source": [
        "tweets[tweets['polarity'] == -1]"
      ],
      "execution_count": null,
      "outputs": [
        {
          "output_type": "execute_result",
          "data": {
            "text/html": [
              "<div>\n",
              "<style scoped>\n",
              "    .dataframe tbody tr th:only-of-type {\n",
              "        vertical-align: middle;\n",
              "    }\n",
              "\n",
              "    .dataframe tbody tr th {\n",
              "        vertical-align: top;\n",
              "    }\n",
              "\n",
              "    .dataframe thead th {\n",
              "        text-align: right;\n",
              "    }\n",
              "</style>\n",
              "<table border=\"1\" class=\"dataframe\">\n",
              "  <thead>\n",
              "    <tr style=\"text-align: right;\">\n",
              "      <th></th>\n",
              "      <th>tweet_id</th>\n",
              "      <th>text</th>\n",
              "      <th>created_at</th>\n",
              "      <th>likes</th>\n",
              "      <th>text length</th>\n",
              "      <th>polarity</th>\n",
              "    </tr>\n",
              "  </thead>\n",
              "  <tbody>\n",
              "  </tbody>\n",
              "</table>\n",
              "</div>"
            ],
            "text/plain": [
              "Empty DataFrame\n",
              "Columns: [tweet_id, text, created_at, likes, text length, polarity]\n",
              "Index: []"
            ]
          },
          "metadata": {
            "tags": []
          },
          "execution_count": 18
        }
      ]
    },
    {
      "cell_type": "markdown",
      "metadata": {
        "id": "qO_sGW3K6xsI"
      },
      "source": [
        "Tweets with polarity 0"
      ]
    },
    {
      "cell_type": "code",
      "metadata": {
        "id": "LfW9vIbR6xsJ",
        "colab": {
          "base_uri": "https://localhost:8080/",
          "height": 406
        },
        "outputId": "a2677c90-b204-4e57-96ec-6013a397e67f"
      },
      "source": [
        "tweets[tweets['polarity'] == 0]"
      ],
      "execution_count": null,
      "outputs": [
        {
          "output_type": "execute_result",
          "data": {
            "text/html": [
              "<div>\n",
              "<style scoped>\n",
              "    .dataframe tbody tr th:only-of-type {\n",
              "        vertical-align: middle;\n",
              "    }\n",
              "\n",
              "    .dataframe tbody tr th {\n",
              "        vertical-align: top;\n",
              "    }\n",
              "\n",
              "    .dataframe thead th {\n",
              "        text-align: right;\n",
              "    }\n",
              "</style>\n",
              "<table border=\"1\" class=\"dataframe\">\n",
              "  <thead>\n",
              "    <tr style=\"text-align: right;\">\n",
              "      <th></th>\n",
              "      <th>tweet_id</th>\n",
              "      <th>text</th>\n",
              "      <th>created_at</th>\n",
              "      <th>likes</th>\n",
              "      <th>text length</th>\n",
              "      <th>polarity</th>\n",
              "    </tr>\n",
              "  </thead>\n",
              "  <tbody>\n",
              "    <tr>\n",
              "      <th>0</th>\n",
              "      <td>1242123434466979841</td>\n",
              "      <td>e v e r y d a y   m i g h t   n o t   b e   g ...</td>\n",
              "      <td>2020-03-23 16:17:58</td>\n",
              "      <td>1</td>\n",
              "      <td>161</td>\n",
              "      <td>0.0</td>\n",
              "    </tr>\n",
              "    <tr>\n",
              "      <th>1</th>\n",
              "      <td>1242123396684697603</td>\n",
              "      <td>t h e   n e x t   o n e   w e e k</td>\n",
              "      <td>2020-03-23 16:17:49</td>\n",
              "      <td>0</td>\n",
              "      <td>39</td>\n",
              "      <td>0.0</td>\n",
              "    </tr>\n",
              "    <tr>\n",
              "      <th>2</th>\n",
              "      <td>1242123373188124673</td>\n",
              "      <td>l o c k d o w n n o w   u h u r u k e n y a ...</td>\n",
              "      <td>2020-03-23 16:17:44</td>\n",
              "      <td>0</td>\n",
              "      <td>193</td>\n",
              "      <td>0.0</td>\n",
              "    </tr>\n",
              "    <tr>\n",
              "      <th>3</th>\n",
              "      <td>1242086219519012867</td>\n",
              "      <td>i n t e r n e t   n e v e r   f o r g e t   w ...</td>\n",
              "      <td>2020-03-23 13:50:06</td>\n",
              "      <td>0</td>\n",
              "      <td>173</td>\n",
              "      <td>0.0</td>\n",
              "    </tr>\n",
              "    <tr>\n",
              "      <th>4</th>\n",
              "      <td>1242123367882330113</td>\n",
              "      <td>n t s a k e n y a   d c i k e n y a     i f   ...</td>\n",
              "      <td>2020-03-23 16:17:43</td>\n",
              "      <td>0</td>\n",
              "      <td>169</td>\n",
              "      <td>0.0</td>\n",
              "    </tr>\n",
              "    <tr>\n",
              "      <th>...</th>\n",
              "      <td>...</td>\n",
              "      <td>...</td>\n",
              "      <td>...</td>\n",
              "      <td>...</td>\n",
              "      <td>...</td>\n",
              "      <td>...</td>\n",
              "    </tr>\n",
              "    <tr>\n",
              "      <th>1185</th>\n",
              "      <td>1242064075405905921</td>\n",
              "      <td>s i a y a   e m e r g e n c y   r e s p o n s ...</td>\n",
              "      <td>2020-03-23 12:22:06</td>\n",
              "      <td>4</td>\n",
              "      <td>227</td>\n",
              "      <td>0.0</td>\n",
              "    </tr>\n",
              "    <tr>\n",
              "      <th>1186</th>\n",
              "      <td>1242064012797530112</td>\n",
              "      <td>o l e i t u m b i   t i m e   t o   p u t   i ...</td>\n",
              "      <td>2020-03-23 12:21:51</td>\n",
              "      <td>1</td>\n",
              "      <td>209</td>\n",
              "      <td>0.0</td>\n",
              "    </tr>\n",
              "    <tr>\n",
              "      <th>1187</th>\n",
              "      <td>1242063970632163329</td>\n",
              "      <td>w h e n   p e o p l e   l o s e   t r u s t   ...</td>\n",
              "      <td>2020-03-23 12:21:41</td>\n",
              "      <td>1</td>\n",
              "      <td>173</td>\n",
              "      <td>0.0</td>\n",
              "    </tr>\n",
              "    <tr>\n",
              "      <th>1188</th>\n",
              "      <td>1242063856727396352</td>\n",
              "      <td>m w e n d w a f e l i x   c i s n y a k u n d ...</td>\n",
              "      <td>2020-03-23 12:21:14</td>\n",
              "      <td>2</td>\n",
              "      <td>195</td>\n",
              "      <td>0.0</td>\n",
              "    </tr>\n",
              "    <tr>\n",
              "      <th>1189</th>\n",
              "      <td>1242063643883307008</td>\n",
              "      <td>t h e   n e x t   c o r o n a   v i r u s   s ...</td>\n",
              "      <td>2020-03-23 12:20:23</td>\n",
              "      <td>1</td>\n",
              "      <td>231</td>\n",
              "      <td>0.0</td>\n",
              "    </tr>\n",
              "  </tbody>\n",
              "</table>\n",
              "<p>1190 rows × 6 columns</p>\n",
              "</div>"
            ],
            "text/plain": [
              "                 tweet_id  ... polarity\n",
              "0     1242123434466979841  ...      0.0\n",
              "1     1242123396684697603  ...      0.0\n",
              "2     1242123373188124673  ...      0.0\n",
              "3     1242086219519012867  ...      0.0\n",
              "4     1242123367882330113  ...      0.0\n",
              "...                   ...  ...      ...\n",
              "1185  1242064075405905921  ...      0.0\n",
              "1186  1242064012797530112  ...      0.0\n",
              "1187  1242063970632163329  ...      0.0\n",
              "1188  1242063856727396352  ...      0.0\n",
              "1189  1242063643883307008  ...      0.0\n",
              "\n",
              "[1190 rows x 6 columns]"
            ]
          },
          "metadata": {
            "tags": []
          },
          "execution_count": 19
        }
      ]
    },
    {
      "cell_type": "markdown",
      "metadata": {
        "id": "eDZIFkW16xsO"
      },
      "source": [
        "Tweets with highest polarity(1)"
      ]
    },
    {
      "cell_type": "code",
      "metadata": {
        "id": "p_YKK_ni6xsO",
        "colab": {
          "base_uri": "https://localhost:8080/",
          "height": 47
        },
        "outputId": "51de2f2c-20ee-4178-c8e8-1b20f153ea54"
      },
      "source": [
        "tweets[tweets['polarity'] == 1]"
      ],
      "execution_count": null,
      "outputs": [
        {
          "output_type": "execute_result",
          "data": {
            "text/html": [
              "<div>\n",
              "<style scoped>\n",
              "    .dataframe tbody tr th:only-of-type {\n",
              "        vertical-align: middle;\n",
              "    }\n",
              "\n",
              "    .dataframe tbody tr th {\n",
              "        vertical-align: top;\n",
              "    }\n",
              "\n",
              "    .dataframe thead th {\n",
              "        text-align: right;\n",
              "    }\n",
              "</style>\n",
              "<table border=\"1\" class=\"dataframe\">\n",
              "  <thead>\n",
              "    <tr style=\"text-align: right;\">\n",
              "      <th></th>\n",
              "      <th>tweet_id</th>\n",
              "      <th>text</th>\n",
              "      <th>created_at</th>\n",
              "      <th>likes</th>\n",
              "      <th>text length</th>\n",
              "      <th>polarity</th>\n",
              "    </tr>\n",
              "  </thead>\n",
              "  <tbody>\n",
              "  </tbody>\n",
              "</table>\n",
              "</div>"
            ],
            "text/plain": [
              "Empty DataFrame\n",
              "Columns: [tweet_id, text, created_at, likes, text length, polarity]\n",
              "Index: []"
            ]
          },
          "metadata": {
            "tags": []
          },
          "execution_count": 20
        }
      ]
    },
    {
      "cell_type": "code",
      "metadata": {
        "id": "m5j9s1ND6xsS"
      },
      "source": [
        "# It is evident that almost half of the obtained tweets have polarity 0"
      ],
      "execution_count": null,
      "outputs": []
    },
    {
      "cell_type": "markdown",
      "metadata": {
        "id": "_8brHNzY6xsU"
      },
      "source": [
        "Tweets with negative polarity"
      ]
    },
    {
      "cell_type": "code",
      "metadata": {
        "id": "vyTVJyLL6xsV",
        "colab": {
          "base_uri": "https://localhost:8080/",
          "height": 47
        },
        "outputId": "0a6bec0e-9e66-4f74-9c42-642c6b026bde"
      },
      "source": [
        "tweets[tweets['polarity'] < 0]"
      ],
      "execution_count": null,
      "outputs": [
        {
          "output_type": "execute_result",
          "data": {
            "text/html": [
              "<div>\n",
              "<style scoped>\n",
              "    .dataframe tbody tr th:only-of-type {\n",
              "        vertical-align: middle;\n",
              "    }\n",
              "\n",
              "    .dataframe tbody tr th {\n",
              "        vertical-align: top;\n",
              "    }\n",
              "\n",
              "    .dataframe thead th {\n",
              "        text-align: right;\n",
              "    }\n",
              "</style>\n",
              "<table border=\"1\" class=\"dataframe\">\n",
              "  <thead>\n",
              "    <tr style=\"text-align: right;\">\n",
              "      <th></th>\n",
              "      <th>tweet_id</th>\n",
              "      <th>text</th>\n",
              "      <th>created_at</th>\n",
              "      <th>likes</th>\n",
              "      <th>text length</th>\n",
              "      <th>polarity</th>\n",
              "    </tr>\n",
              "  </thead>\n",
              "  <tbody>\n",
              "  </tbody>\n",
              "</table>\n",
              "</div>"
            ],
            "text/plain": [
              "Empty DataFrame\n",
              "Columns: [tweet_id, text, created_at, likes, text length, polarity]\n",
              "Index: []"
            ]
          },
          "metadata": {
            "tags": []
          },
          "execution_count": 22
        }
      ]
    },
    {
      "cell_type": "markdown",
      "metadata": {
        "id": "htbsGwaH6xsY"
      },
      "source": [
        "Tweets with positive polarity"
      ]
    },
    {
      "cell_type": "code",
      "metadata": {
        "id": "bQY9enOi6xsa",
        "colab": {
          "base_uri": "https://localhost:8080/",
          "height": 47
        },
        "outputId": "31330632-d939-4c0a-84f1-8eec60bf2274"
      },
      "source": [
        "tweets[tweets['polarity'] > 0]"
      ],
      "execution_count": null,
      "outputs": [
        {
          "output_type": "execute_result",
          "data": {
            "text/html": [
              "<div>\n",
              "<style scoped>\n",
              "    .dataframe tbody tr th:only-of-type {\n",
              "        vertical-align: middle;\n",
              "    }\n",
              "\n",
              "    .dataframe tbody tr th {\n",
              "        vertical-align: top;\n",
              "    }\n",
              "\n",
              "    .dataframe thead th {\n",
              "        text-align: right;\n",
              "    }\n",
              "</style>\n",
              "<table border=\"1\" class=\"dataframe\">\n",
              "  <thead>\n",
              "    <tr style=\"text-align: right;\">\n",
              "      <th></th>\n",
              "      <th>tweet_id</th>\n",
              "      <th>text</th>\n",
              "      <th>created_at</th>\n",
              "      <th>likes</th>\n",
              "      <th>text length</th>\n",
              "      <th>polarity</th>\n",
              "    </tr>\n",
              "  </thead>\n",
              "  <tbody>\n",
              "  </tbody>\n",
              "</table>\n",
              "</div>"
            ],
            "text/plain": [
              "Empty DataFrame\n",
              "Columns: [tweet_id, text, created_at, likes, text length, polarity]\n",
              "Index: []"
            ]
          },
          "metadata": {
            "tags": []
          },
          "execution_count": 23
        }
      ]
    },
    {
      "cell_type": "markdown",
      "metadata": {
        "id": "7Rlj-EZ06xsd"
      },
      "source": [
        "## Some EDA"
      ]
    },
    {
      "cell_type": "code",
      "metadata": {
        "id": "HcRh_mYu6xse",
        "colab": {
          "base_uri": "https://localhost:8080/",
          "height": 72
        },
        "outputId": "bef9ab29-cab1-46d6-dad0-18cb25bae256"
      },
      "source": [
        "import matplotlib.pyplot as plt\n",
        "%matplotlib inline\n",
        "\n",
        "import seaborn as sns\n",
        "sns.set_style('whitegrid')"
      ],
      "execution_count": null,
      "outputs": [
        {
          "output_type": "stream",
          "text": [
            "/usr/local/lib/python3.6/dist-packages/statsmodels/tools/_testing.py:19: FutureWarning: pandas.util.testing is deprecated. Use the functions in the public API at pandas.testing instead.\n",
            "  import pandas.util.testing as tm\n"
          ],
          "name": "stderr"
        }
      ]
    },
    {
      "cell_type": "markdown",
      "metadata": {
        "id": "61pat3cY6xsh"
      },
      "source": [
        "**Distribution of polarity**"
      ]
    },
    {
      "cell_type": "code",
      "metadata": {
        "id": "jEm6CPgY6xsi",
        "colab": {
          "base_uri": "https://localhost:8080/",
          "height": 296
        },
        "outputId": "d7d3f3e9-a9c0-4d16-8d90-2d7c5ae77fda"
      },
      "source": [
        "sns.distplot(tweets['polarity'], bins=15, kde=False)"
      ],
      "execution_count": null,
      "outputs": [
        {
          "output_type": "execute_result",
          "data": {
            "text/plain": [
              "<matplotlib.axes._subplots.AxesSubplot at 0x7f7a2f61fba8>"
            ]
          },
          "metadata": {
            "tags": []
          },
          "execution_count": 25
        },
        {
          "output_type": "display_data",
          "data": {
            "image/png": "[encoded data removed]",
            "text/plain": [
              "<Figure size 432x288 with 1 Axes>"
            ]
          },
          "metadata": {
            "tags": []
          }
        }
      ]
    },
    {
      "cell_type": "markdown",
      "metadata": {
        "id": "YafGKQEI6xsl"
      },
      "source": [
        "**Distribution of text length**"
      ]
    },
    {
      "cell_type": "code",
      "metadata": {
        "id": "XmpOEzWY6xsm",
        "colab": {
          "base_uri": "https://localhost:8080/",
          "height": 296
        },
        "outputId": "ad018197-542f-49c5-f331-c66ce5f235b9"
      },
      "source": [
        "sns.distplot(tweets['text length'], kde=False)"
      ],
      "execution_count": null,
      "outputs": [
        {
          "output_type": "execute_result",
          "data": {
            "text/plain": [
              "<matplotlib.axes._subplots.AxesSubplot at 0x7f7a2f671eb8>"
            ]
          },
          "metadata": {
            "tags": []
          },
          "execution_count": 26
        },
        {
          "output_type": "display_data",
          "data": {
            "image/png": "[encoded data removed]",
            "text/plain": [
              "<Figure size 432x288 with 1 Axes>"
            ]
          },
          "metadata": {
            "tags": []
          }
        }
      ]
    },
    {
      "cell_type": "markdown",
      "metadata": {
        "id": "YgDZ2FF_6xsp"
      },
      "source": [
        "A jointplot to show relation of text length and polarity"
      ]
    },
    {
      "cell_type": "code",
      "metadata": {
        "id": "5aQV-Bgg6xsq",
        "colab": {
          "base_uri": "https://localhost:8080/",
          "height": 458
        },
        "outputId": "d49b6f7e-f183-40f5-e73e-c134a29ce2b1"
      },
      "source": [
        "sns.jointplot(x='polarity', y='text length', data=tweets)"
      ],
      "execution_count": null,
      "outputs": [
        {
          "output_type": "execute_result",
          "data": {
            "text/plain": [
              "<seaborn.axisgrid.JointGrid at 0x7f7a2f6aa780>"
            ]
          },
          "metadata": {
            "tags": []
          },
          "execution_count": 27
        },
        {
          "output_type": "display_data",
          "data": {
            "image/png": "[encoded data removed]",
            "text/plain": [
              "<Figure size 432x432 with 3 Axes>"
            ]
          },
          "metadata": {
            "tags": []
          }
        }
      ]
    },
    {
      "cell_type": "markdown",
      "metadata": {
        "id": "1wQWfQ7h6xsu"
      },
      "source": [
        "Most lengthy(range from 60 to 100) tweets range polarity from -0.25 and 0.25 from the jointplot above  \n",
        "This is roughly around polarity 0, so we wouldn't be wrong to say that most lengthy tweets(in this range) have polarity of 0, or more appealing, around polarity 0  \n",
        "Let's get the mean length of tweets with polarity 0 to see that indeed this length lies in this range(60 to 100)"
      ]
    },
    {
      "cell_type": "code",
      "metadata": {
        "id": "1Kx_bobn6xsu",
        "colab": {
          "base_uri": "https://localhost:8080/",
          "height": 34
        },
        "outputId": "10eaba45-b48d-40ef-8f23-94eda07d6275"
      },
      "source": [
        "tweets[tweets['polarity']==0]['text length'].mean()"
      ],
      "execution_count": null,
      "outputs": [
        {
          "output_type": "execute_result",
          "data": {
            "text/plain": [
              "185.14621848739495"
            ]
          },
          "metadata": {
            "tags": []
          },
          "execution_count": 28
        }
      ]
    },
    {
      "cell_type": "markdown",
      "metadata": {
        "id": "cyzE4Y7H6xsx"
      },
      "source": [
        "To further visualize this fact, let's create the same plot but of hexagonal and regressional nature"
      ]
    },
    {
      "cell_type": "code",
      "metadata": {
        "id": "-qfy_xfj6xsy",
        "colab": {
          "base_uri": "https://localhost:8080/",
          "height": 458
        },
        "outputId": "07a3d7e6-0aec-4a21-8052-9278a07f6778"
      },
      "source": [
        "sns.jointplot(x='polarity', y='text length', data=tweets, kind='hex')"
      ],
      "execution_count": null,
      "outputs": [
        {
          "output_type": "execute_result",
          "data": {
            "text/plain": [
              "<seaborn.axisgrid.JointGrid at 0x7f7a2f77fc88>"
            ]
          },
          "metadata": {
            "tags": []
          },
          "execution_count": 29
        },
        {
          "output_type": "display_data",
          "data": {
            "image/png": "[encoded data removed]",
            "text/plain": [
              "<Figure size 432x432 with 3 Axes>"
            ]
          },
          "metadata": {
            "tags": []
          }
        }
      ]
    },
    {
      "cell_type": "code",
      "metadata": {
        "id": "kEATk4xD6xs1",
        "colab": {
          "base_uri": "https://localhost:8080/",
          "height": 514
        },
        "outputId": "ecb2b59e-9c19-41ec-f9ad-97f4952956c7"
      },
      "source": [
        "sns.jointplot(x='polarity', y='text length', data=tweets, kind='reg')"
      ],
      "execution_count": null,
      "outputs": [
        {
          "output_type": "stream",
          "text": [
            "/usr/local/lib/python3.6/dist-packages/seaborn/distributions.py:283: UserWarning: Data must have variance to compute a kernel density estimate.\n",
            "  warnings.warn(msg, UserWarning)\n"
          ],
          "name": "stderr"
        },
        {
          "output_type": "execute_result",
          "data": {
            "text/plain": [
              "<seaborn.axisgrid.JointGrid at 0x7f7a2f7e6dd8>"
            ]
          },
          "metadata": {
            "tags": []
          },
          "execution_count": 30
        },
        {
          "output_type": "display_data",
          "data": {
            "image/png": "[encoded data removed]",
            "text/plain": [
              "<Figure size 432x432 with 3 Axes>"
            ]
          },
          "metadata": {
            "tags": []
          }
        }
      ]
    },
    {
      "cell_type": "markdown",
      "metadata": {
        "id": "_4oSDtCC6xs4"
      },
      "source": [
        "From this jointplot we can clearly see that the kde on the upper side of the plot shows some normal distribution around polarity 0  \n",
        "This justifies our above argument that most lengthy(our range of 'lengthy') tweets have polarity of 0 (or around 0)"
      ]
    },
    {
      "cell_type": "markdown",
      "metadata": {
        "id": "3kkNntkN6xs5"
      },
      "source": [
        "## Project conclusion\n",
        "\n",
        "Clearly, we have seen that like half of the tweets have polarity of around 0.  \n",
        "Does this mean that when a population is under such fear and anxiety of an epidemic, their messages express no negativity or positivity but are more neutral?"
      ]
    }
  ]
}