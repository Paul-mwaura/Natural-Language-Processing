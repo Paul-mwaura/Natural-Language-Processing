{
  "nbformat": 4,
  "nbformat_minor": 0,
  "metadata": {
    "colab": {
      "name": "Mining Twitter.ipynb",
      "provenance": [],
      "collapsed_sections": [],
      "authorship_tag": "ABX9TyPzvbsEzC6NeVt4vZhOUWog",
      "include_colab_link": true
    },
    "kernelspec": {
      "name": "python3",
      "display_name": "Python 3"
    },
    "language_info": {
      "name": "python"
    }
  },
  "cells": [
    {
      "cell_type": "markdown",
      "metadata": {
        "id": "view-in-github",
        "colab_type": "text"
      },
      "source": [
        "<a href=\"https://colab.research.google.com/github/Paul-mwaura/Natural-Language-Processing/blob/main/Mining_Twitter.ipynb\" target=\"_parent\"><img src=\"https://colab.research.google.com/assets/colab-badge.svg\" alt=\"Open In Colab\"/></a>"
      ]
    },
    {
      "cell_type": "code",
      "metadata": {
        "colab": {
          "base_uri": "https://localhost:8080/"
        },
        "id": "tTl52TLjrVkt",
        "outputId": "cbb559ae-8a62-4585-a57e-0962b1cbc96a"
      },
      "source": [
        "!pip install twitter"
      ],
      "execution_count": 35,
      "outputs": [
        {
          "output_type": "stream",
          "text": [
            "Requirement already satisfied: twitter in /usr/local/lib/python3.7/dist-packages (1.18.0)\n"
          ],
          "name": "stdout"
        }
      ]
    },
    {
      "cell_type": "code",
      "metadata": {
        "id": "nIiwDQQRzMcM"
      },
      "source": [
        "import twitter\n",
        "\n",
        "# Go to https://developer.twitter.com/en/apps to create an app and get values\n",
        "# for these credentials, which you'll need to provide in place of these\n",
        "# empty string values that are defined as placeholders.\n",
        "# See https://developer.twitter.com/en/docs/basics/authentication/overview/oauth\n",
        "# for more information on Twitter's OAuth implementation."
      ],
      "execution_count": 36,
      "outputs": []
    },
    {
      "cell_type": "code",
      "metadata": {
        "id": "9lRmIrZPy6Gl"
      },
      "source": [
        "#@title Enter Twitter Credentials\n",
        "CONSUMER_KEY = '' #@param {type:\"string\"}\n",
        "CONSUMER_SECRET_KEY = '' #@param {type:\"string\"}\n",
        "OAUTH_TOKEN = '' #@param {type:\"string\"}\n",
        "OAUTH_TOKEN_SECRET = '' #@param {type:\"string\"}"
      ],
      "execution_count": 37,
      "outputs": []
    },
    {
      "cell_type": "code",
      "metadata": {
        "colab": {
          "base_uri": "https://localhost:8080/"
        },
        "id": "-qX1F63dptdC",
        "outputId": "d090dfd7-60ef-44c2-c372-a9480295280d"
      },
      "source": [
        "auth = twitter.oauth.OAuth(OAUTH_TOKEN, OAUTH_TOKEN_SECRET,\n",
        "                           CONSUMER_KEY, CONSUMER_SECRET)\n",
        "\n",
        "twitter_api = twitter.Twitter(auth=auth)\n",
        "\n",
        "# Nothing to see by displaying twitter_api except that it's now a\n",
        "# defined variable\n",
        "\n",
        "print(twitter_api)"
      ],
      "execution_count": 38,
      "outputs": [
        {
          "output_type": "stream",
          "text": [
            "<twitter.api.Twitter object at 0x7f0ed0301dd0>\n"
          ],
          "name": "stdout"
        }
      ]
    },
    {
      "cell_type": "markdown",
      "metadata": {
        "id": "5rpsI1f_rcmF"
      },
      "source": [
        "### Retrieving trends"
      ]
    },
    {
      "cell_type": "code",
      "metadata": {
        "colab": {
          "base_uri": "https://localhost:8080/"
        },
        "id": "WHfwaX_3rR43",
        "outputId": "bcb764bb-a5d0-4488-e17e-d8bc9a24bcda"
      },
      "source": [
        "# The Yahoo! Where On Earth ID for the entire world is 1.\n",
        "# See https://dev.twitter.com/docs/api/1.1/get/trends/place and\n",
        "# http://developer.yahoo.com/geo/geoplanet/\n",
        "\n",
        "WORLD_WOE_ID = 1\n",
        "KE_WOE_ID = 23424863    # WOEID of Kenya\n",
        "\n",
        "# Prefix ID with the underscore for query string parameterization.\n",
        "# Without the underscore, the twitter package appends the ID value\n",
        "# to the URL itself as a special case keyword argument.\n",
        "\n",
        "world_trends = twitter_api.trends.place(_id=WORLD_WOE_ID)\n",
        "ke_trends = twitter_api.trends.place(_id=KE_WOE_ID)\n",
        "\n",
        "print(world_trends)\n",
        "print()\n",
        "print(ke_trends)    # Kenyan Trends"
      ],
      "execution_count": 4,
      "outputs": [
        {
          "output_type": "stream",
          "text": [
            "[{'trends': [{'name': 'Draymond', 'url': 'http://twitter.com/search?q=Draymond', 'promoted_content': None, 'query': 'Draymond', 'tweet_volume': 70038}, {'name': '#Whosfan_1st_Anniversary', 'url': 'http://twitter.com/search?q=%23Whosfan_1st_Anniversary', 'promoted_content': None, 'query': '%23Whosfan_1st_Anniversary', 'tweet_volume': 634355}, {'name': '#후즈팬_1주년_축하해', 'url': 'http://twitter.com/search?q=%23%ED%9B%84%EC%A6%88%ED%8C%AC_1%EC%A3%BC%EB%85%84_%EC%B6%95%ED%95%98%ED%95%B4', 'promoted_content': None, 'query': '%23%ED%9B%84%EC%A6%88%ED%8C%AC_1%EC%A3%BC%EB%85%84_%EC%B6%95%ED%95%98%ED%95%B4', 'tweet_volume': 633347}, {'name': 'Ja Morant', 'url': 'http://twitter.com/search?q=%22Ja+Morant%22', 'promoted_content': None, 'query': '%22Ja+Morant%22', 'tweet_volume': 52942}, {'name': 'Steph', 'url': 'http://twitter.com/search?q=Steph', 'promoted_content': None, 'query': 'Steph', 'tweet_volume': 145571}, {'name': 'Warriors', 'url': 'http://twitter.com/search?q=Warriors', 'promoted_content': None, 'query': 'Warriors', 'tweet_volume': 196246}, {'name': 'Wiggins', 'url': 'http://twitter.com/search?q=Wiggins', 'promoted_content': None, 'query': 'Wiggins', 'tweet_volume': 42616}, {'name': 'Grizzlies', 'url': 'http://twitter.com/search?q=Grizzlies', 'promoted_content': None, 'query': 'Grizzlies', 'tweet_volume': 53424}, {'name': '#人生で一番遊んだゲーム', 'url': 'http://twitter.com/search?q=%23%E4%BA%BA%E7%94%9F%E3%81%A7%E4%B8%80%E7%95%AA%E9%81%8A%E3%82%93%E3%81%A0%E3%82%B2%E3%83%BC%E3%83%A0', 'promoted_content': None, 'query': '%23%E4%BA%BA%E7%94%9F%E3%81%A7%E4%B8%80%E7%95%AA%E9%81%8A%E3%82%93%E3%81%A0%E3%82%B2%E3%83%BC%E3%83%A0', 'tweet_volume': 11667}, {'name': '#Butter100M', 'url': 'http://twitter.com/search?q=%23Butter100M', 'promoted_content': None, 'query': '%23Butter100M', 'tweet_volume': 691032}, {'name': 'Klay', 'url': 'http://twitter.com/search?q=Klay', 'promoted_content': None, 'query': 'Klay', 'tweet_volume': 25575}, {'name': '#にじさんじ花鳥風月戦', 'url': 'http://twitter.com/search?q=%23%E3%81%AB%E3%81%98%E3%81%95%E3%82%93%E3%81%98%E8%8A%B1%E9%B3%A5%E9%A2%A8%E6%9C%88%E6%88%A6', 'promoted_content': None, 'query': '%23%E3%81%AB%E3%81%98%E3%81%95%E3%82%93%E3%81%98%E8%8A%B1%E9%B3%A5%E9%A2%A8%E6%9C%88%E6%88%A6', 'tweet_volume': 20381}, {'name': 'Memphis', 'url': 'http://twitter.com/search?q=Memphis', 'promoted_content': None, 'query': 'Memphis', 'tweet_volume': 66598}, {'name': 'Grayson Allen', 'url': 'http://twitter.com/search?q=%22Grayson+Allen%22', 'promoted_content': None, 'query': '%22Grayson+Allen%22', 'tweet_volume': None}, {'name': 'TEAMWORK MAKES THE DREAM WORK', 'url': 'http://twitter.com/search?q=%22TEAMWORK+MAKES+THE+DREAM+WORK%22', 'promoted_content': None, 'query': '%22TEAMWORK+MAKES+THE+DREAM+WORK%22', 'tweet_volume': 207969}, {'name': 'Poole', 'url': 'http://twitter.com/search?q=Poole', 'promoted_content': None, 'query': 'Poole', 'tweet_volume': 19800}, {'name': 'ラストワン賞', 'url': 'http://twitter.com/search?q=%E3%83%A9%E3%82%B9%E3%83%88%E3%83%AF%E3%83%B3%E8%B3%9E', 'promoted_content': None, 'query': '%E3%83%A9%E3%82%B9%E3%83%88%E3%83%AF%E3%83%B3%E8%B3%9E', 'tweet_volume': None}, {'name': 'マンガ道場', 'url': 'http://twitter.com/search?q=%E3%83%9E%E3%83%B3%E3%82%AC%E9%81%93%E5%A0%B4', 'promoted_content': None, 'query': '%E3%83%9E%E3%83%B3%E3%82%AC%E9%81%93%E5%A0%B4', 'tweet_volume': 26189}, {'name': 'Golden State', 'url': 'http://twitter.com/search?q=%22Golden+State%22', 'promoted_content': None, 'query': '%22Golden+State%22', 'tweet_volume': 15724}, {'name': '視聴者の同情', 'url': 'http://twitter.com/search?q=%E8%A6%96%E8%81%B4%E8%80%85%E3%81%AE%E5%90%8C%E6%83%85', 'promoted_content': None, 'query': '%E8%A6%96%E8%81%B4%E8%80%85%E3%81%AE%E5%90%8C%E6%83%85', 'tweet_volume': None}, {'name': 'FANDOM HUG', 'url': 'http://twitter.com/search?q=%22FANDOM+HUG%22', 'promoted_content': None, 'query': '%22FANDOM+HUG%22', 'tweet_volume': 67927}, {'name': 'BUTTERVOTE OnBBMAs', 'url': 'http://twitter.com/search?q=%22BUTTERVOTE+OnBBMAs%22', 'promoted_content': None, 'query': '%22BUTTERVOTE+OnBBMAs%22', 'tweet_volume': 16114}, {'name': 'Vaze Lynchpin Of SSR Murder', 'url': 'http://twitter.com/search?q=%22Vaze+Lynchpin+Of+SSR+Murder%22', 'promoted_content': None, 'query': '%22Vaze+Lynchpin+Of+SSR+Murder%22', 'tweet_volume': 46035}, {'name': '알파 오메가', 'url': 'http://twitter.com/search?q=%22%EC%95%8C%ED%8C%8C+%EC%98%A4%EB%A9%94%EA%B0%80%22', 'promoted_content': None, 'query': '%22%EC%95%8C%ED%8C%8C+%EC%98%A4%EB%A9%94%EA%B0%80%22', 'tweet_volume': None}, {'name': '好評発売中', 'url': 'http://twitter.com/search?q=%E5%A5%BD%E8%A9%95%E7%99%BA%E5%A3%B2%E4%B8%AD', 'promoted_content': None, 'query': '%E5%A5%BD%E8%A9%95%E7%99%BA%E5%A3%B2%E4%B8%AD', 'tweet_volume': 19382}, {'name': '富永一朗さん', 'url': 'http://twitter.com/search?q=%E5%AF%8C%E6%B0%B8%E4%B8%80%E6%9C%97%E3%81%95%E3%82%93', 'promoted_content': None, 'query': '%E5%AF%8C%E6%B0%B8%E4%B8%80%E6%9C%97%E3%81%95%E3%82%93', 'tweet_volume': 21567}, {'name': 'Thiaguinho', 'url': 'http://twitter.com/search?q=Thiaguinho', 'promoted_content': None, 'query': 'Thiaguinho', 'tweet_volume': 18038}, {'name': 'GROUP HUG', 'url': 'http://twitter.com/search?q=%22GROUP+HUG%22', 'promoted_content': None, 'query': '%22GROUP+HUG%22', 'tweet_volume': 84332}, {'name': 'きらめちゃ', 'url': 'http://twitter.com/search?q=%E3%81%8D%E3%82%89%E3%82%81%E3%81%A1%E3%82%83', 'promoted_content': None, 'query': '%E3%81%8D%E3%82%89%E3%82%81%E3%81%A1%E3%82%83', 'tweet_volume': None}, {'name': '絶賛発売中', 'url': 'http://twitter.com/search?q=%E7%B5%B6%E8%B3%9B%E7%99%BA%E5%A3%B2%E4%B8%AD', 'promoted_content': None, 'query': '%E7%B5%B6%E8%B3%9B%E7%99%BA%E5%A3%B2%E4%B8%AD', 'tweet_volume': 32808}, {'name': 'Muster', 'url': 'http://twitter.com/search?q=Muster', 'promoted_content': None, 'query': 'Muster', 'tweet_volume': 318155}, {'name': 'Taylor Jenkins', 'url': 'http://twitter.com/search?q=%22Taylor+Jenkins%22', 'promoted_content': None, 'query': '%22Taylor+Jenkins%22', 'tweet_volume': None}, {'name': 'Bauer', 'url': 'http://twitter.com/search?q=Bauer', 'promoted_content': None, 'query': 'Bauer', 'tweet_volume': 11417}, {'name': 'ELLE HK LOVE JISOO', 'url': 'http://twitter.com/search?q=%22ELLE+HK+LOVE+JISOO%22', 'promoted_content': None, 'query': '%22ELLE+HK+LOVE+JISOO%22', 'tweet_volume': 89567}, {'name': 'Wiseman', 'url': 'http://twitter.com/search?q=Wiseman', 'promoted_content': None, 'query': 'Wiseman', 'tweet_volume': None}, {'name': '混じりっけ無しの純粋', 'url': 'http://twitter.com/search?q=%E6%B7%B7%E3%81%98%E3%82%8A%E3%81%A3%E3%81%91%E7%84%A1%E3%81%97%E3%81%AE%E7%B4%94%E7%B2%8B', 'promoted_content': None, 'query': '%E6%B7%B7%E3%81%98%E3%82%8A%E3%81%A3%E3%81%91%E7%84%A1%E3%81%97%E3%81%AE%E7%B4%94%E7%B2%8B', 'tweet_volume': None}, {'name': '悪のカリスマ', 'url': 'http://twitter.com/search?q=%E6%82%AA%E3%81%AE%E3%82%AB%E3%83%AA%E3%82%B9%E3%83%9E', 'promoted_content': None, 'query': '%E6%82%AA%E3%81%AE%E3%82%AB%E3%83%AA%E3%82%B9%E3%83%9E', 'tweet_volume': None}, {'name': 'Jazz', 'url': 'http://twitter.com/search?q=Jazz', 'promoted_content': None, 'query': 'Jazz', 'tweet_volume': 47771}, {'name': 'Tillman', 'url': 'http://twitter.com/search?q=Tillman', 'promoted_content': None, 'query': 'Tillman', 'tweet_volume': None}, {'name': '四天王のなか', 'url': 'http://twitter.com/search?q=%E5%9B%9B%E5%A4%A9%E7%8E%8B%E3%81%AE%E3%81%AA%E3%81%8B', 'promoted_content': None, 'query': '%E5%9B%9B%E5%A4%A9%E7%8E%8B%E3%81%AE%E3%81%AA%E3%81%8B', 'tweet_volume': None}, {'name': 'オンラインライブ', 'url': 'http://twitter.com/search?q=%E3%82%AA%E3%83%B3%E3%83%A9%E3%82%A4%E3%83%B3%E3%83%A9%E3%82%A4%E3%83%96', 'promoted_content': None, 'query': '%E3%82%AA%E3%83%B3%E3%83%A9%E3%82%A4%E3%83%B3%E3%83%A9%E3%82%A4%E3%83%96', 'tweet_volume': 11043}, {'name': 'I NOMINATE', 'url': 'http://twitter.com/search?q=%22I+NOMINATE%22', 'promoted_content': None, 'query': '%22I+NOMINATE%22', 'tweet_volume': 567282}, {'name': 'Steve Kerr', 'url': 'http://twitter.com/search?q=%22Steve+Kerr%22', 'promoted_content': None, 'query': '%22Steve+Kerr%22', 'tweet_volume': None}, {'name': '東京五輪児童・生徒81万人観戦計画', 'url': 'http://twitter.com/search?q=%E6%9D%B1%E4%BA%AC%E4%BA%94%E8%BC%AA%E5%85%90%E7%AB%A5%E3%83%BB%E7%94%9F%E5%BE%9281%E4%B8%87%E4%BA%BA%E8%A6%B3%E6%88%A6%E8%A8%88%E7%94%BB', 'promoted_content': None, 'query': '%E6%9D%B1%E4%BA%AC%E4%BA%94%E8%BC%AA%E5%85%90%E7%AB%A5%E3%83%BB%E7%94%9F%E5%BE%9281%E4%B8%87%E4%BA%BA%E8%A6%B3%E6%88%A6%E8%A8%88%E7%94%BB', 'tweet_volume': 10289}, {'name': 'Oilers', 'url': 'http://twitter.com/search?q=Oilers', 'promoted_content': None, 'query': 'Oilers', 'tweet_volume': 11072}, {'name': 'McDavid', 'url': 'http://twitter.com/search?q=McDavid', 'promoted_content': None, 'query': 'McDavid', 'tweet_volume': None}, {'name': '変更ナシ', 'url': 'http://twitter.com/search?q=%E5%A4%89%E6%9B%B4%E3%83%8A%E3%82%B7', 'promoted_content': None, 'query': '%E5%A4%89%E6%9B%B4%E3%83%8A%E3%82%B7', 'tweet_volume': None}, {'name': 'maisa', 'url': 'http://twitter.com/search?q=maisa', 'promoted_content': None, 'query': 'maisa', 'tweet_volume': 13899}, {'name': 'Adam Silver', 'url': 'http://twitter.com/search?q=%22Adam+Silver%22', 'promoted_content': None, 'query': '%22Adam+Silver%22', 'tweet_volume': None}, {'name': '尚輝3番', 'url': 'http://twitter.com/search?q=%E5%B0%9A%E8%BC%9D3%E7%95%AA', 'promoted_content': None, 'query': '%E5%B0%9A%E8%BC%9D3%E7%95%AA', 'tweet_volume': None}], 'as_of': '2021-05-22T06:07:38Z', 'created_at': '2021-05-21T10:44:35Z', 'locations': [{'name': 'Worldwide', 'woeid': 1}]}]\n",
            "\n",
            "[{'trends': [{'name': '#MasculinitySaturday', 'url': 'http://twitter.com/search?q=%23MasculinitySaturday', 'promoted_content': None, 'query': '%23MasculinitySaturday', 'tweet_volume': None}, {'name': 'Benjamin Ayimba', 'url': 'http://twitter.com/search?q=%22Benjamin+Ayimba%22', 'promoted_content': None, 'query': '%22Benjamin+Ayimba%22', 'tweet_volume': None}, {'name': '#JBMuturiCoronation', 'url': 'http://twitter.com/search?q=%23JBMuturiCoronation', 'promoted_content': None, 'query': '%23JBMuturiCoronation', 'tweet_volume': None}, {'name': 'GUARD YOUR FRAME', 'url': 'http://twitter.com/search?q=%22GUARD+YOUR+FRAME%22', 'promoted_content': None, 'query': '%22GUARD+YOUR+FRAME%22', 'tweet_volume': None}, {'name': '#BoycottSafariLink', 'url': 'http://twitter.com/search?q=%23BoycottSafariLink', 'promoted_content': None, 'query': '%23BoycottSafariLink', 'tweet_volume': None}, {'name': '#KiambuUnderNyoro', 'url': 'http://twitter.com/search?q=%23KiambuUnderNyoro', 'promoted_content': None, 'query': '%23KiambuUnderNyoro', 'tweet_volume': None}, {'name': '#TheMorningAfter', 'url': 'http://twitter.com/search?q=%23TheMorningAfter', 'promoted_content': None, 'query': '%23TheMorningAfter', 'tweet_volume': None}, {'name': 'Ja Morant', 'url': 'http://twitter.com/search?q=%22Ja+Morant%22', 'promoted_content': None, 'query': '%22Ja+Morant%22', 'tweet_volume': 52942}, {'name': 'Warriors', 'url': 'http://twitter.com/search?q=Warriors', 'promoted_content': None, 'query': 'Warriors', 'tweet_volume': 196389}, {'name': 'Draymond', 'url': 'http://twitter.com/search?q=Draymond', 'promoted_content': None, 'query': 'Draymond', 'tweet_volume': 70038}, {'name': 'Rugby', 'url': 'http://twitter.com/search?q=Rugby', 'promoted_content': None, 'query': 'Rugby', 'tweet_volume': 20803}, {'name': 'Steph', 'url': 'http://twitter.com/search?q=Steph', 'promoted_content': None, 'query': 'Steph', 'tweet_volume': 145571}, {'name': 'Happy Sabbath', 'url': 'http://twitter.com/search?q=%22Happy+Sabbath%22', 'promoted_content': None, 'query': '%22Happy+Sabbath%22', 'tweet_volume': None}, {'name': 'Grizzlies', 'url': 'http://twitter.com/search?q=Grizzlies', 'promoted_content': None, 'query': 'Grizzlies', 'tweet_volume': 53394}, {'name': 'Joho', 'url': 'http://twitter.com/search?q=Joho', 'promoted_content': None, 'query': 'Joho', 'tweet_volume': None}, {'name': 'Singapore', 'url': 'http://twitter.com/search?q=Singapore', 'promoted_content': None, 'query': 'Singapore', 'tweet_volume': 23872}, {'name': 'Rest in Power', 'url': 'http://twitter.com/search?q=%22Rest+in+Power%22', 'promoted_content': None, 'query': '%22Rest+in+Power%22', 'tweet_volume': None}, {'name': 'Malaria', 'url': 'http://twitter.com/search?q=Malaria', 'promoted_content': None, 'query': 'Malaria', 'tweet_volume': None}, {'name': 'Champ', 'url': 'http://twitter.com/search?q=Champ', 'promoted_content': None, 'query': 'Champ', 'tweet_volume': 37939}, {'name': 'Amerix', 'url': 'http://twitter.com/search?q=Amerix', 'promoted_content': None, 'query': 'Amerix', 'tweet_volume': None}, {'name': 'Orengo', 'url': 'http://twitter.com/search?q=Orengo', 'promoted_content': None, 'query': 'Orengo', 'tweet_volume': None}, {'name': 'Mudavadi', 'url': 'http://twitter.com/search?q=Mudavadi', 'promoted_content': None, 'query': 'Mudavadi', 'tweet_volume': None}, {'name': 'Born Again', 'url': 'http://twitter.com/search?q=%22Born+Again%22', 'promoted_content': None, 'query': '%22Born+Again%22', 'tweet_volume': None}, {'name': 'Satan', 'url': 'http://twitter.com/search?q=Satan', 'promoted_content': None, 'query': 'Satan', 'tweet_volume': 27956}, {'name': 'PayPal', 'url': 'http://twitter.com/search?q=PayPal', 'promoted_content': None, 'query': 'PayPal', 'tweet_volume': 69793}, {'name': 'West', 'url': 'http://twitter.com/search?q=West', 'promoted_content': None, 'query': 'West', 'tweet_volume': 205430}, {'name': 'Governor', 'url': 'http://twitter.com/search?q=Governor', 'promoted_content': None, 'query': 'Governor', 'tweet_volume': 78935}, {'name': 'Pole', 'url': 'http://twitter.com/search?q=Pole', 'promoted_content': None, 'query': 'Pole', 'tweet_volume': 22216}, {'name': 'Jana', 'url': 'http://twitter.com/search?q=Jana', 'promoted_content': None, 'query': 'Jana', 'tweet_volume': 20521}, {'name': 'NTSA', 'url': 'http://twitter.com/search?q=NTSA', 'promoted_content': None, 'query': 'NTSA', 'tweet_volume': None}, {'name': 'Jesus', 'url': 'http://twitter.com/search?q=Jesus', 'promoted_content': None, 'query': 'Jesus', 'tweet_volume': 250921}, {'name': 'Messi', 'url': 'http://twitter.com/search?q=Messi', 'promoted_content': None, 'query': 'Messi', 'tweet_volume': 126212}, {'name': 'Mheshimiwa', 'url': 'http://twitter.com/search?q=Mheshimiwa', 'promoted_content': None, 'query': 'Mheshimiwa', 'tweet_volume': None}, {'name': 'East', 'url': 'http://twitter.com/search?q=East', 'promoted_content': None, 'query': 'East', 'tweet_volume': 163880}, {'name': 'Australia', 'url': 'http://twitter.com/search?q=Australia', 'promoted_content': None, 'query': 'Australia', 'tweet_volume': 110553}, {'name': 'Uber', 'url': 'http://twitter.com/search?q=Uber', 'promoted_content': None, 'query': 'Uber', 'tweet_volume': 67222}, {'name': 'Kakamega', 'url': 'http://twitter.com/search?q=Kakamega', 'promoted_content': None, 'query': 'Kakamega', 'tweet_volume': None}, {'name': 'Saudi Arabia', 'url': 'http://twitter.com/search?q=%22Saudi+Arabia%22', 'promoted_content': None, 'query': '%22Saudi+Arabia%22', 'tweet_volume': 26408}, {'name': 'Aguero', 'url': 'http://twitter.com/search?q=Aguero', 'promoted_content': None, 'query': 'Aguero', 'tweet_volume': 35374}, {'name': 'Sugoi', 'url': 'http://twitter.com/search?q=Sugoi', 'promoted_content': None, 'query': 'Sugoi', 'tweet_volume': None}, {'name': 'Muranga', 'url': 'http://twitter.com/search?q=Muranga', 'promoted_content': None, 'query': 'Muranga', 'tweet_volume': None}, {'name': 'CJ Koome', 'url': 'http://twitter.com/search?q=%22CJ+Koome%22', 'promoted_content': None, 'query': '%22CJ+Koome%22', 'tweet_volume': None}, {'name': 'Hapo', 'url': 'http://twitter.com/search?q=Hapo', 'promoted_content': None, 'query': 'Hapo', 'tweet_volume': None}, {'name': 'Amen and Amen', 'url': 'http://twitter.com/search?q=%22Amen+and+Amen%22', 'promoted_content': None, 'query': '%22Amen+and+Amen%22', 'tweet_volume': 14167}, {'name': 'Ethiopia', 'url': 'http://twitter.com/search?q=Ethiopia', 'promoted_content': None, 'query': 'Ethiopia', 'tweet_volume': 63838}, {'name': 'Lakers', 'url': 'http://twitter.com/search?q=Lakers', 'promoted_content': None, 'query': 'Lakers', 'tweet_volume': 58368}, {'name': 'Powerful', 'url': 'http://twitter.com/search?q=Powerful', 'promoted_content': None, 'query': 'Powerful', 'tweet_volume': 170804}, {'name': 'May God', 'url': 'http://twitter.com/search?q=%22May+God%22', 'promoted_content': None, 'query': '%22May+God%22', 'tweet_volume': 42947}, {'name': 'Thankyou', 'url': 'http://twitter.com/search?q=Thankyou', 'promoted_content': None, 'query': 'Thankyou', 'tweet_volume': 64740}, {'name': 'Bible', 'url': 'http://twitter.com/search?q=Bible', 'promoted_content': None, 'query': 'Bible', 'tweet_volume': 59763}], 'as_of': '2021-05-22T06:07:39Z', 'created_at': '2021-04-25T05:18:09Z', 'locations': [{'name': 'Kenya', 'woeid': 23424863}]}]\n"
          ],
          "name": "stdout"
        }
      ]
    },
    {
      "cell_type": "code",
      "metadata": {
        "colab": {
          "base_uri": "https://localhost:8080/"
        },
        "id": "_sDCHSFNr7Ep",
        "outputId": "b35e7d9c-c2ad-49fa-ad0d-47f14d29dfec"
      },
      "source": [
        "for trend in world_trends[0]['trends']:\n",
        "    print(trend['name'])"
      ],
      "execution_count": 5,
      "outputs": [
        {
          "output_type": "stream",
          "text": [
            "Draymond\n",
            "#Whosfan_1st_Anniversary\n",
            "#후즈팬_1주년_축하해\n",
            "Ja Morant\n",
            "Steph\n",
            "Warriors\n",
            "Wiggins\n",
            "Grizzlies\n",
            "#人生で一番遊んだゲーム\n",
            "#Butter100M\n",
            "Klay\n",
            "#にじさんじ花鳥風月戦\n",
            "Memphis\n",
            "Grayson Allen\n",
            "TEAMWORK MAKES THE DREAM WORK\n",
            "Poole\n",
            "ラストワン賞\n",
            "マンガ道場\n",
            "Golden State\n",
            "視聴者の同情\n",
            "FANDOM HUG\n",
            "BUTTERVOTE OnBBMAs\n",
            "Vaze Lynchpin Of SSR Murder\n",
            "알파 오메가\n",
            "好評発売中\n",
            "富永一朗さん\n",
            "Thiaguinho\n",
            "GROUP HUG\n",
            "きらめちゃ\n",
            "絶賛発売中\n",
            "Muster\n",
            "Taylor Jenkins\n",
            "Bauer\n",
            "ELLE HK LOVE JISOO\n",
            "Wiseman\n",
            "混じりっけ無しの純粋\n",
            "悪のカリスマ\n",
            "Jazz\n",
            "Tillman\n",
            "四天王のなか\n",
            "オンラインライブ\n",
            "I NOMINATE\n",
            "Steve Kerr\n",
            "東京五輪児童・生徒81万人観戦計画\n",
            "Oilers\n",
            "McDavid\n",
            "変更ナシ\n",
            "maisa\n",
            "Adam Silver\n",
            "尚輝3番\n"
          ],
          "name": "stdout"
        }
      ]
    },
    {
      "cell_type": "code",
      "metadata": {
        "colab": {
          "base_uri": "https://localhost:8080/"
        },
        "id": "p3P_SQ9XsAj7",
        "outputId": "6657f061-88cb-44ef-a9bb-069d80925019"
      },
      "source": [
        "for trend in ke_trends[0]['trends']:\n",
        "    print(trend['name'])"
      ],
      "execution_count": 6,
      "outputs": [
        {
          "output_type": "stream",
          "text": [
            "#MasculinitySaturday\n",
            "Benjamin Ayimba\n",
            "#JBMuturiCoronation\n",
            "GUARD YOUR FRAME\n",
            "#BoycottSafariLink\n",
            "#KiambuUnderNyoro\n",
            "#TheMorningAfter\n",
            "Ja Morant\n",
            "Warriors\n",
            "Draymond\n",
            "Rugby\n",
            "Steph\n",
            "Happy Sabbath\n",
            "Grizzlies\n",
            "Joho\n",
            "Singapore\n",
            "Rest in Power\n",
            "Malaria\n",
            "Champ\n",
            "Amerix\n",
            "Orengo\n",
            "Mudavadi\n",
            "Born Again\n",
            "Satan\n",
            "PayPal\n",
            "West\n",
            "Governor\n",
            "Pole\n",
            "Jana\n",
            "NTSA\n",
            "Jesus\n",
            "Messi\n",
            "Mheshimiwa\n",
            "East\n",
            "Australia\n",
            "Uber\n",
            "Kakamega\n",
            "Saudi Arabia\n",
            "Aguero\n",
            "Sugoi\n",
            "Muranga\n",
            "CJ Koome\n",
            "Hapo\n",
            "Amen and Amen\n",
            "Ethiopia\n",
            "Lakers\n",
            "Powerful\n",
            "May God\n",
            "Thankyou\n",
            "Bible\n"
          ],
          "name": "stdout"
        }
      ]
    },
    {
      "cell_type": "code",
      "metadata": {
        "colab": {
          "base_uri": "https://localhost:8080/"
        },
        "id": "Dp4kv8YmsGp9",
        "outputId": "f6ec7150-8566-400b-f254-d285218e0890"
      },
      "source": [
        "world_trends_set = set([trend['name'] \n",
        "                        for trend in world_trends[0]['trends']])\n",
        "\n",
        "ke_trends_set = set([trend['name'] \n",
        "                     for trend in ke_trends[0]['trends']]) \n",
        "\n",
        "common_trends = world_trends_set.intersection(ke_trends_set)\n",
        "\n",
        "print(common_trends)"
      ],
      "execution_count": 7,
      "outputs": [
        {
          "output_type": "stream",
          "text": [
            "{'Warriors', 'Draymond', 'Steph', 'Grizzlies', 'Ja Morant'}\n"
          ],
          "name": "stdout"
        }
      ]
    },
    {
      "cell_type": "markdown",
      "metadata": {
        "id": "M5EkX-TzsSEP"
      },
      "source": [
        "### Anatomy of a Tweet"
      ]
    },
    {
      "cell_type": "code",
      "metadata": {
        "colab": {
          "base_uri": "https://localhost:8080/"
        },
        "id": "Oc1Ywv_WsPfK",
        "outputId": "54195f89-d93e-442a-833e-58580e25e70d"
      },
      "source": [
        "import json\n",
        "\n",
        "# Set this variable to a trending topic, \n",
        "# or anything else for that matter. The example query below\n",
        "# was a trending topic when this content was being developed\n",
        "# and is used throughout the remainder of this chapter.\n",
        "\n",
        "q = '#gbv' \n",
        "\n",
        "count = 100\n",
        "\n",
        "# Import unquote to prevent url encoding errors in next_results\n",
        "from urllib.parse import unquote\n",
        "\n",
        "# See https://dev.twitter.com/rest/reference/get/search/tweets\n",
        "\n",
        "search_results = twitter_api.search.tweets(q=q, count=count)\n",
        "\n",
        "statuses = search_results['statuses']\n",
        "\n",
        "\n",
        "# Iterate through 5 more batches of results by following the cursor\n",
        "for _ in range(5):\n",
        "    print('Length of statuses', len(statuses))\n",
        "    try:\n",
        "        next_results = search_results['search_metadata']['next_results']\n",
        "    except KeyError as e: # No more results when next_results doesn't exist\n",
        "        break\n",
        "        \n",
        "    # Create a dictionary from next_results, which has the following form:\n",
        "    # ?max_id=847960489447628799&q=%23RIPSelena&count=100&include_entities=1\n",
        "    kwargs = dict([ kv.split('=') for kv in unquote(next_results[1:]).split(\"&\") ])\n",
        "    \n",
        "    search_results = twitter_api.search.tweets(**kwargs)\n",
        "    statuses += search_results['statuses']\n",
        "\n",
        "# Show one sample search result by slicing the list...\n",
        "print(json.dumps(statuses[0], indent=1))"
      ],
      "execution_count": 8,
      "outputs": [
        {
          "output_type": "stream",
          "text": [
            "Length of statuses 100\n",
            "Length of statuses 200\n",
            "Length of statuses 300\n",
            "Length of statuses 400\n",
            "Length of statuses 500\n",
            "{\n",
            " \"created_at\": \"Sat May 22 06:00:08 +0000 2021\",\n",
            " \"id\": 1395982791544909824,\n",
            " \"id_str\": \"1395982791544909824\",\n",
            " \"text\": \"RT @SW10etseq: GR35 ensures women exposed to #sexualviolence have access to health care services that are responsive to trauma and include\\u2026\",\n",
            " \"truncated\": false,\n",
            " \"entities\": {\n",
            "  \"hashtags\": [\n",
            "   {\n",
            "    \"text\": \"sexualviolence\",\n",
            "    \"indices\": [\n",
            "     45,\n",
            "     60\n",
            "    ]\n",
            "   }\n",
            "  ],\n",
            "  \"symbols\": [],\n",
            "  \"user_mentions\": [\n",
            "   {\n",
            "    \"screen_name\": \"SW10etseq\",\n",
            "    \"name\": \"Janet Jones \\u2696\\ufe0f#50sWoman #CEDAWinLaw\\ud83c\\udfaf\\u2640\\ufe0f51% \\ud83d\\udc99\",\n",
            "    \"id\": 1105513179961008130,\n",
            "    \"id_str\": \"1105513179961008130\",\n",
            "    \"indices\": [\n",
            "     3,\n",
            "     13\n",
            "    ]\n",
            "   }\n",
            "  ],\n",
            "  \"urls\": []\n",
            " },\n",
            " \"metadata\": {\n",
            "  \"iso_language_code\": \"en\",\n",
            "  \"result_type\": \"recent\"\n",
            " },\n",
            " \"source\": \"<a href=\\\"http://twitter.com/download/android\\\" rel=\\\"nofollow\\\">Twitter for Android</a>\",\n",
            " \"in_reply_to_status_id\": null,\n",
            " \"in_reply_to_status_id_str\": null,\n",
            " \"in_reply_to_user_id\": null,\n",
            " \"in_reply_to_user_id_str\": null,\n",
            " \"in_reply_to_screen_name\": null,\n",
            " \"user\": {\n",
            "  \"id\": 1159881870,\n",
            "  \"id_str\": \"1159881870\",\n",
            "  \"name\": \"Kris Gibson #CEDAW #WBoR \\u2640\\ufe0f51%\",\n",
            "  \"screen_name\": \"KrisGibson13\",\n",
            "  \"location\": \"Somerset UK\",\n",
            "  \"description\": \"I am campaigning through the CEDAW People's Tribunal to get #CEDAW implemented into domestic law & a Women's Bill of Rights for ALL women & girls\\n\\n#50sWomen\",\n",
            "  \"url\": \"https://t.co/Qyi9bjEqDc\",\n",
            "  \"entities\": {\n",
            "   \"url\": {\n",
            "    \"urls\": [\n",
            "     {\n",
            "      \"url\": \"https://t.co/Qyi9bjEqDc\",\n",
            "      \"expanded_url\": \"http://Cedawpt.com\",\n",
            "      \"display_url\": \"Cedawpt.com\",\n",
            "      \"indices\": [\n",
            "       0,\n",
            "       23\n",
            "      ]\n",
            "     }\n",
            "    ]\n",
            "   },\n",
            "   \"description\": {\n",
            "    \"urls\": []\n",
            "   }\n",
            "  },\n",
            "  \"protected\": false,\n",
            "  \"followers_count\": 1665,\n",
            "  \"friends_count\": 2090,\n",
            "  \"listed_count\": 2,\n",
            "  \"created_at\": \"Fri Feb 08 11:19:56 +0000 2013\",\n",
            "  \"favourites_count\": 44669,\n",
            "  \"utc_offset\": null,\n",
            "  \"time_zone\": null,\n",
            "  \"geo_enabled\": false,\n",
            "  \"verified\": false,\n",
            "  \"statuses_count\": 44276,\n",
            "  \"lang\": null,\n",
            "  \"contributors_enabled\": false,\n",
            "  \"is_translator\": false,\n",
            "  \"is_translation_enabled\": false,\n",
            "  \"profile_background_color\": \"C0DEED\",\n",
            "  \"profile_background_image_url\": \"http://abs.twimg.com/images/themes/theme1/bg.png\",\n",
            "  \"profile_background_image_url_https\": \"https://abs.twimg.com/images/themes/theme1/bg.png\",\n",
            "  \"profile_background_tile\": false,\n",
            "  \"profile_image_url\": \"http://pbs.twimg.com/profile_images/1212327873945767937/y19J76P5_normal.jpg\",\n",
            "  \"profile_image_url_https\": \"https://pbs.twimg.com/profile_images/1212327873945767937/y19J76P5_normal.jpg\",\n",
            "  \"profile_banner_url\": \"https://pbs.twimg.com/profile_banners/1159881870/1620984964\",\n",
            "  \"profile_link_color\": \"1DA1F2\",\n",
            "  \"profile_sidebar_border_color\": \"C0DEED\",\n",
            "  \"profile_sidebar_fill_color\": \"DDEEF6\",\n",
            "  \"profile_text_color\": \"333333\",\n",
            "  \"profile_use_background_image\": true,\n",
            "  \"has_extended_profile\": false,\n",
            "  \"default_profile\": true,\n",
            "  \"default_profile_image\": false,\n",
            "  \"following\": false,\n",
            "  \"follow_request_sent\": false,\n",
            "  \"notifications\": false,\n",
            "  \"translator_type\": \"none\",\n",
            "  \"withheld_in_countries\": []\n",
            " },\n",
            " \"geo\": null,\n",
            " \"coordinates\": null,\n",
            " \"place\": null,\n",
            " \"contributors\": null,\n",
            " \"retweeted_status\": {\n",
            "  \"created_at\": \"Sat May 22 00:27:44 +0000 2021\",\n",
            "  \"id\": 1395899141465821189,\n",
            "  \"id_str\": \"1395899141465821189\",\n",
            "  \"text\": \"GR35 ensures women exposed to #sexualviolence have access to health care services that are responsive to trauma and\\u2026 https://t.co/TNOn1sYgxy\",\n",
            "  \"truncated\": true,\n",
            "  \"entities\": {\n",
            "   \"hashtags\": [\n",
            "    {\n",
            "     \"text\": \"sexualviolence\",\n",
            "     \"indices\": [\n",
            "      30,\n",
            "      45\n",
            "     ]\n",
            "    }\n",
            "   ],\n",
            "   \"symbols\": [],\n",
            "   \"user_mentions\": [],\n",
            "   \"urls\": [\n",
            "    {\n",
            "     \"url\": \"https://t.co/TNOn1sYgxy\",\n",
            "     \"expanded_url\": \"https://twitter.com/i/web/status/1395899141465821189\",\n",
            "     \"display_url\": \"twitter.com/i/web/status/1\\u2026\",\n",
            "     \"indices\": [\n",
            "      117,\n",
            "      140\n",
            "     ]\n",
            "    }\n",
            "   ]\n",
            "  },\n",
            "  \"metadata\": {\n",
            "   \"iso_language_code\": \"en\",\n",
            "   \"result_type\": \"recent\"\n",
            "  },\n",
            "  \"source\": \"<a href=\\\"http://twitter.com/#!/download/ipad\\\" rel=\\\"nofollow\\\">Twitter for iPad</a>\",\n",
            "  \"in_reply_to_status_id\": null,\n",
            "  \"in_reply_to_status_id_str\": null,\n",
            "  \"in_reply_to_user_id\": null,\n",
            "  \"in_reply_to_user_id_str\": null,\n",
            "  \"in_reply_to_screen_name\": null,\n",
            "  \"user\": {\n",
            "   \"id\": 1105513179961008130,\n",
            "   \"id_str\": \"1105513179961008130\",\n",
            "   \"name\": \"Janet Jones \\u2696\\ufe0f#50sWoman #CEDAWinLaw\\ud83c\\udfaf\\u2640\\ufe0f51% \\ud83d\\udc99\",\n",
            "   \"screen_name\": \"SW10etseq\",\n",
            "   \"location\": \"Birmingham, England\",\n",
            "   \"description\": \"For all #Women & #Girls #Equality not lip service to it. \\u23ed@CedawPT https://t.co/5jSbStsO0b @2020Comms #WomensBillOfRights no more excuses. \\u2696\\ufe0f@NazirAfzal @GardenCourtLaw\\u2696\\ufe0f\",\n",
            "   \"url\": \"https://t.co/Ptk3AOjdtd\",\n",
            "   \"entities\": {\n",
            "    \"url\": {\n",
            "     \"urls\": [\n",
            "      {\n",
            "       \"url\": \"https://t.co/Ptk3AOjdtd\",\n",
            "       \"expanded_url\": \"https://youtu.be/L9g_iiqgJfk\",\n",
            "       \"display_url\": \"youtu.be/L9g_iiqgJfk\",\n",
            "       \"indices\": [\n",
            "        0,\n",
            "        23\n",
            "       ]\n",
            "      }\n",
            "     ]\n",
            "    },\n",
            "    \"description\": {\n",
            "     \"urls\": [\n",
            "      {\n",
            "       \"url\": \"https://t.co/5jSbStsO0b\",\n",
            "       \"expanded_url\": \"http://cedawpt.com\",\n",
            "       \"display_url\": \"cedawpt.com\",\n",
            "       \"indices\": [\n",
            "        67,\n",
            "        90\n",
            "       ]\n",
            "      }\n",
            "     ]\n",
            "    }\n",
            "   },\n",
            "   \"protected\": false,\n",
            "   \"followers_count\": 1504,\n",
            "   \"friends_count\": 2179,\n",
            "   \"listed_count\": 4,\n",
            "   \"created_at\": \"Tue Mar 12 16:57:36 +0000 2019\",\n",
            "   \"favourites_count\": 78134,\n",
            "   \"utc_offset\": null,\n",
            "   \"time_zone\": null,\n",
            "   \"geo_enabled\": true,\n",
            "   \"verified\": false,\n",
            "   \"statuses_count\": 73507,\n",
            "   \"lang\": null,\n",
            "   \"contributors_enabled\": false,\n",
            "   \"is_translator\": false,\n",
            "   \"is_translation_enabled\": false,\n",
            "   \"profile_background_color\": \"F5F8FA\",\n",
            "   \"profile_background_image_url\": null,\n",
            "   \"profile_background_image_url_https\": null,\n",
            "   \"profile_background_tile\": false,\n",
            "   \"profile_image_url\": \"http://pbs.twimg.com/profile_images/1189843935797137408/HXiUvPVD_normal.jpg\",\n",
            "   \"profile_image_url_https\": \"https://pbs.twimg.com/profile_images/1189843935797137408/HXiUvPVD_normal.jpg\",\n",
            "   \"profile_banner_url\": \"https://pbs.twimg.com/profile_banners/1105513179961008130/1621064685\",\n",
            "   \"profile_link_color\": \"1DA1F2\",\n",
            "   \"profile_sidebar_border_color\": \"C0DEED\",\n",
            "   \"profile_sidebar_fill_color\": \"DDEEF6\",\n",
            "   \"profile_text_color\": \"333333\",\n",
            "   \"profile_use_background_image\": true,\n",
            "   \"has_extended_profile\": false,\n",
            "   \"default_profile\": true,\n",
            "   \"default_profile_image\": false,\n",
            "   \"following\": false,\n",
            "   \"follow_request_sent\": false,\n",
            "   \"notifications\": false,\n",
            "   \"translator_type\": \"none\",\n",
            "   \"withheld_in_countries\": []\n",
            "  },\n",
            "  \"geo\": null,\n",
            "  \"coordinates\": null,\n",
            "  \"place\": null,\n",
            "  \"contributors\": null,\n",
            "  \"is_quote_status\": false,\n",
            "  \"retweet_count\": 5,\n",
            "  \"favorite_count\": 3,\n",
            "  \"favorited\": false,\n",
            "  \"retweeted\": false,\n",
            "  \"possibly_sensitive\": false,\n",
            "  \"lang\": \"en\"\n",
            " },\n",
            " \"is_quote_status\": false,\n",
            " \"retweet_count\": 5,\n",
            " \"favorite_count\": 0,\n",
            " \"favorited\": false,\n",
            " \"retweeted\": false,\n",
            " \"lang\": \"en\"\n",
            "}\n"
          ],
          "name": "stdout"
        }
      ]
    },
    {
      "cell_type": "code",
      "metadata": {
        "colab": {
          "base_uri": "https://localhost:8080/"
        },
        "id": "y115DnvvsYuH",
        "outputId": "45e0f328-1aee-4d3b-f3bd-052cef633bda"
      },
      "source": [
        "for i in range(15):\n",
        "    print()\n",
        "    print(statuses[i]['text'])\n",
        "    print('Favorites: ', statuses[i]['favorite_count'])\n",
        "    print('Retweets: ', statuses[i]['retweet_count'])"
      ],
      "execution_count": 10,
      "outputs": [
        {
          "output_type": "stream",
          "text": [
            "\n",
            "RT @SW10etseq: GR35 ensures women exposed to #sexualviolence have access to health care services that are responsive to trauma and include…\n",
            "Favorites:  0\n",
            "Retweets:  5\n",
            "\n",
            "RT @RwandaDeafwomen: Rwanda Investigation Bureau @RIB_Rw is collaborating with  @RwandaDeafwomen to train Deaf women &amp; Girls fluent in Rwan…\n",
            "Favorites:  0\n",
            "Retweets:  3\n",
            "\n",
            "RT @shiburyder: The murder &amp; arson case against 30 year old Freddy Modiba, who allegedly doused &amp; set alight his girlfriend #LindiweMogale…\n",
            "Favorites:  0\n",
            "Retweets:  8\n",
            "\n",
            "RT @joie_phebe: I don't even wake up 6am for class😂😂♥️\n",
            "Ah!!!\n",
            "Stalwarts Lions!!!!!!!!🏆\n",
            "Can't wait to see y'all show part 6 who is boss oo🔥\n",
            "#…\n",
            "Favorites:  0\n",
            "Retweets:  2\n",
            "\n",
            "RT @AgameMagdelene: @zeaxumawit @VOADirector @VOAAfrica @VOANews @AP @JRosenworcel @USAGov @Reuters Mocking gender based violence and killi…\n",
            "Favorites:  0\n",
            "Retweets:  12\n",
            "\n",
            "RT @joie_phebe: I don't even wake up 6am for class😂😂♥️\n",
            "Ah!!!\n",
            "Stalwarts Lions!!!!!!!!🏆\n",
            "Can't wait to see y'all show part 6 who is boss oo🔥\n",
            "#…\n",
            "Favorites:  0\n",
            "Retweets:  2\n",
            "\n",
            "I don't even wake up 6am for class😂😂♥️\n",
            "Ah!!!\n",
            "Stalwarts Lions!!!!!!!!🏆\n",
            "Can't wait to see y'all show part 6 who is bo… https://t.co/X4sEqLC9Qv\n",
            "Favorites:  5\n",
            "Retweets:  2\n",
            "\n",
            "RT @MAbubannks: Just the two of us can make a difference in our by ensuring safe spaces for everyone it’s our responsibility to restore wha…\n",
            "Favorites:  0\n",
            "Retweets:  5\n",
            "\n",
            "RT @SafeSpeak: We need men to not only condemn #GBV but to also speak openly about this vice that many have grown observing, initiating or…\n",
            "Favorites:  0\n",
            "Retweets:  26\n",
            "\n",
            "RT @nwc1145: लकडाउनको बेला घरेलु वा महिला हिंसा न्यूनीकरण कसरी गर्ने?\n",
            "खबर गरौँ ११४५\n",
            "आशा क्राइसिस सेन्टर - ९९०११९३०८८\n",
            "सिविन बाल हेल्पलाईन -…\n",
            "Favorites:  0\n",
            "Retweets:  9\n",
            "\n",
            "RT @AgameMagdelene: @zeaxumawit @VOADirector @VOAAfrica @VOANews @AP @JRosenworcel @USAGov @Reuters Mocking gender based violence and killi…\n",
            "Favorites:  0\n",
            "Retweets:  12\n",
            "\n",
            "RT @MAbubannks: Just the two of us can make a difference in our by ensuring safe spaces for everyone it’s our responsibility to restore wha…\n",
            "Favorites:  0\n",
            "Retweets:  5\n",
            "\n",
            "RT @AgameMagdelene: @zeaxumawit @VOADirector @VOAAfrica @VOANews @AP @JRosenworcel @USAGov @Reuters Mocking gender based violence and killi…\n",
            "Favorites:  0\n",
            "Retweets:  12\n",
            "\n",
            "RT @HRMFRC: Join us for a virtual information session addressing the important topic of gender-based violence. Learn about this type of abu…\n",
            "Favorites:  0\n",
            "Retweets:  1\n",
            "\n",
            "RT @GBV_CHILE: Seccion #VLPOCero #GBV y @CarabValparaiso Subcomisaría Placilla #Valpo recuperan vehículo desmantelado @SubPrevDelito @Leona…\n",
            "Favorites:  0\n",
            "Retweets:  4\n"
          ],
          "name": "stdout"
        }
      ]
    },
    {
      "cell_type": "markdown",
      "metadata": {
        "id": "6oZfjjYXsvt9"
      },
      "source": [
        "### Extracting text, screen names, and hashtags from tweets"
      ]
    },
    {
      "cell_type": "code",
      "metadata": {
        "colab": {
          "base_uri": "https://localhost:8080/"
        },
        "id": "yQc76hKIsotZ",
        "outputId": "73e481b6-261a-4e15-c16e-e4b91afdab64"
      },
      "source": [
        "status_texts = [ status['text'] \n",
        "                 for status in statuses ]\n",
        "\n",
        "screen_names = [ user_mention['screen_name'] \n",
        "                 for status in statuses\n",
        "                     for user_mention in status['entities']['user_mentions'] ]\n",
        "\n",
        "hashtags = [ hashtag['text'] \n",
        "             for status in statuses\n",
        "                 for hashtag in status['entities']['hashtags'] ]\n",
        "\n",
        "# Compute a collection of all words from all tweets\n",
        "words = [ w \n",
        "          for t in status_texts \n",
        "              for w in t.split() ]\n",
        "\n",
        "# Explore the first 5 items for each...\n",
        "\n",
        "print(json.dumps(status_texts[0:5], indent=1))\n",
        "print(json.dumps(screen_names[0:5], indent=1) )\n",
        "print(json.dumps(hashtags[0:5], indent=1))\n",
        "print(json.dumps(words[0:5], indent=1))"
      ],
      "execution_count": 11,
      "outputs": [
        {
          "output_type": "stream",
          "text": [
            "[\n",
            " \"RT @SW10etseq: GR35 ensures women exposed to #sexualviolence have access to health care services that are responsive to trauma and include\\u2026\",\n",
            " \"RT @RwandaDeafwomen: Rwanda Investigation Bureau @RIB_Rw is collaborating with  @RwandaDeafwomen to train Deaf women &amp; Girls fluent in Rwan\\u2026\",\n",
            " \"RT @shiburyder: The murder &amp; arson case against 30 year old Freddy Modiba, who allegedly doused &amp; set alight his girlfriend #LindiweMogale\\u2026\",\n",
            " \"RT @joie_phebe: I don't even wake up 6am for class\\ud83d\\ude02\\ud83d\\ude02\\u2665\\ufe0f\\nAh!!!\\nStalwarts Lions!!!!!!!!\\ud83c\\udfc6\\nCan't wait to see y'all show part 6 who is boss oo\\ud83d\\udd25\\n#\\u2026\",\n",
            " \"RT @AgameMagdelene: @zeaxumawit @VOADirector @VOAAfrica @VOANews @AP @JRosenworcel @USAGov @Reuters Mocking gender based violence and killi\\u2026\"\n",
            "]\n",
            "[\n",
            " \"SW10etseq\",\n",
            " \"RwandaDeafwomen\",\n",
            " \"RIB_Rw\",\n",
            " \"RwandaDeafwomen\",\n",
            " \"shiburyder\"\n",
            "]\n",
            "[\n",
            " \"sexualviolence\",\n",
            " \"LindiweMogale\",\n",
            " \"GBV\",\n",
            " \"VLPOCero\",\n",
            " \"GBV\"\n",
            "]\n",
            "[\n",
            " \"RT\",\n",
            " \"@SW10etseq:\",\n",
            " \"GR35\",\n",
            " \"ensures\",\n",
            " \"women\"\n",
            "]\n"
          ],
          "name": "stdout"
        }
      ]
    },
    {
      "cell_type": "markdown",
      "metadata": {
        "id": "lm2Ve3Iis63P"
      },
      "source": [
        "### Creating a basic frequency distribution from the words in tweets"
      ]
    },
    {
      "cell_type": "code",
      "metadata": {
        "colab": {
          "base_uri": "https://localhost:8080/"
        },
        "id": "yarO3KRis0ZF",
        "outputId": "a9d298c7-de0b-4a97-a6fe-2bbb9315fc32"
      },
      "source": [
        "from collections import Counter\n",
        "\n",
        "for item in [words, screen_names, hashtags]:\n",
        "    c = Counter(item)\n",
        "    print(c.most_common()[:10]) # top 10\n",
        "    print()"
      ],
      "execution_count": 12,
      "outputs": [
        {
          "output_type": "stream",
          "text": [
            "[('RT', 445), ('to', 307), ('in', 232), ('the', 230), ('of', 222), ('and', 185), ('a', 181), ('#GBV', 175), ('for', 123), ('women', 115)]\n",
            "\n",
            "[('CedawPT', 30), ('DenisMukwege', 29), ('MukwegeCitation', 28), ('UNFPAEthiopia', 27), ('SafeSpeak', 26), ('StandtoEndRape', 21), ('IfumsaOau', 19), ('stwtoken', 19), ('NdabaMandela', 19), ('ActnowAfrica', 19)]\n",
            "\n",
            "[('GBV', 195), ('CEDAW', 23), ('SGBV', 21), ('COVID19', 17), ('sexualharassment', 16), ('femicide', 14), ('EnoughIsEnough', 14), ('FGMC', 13), ('IHW21', 10), ('gbv', 9)]\n",
            "\n"
          ],
          "name": "stdout"
        }
      ]
    },
    {
      "cell_type": "markdown",
      "metadata": {
        "id": "FYfwLutwtA7f"
      },
      "source": [
        "### Using prettytable to display tuples in a nice tabular format"
      ]
    },
    {
      "cell_type": "code",
      "metadata": {
        "colab": {
          "base_uri": "https://localhost:8080/"
        },
        "id": "3DO3-oxHs9ZS",
        "outputId": "27b3e89b-bfc9-4c87-e7c0-03cf73e58636"
      },
      "source": [
        "from prettytable import PrettyTable\n",
        "\n",
        "for label, data in (('Word', words), \n",
        "                    ('Screen Name', screen_names), \n",
        "                    ('Hashtag', hashtags)):\n",
        "    pt = PrettyTable(field_names=[label, 'Count']) \n",
        "    c = Counter(data)\n",
        "    [ pt.add_row(kv) for kv in c.most_common()[:10] ]\n",
        "    pt.align[label], pt.align['Count'] = 'l', 'r' # Set column alignment\n",
        "    print(pt)"
      ],
      "execution_count": 13,
      "outputs": [
        {
          "output_type": "stream",
          "text": [
            "+-------+-------+\n",
            "| Word  | Count |\n",
            "+-------+-------+\n",
            "| RT    |   445 |\n",
            "| to    |   307 |\n",
            "| in    |   232 |\n",
            "| the   |   230 |\n",
            "| of    |   222 |\n",
            "| and   |   185 |\n",
            "| a     |   181 |\n",
            "| #GBV  |   175 |\n",
            "| for   |   123 |\n",
            "| women |   115 |\n",
            "+-------+-------+\n",
            "+-----------------+-------+\n",
            "| Screen Name     | Count |\n",
            "+-----------------+-------+\n",
            "| CedawPT         |    30 |\n",
            "| DenisMukwege    |    29 |\n",
            "| MukwegeCitation |    28 |\n",
            "| UNFPAEthiopia   |    27 |\n",
            "| SafeSpeak       |    26 |\n",
            "| StandtoEndRape  |    21 |\n",
            "| IfumsaOau       |    19 |\n",
            "| stwtoken        |    19 |\n",
            "| NdabaMandela    |    19 |\n",
            "| ActnowAfrica    |    19 |\n",
            "+-----------------+-------+\n",
            "+------------------+-------+\n",
            "| Hashtag          | Count |\n",
            "+------------------+-------+\n",
            "| GBV              |   195 |\n",
            "| CEDAW            |    23 |\n",
            "| SGBV             |    21 |\n",
            "| COVID19          |    17 |\n",
            "| sexualharassment |    16 |\n",
            "| femicide         |    14 |\n",
            "| EnoughIsEnough   |    14 |\n",
            "| FGMC             |    13 |\n",
            "| IHW21            |    10 |\n",
            "| gbv              |     9 |\n",
            "+------------------+-------+\n"
          ],
          "name": "stdout"
        }
      ]
    },
    {
      "cell_type": "markdown",
      "metadata": {
        "id": "aifsl36DtPvn"
      },
      "source": [
        "### Calculating lexical diversity for tweets"
      ]
    },
    {
      "cell_type": "code",
      "metadata": {
        "colab": {
          "base_uri": "https://localhost:8080/"
        },
        "id": "4sTlz0TKtGB_",
        "outputId": "cf399c96-5a9f-419d-bb19-ebca6733f0b1"
      },
      "source": [
        "# A function for computing lexical diversity\n",
        "def lexical_diversity(tokens):\n",
        "    return len(set(tokens))/len(tokens) \n",
        "\n",
        "# A function for computing the average number of words per tweet\n",
        "def average_words(statuses):\n",
        "    total_words = sum([ len(s.split()) for s in statuses ]) \n",
        "    return total_words/len(statuses)\n",
        "\n",
        "print(f'words: {lexical_diversity(words)}')\n",
        "print(f'screen_names: {lexical_diversity(screen_names)}')\n",
        "print(f'hashtags: {lexical_diversity(hashtags)}')\n",
        "print(f'status_texts: {average_words(status_texts)}')"
      ],
      "execution_count": 15,
      "outputs": [
        {
          "output_type": "stream",
          "text": [
            "words: 0.17981910214919924\n",
            "screen_names: 0.21666666666666667\n",
            "hashtags: 0.2591304347826087\n",
            "status_texts: 20.085\n"
          ],
          "name": "stdout"
        }
      ]
    },
    {
      "cell_type": "markdown",
      "metadata": {
        "id": "ZbMndkQttW3n"
      },
      "source": [
        "### Finding the most popular retweets"
      ]
    },
    {
      "cell_type": "code",
      "metadata": {
        "colab": {
          "base_uri": "https://localhost:8080/"
        },
        "id": "NdN4AddZtSWx",
        "outputId": "3f5bf639-110a-4a62-c698-e1c469df5bac"
      },
      "source": [
        "retweets = [\n",
        "            # Store out a tuple of these three values ...\n",
        "            (status['retweet_count'], \n",
        "             status['retweeted_status']['user']['screen_name'],\n",
        "             status['retweeted_status']['id'],\n",
        "             status['text']) \n",
        "            \n",
        "            # ... for each status ...\n",
        "            for status in statuses \n",
        "            \n",
        "            # ... so long as the status meets this condition.\n",
        "                if 'retweeted_status' in status.keys()\n",
        "           ]\n",
        "\n",
        "# Slice off the first 5 from the sorted results and display each item in the tuple\n",
        "\n",
        "pt = PrettyTable(field_names=['Count', 'Screen Name', 'Tweet ID', 'Text'])\n",
        "[ pt.add_row(row) for row in sorted(retweets, reverse=True)[:5] ]\n",
        "pt.max_width['Text'] = 50\n",
        "pt.align= 'l'\n",
        "print(pt)"
      ],
      "execution_count": 16,
      "outputs": [
        {
          "output_type": "stream",
          "text": [
            "+-------+-------------+---------------------+----------------------------------------------------+\n",
            "| Count | Screen Name | Tweet ID            | Text                                               |\n",
            "+-------+-------------+---------------------+----------------------------------------------------+\n",
            "| 337   | P_Marubz    | 1390957923422113794 | RT @P_Marubz: Yhu guys #GBV is so out of control   |\n",
            "|       |             |                     | in South Africa that men now beat up women even at |\n",
            "|       |             |                     | their place of work. I can tell you now…           |\n",
            "| 337   | P_Marubz    | 1390957923422113794 | RT @P_Marubz: Yhu guys #GBV is so out of control   |\n",
            "|       |             |                     | in South Africa that men now beat up women even at |\n",
            "|       |             |                     | their place of work. I can tell you now…           |\n",
            "| 337   | P_Marubz    | 1390957923422113794 | RT @P_Marubz: Yhu guys #GBV is so out of control   |\n",
            "|       |             |                     | in South Africa that men now beat up women even at |\n",
            "|       |             |                     | their place of work. I can tell you now…           |\n",
            "| 337   | P_Marubz    | 1390957923422113794 | RT @P_Marubz: Yhu guys #GBV is so out of control   |\n",
            "|       |             |                     | in South Africa that men now beat up women even at |\n",
            "|       |             |                     | their place of work. I can tell you now…           |\n",
            "| 337   | P_Marubz    | 1390957923422113794 | RT @P_Marubz: Yhu guys #GBV is so out of control   |\n",
            "|       |             |                     | in South Africa that men now beat up women even at |\n",
            "|       |             |                     | their place of work. I can tell you now…           |\n",
            "+-------+-------------+---------------------+----------------------------------------------------+\n"
          ],
          "name": "stdout"
        }
      ]
    },
    {
      "cell_type": "markdown",
      "metadata": {
        "id": "SwV5sUWtt3ww"
      },
      "source": [
        "### Looking up users who have retweeted a status"
      ]
    },
    {
      "cell_type": "code",
      "metadata": {
        "colab": {
          "base_uri": "https://localhost:8080/"
        },
        "id": "HOj7rE0CtwcO",
        "outputId": "e1c15ce4-281c-4c70-ae72-e44969fcba44"
      },
      "source": [
        "# Get the original tweet id for a tweet from its retweeted_status node \n",
        "# and insert it here\n",
        "\n",
        "_retweets = twitter_api.statuses.retweets(id=862359093398261760)\n",
        "print([r['user']['screen_name'] for r in _retweets])"
      ],
      "execution_count": 17,
      "outputs": [
        {
          "output_type": "stream",
          "text": [
            "['vijoumolce1988', 'driftourare1988', 'NoNicheNC', 'livingmybestie', 'Rockawaytheday']\n"
          ],
          "name": "stdout"
        }
      ]
    },
    {
      "cell_type": "markdown",
      "metadata": {
        "id": "GX6n7bjKuEJo"
      },
      "source": [
        "### Plotting frequencies of words"
      ]
    },
    {
      "cell_type": "code",
      "metadata": {
        "colab": {
          "base_uri": "https://localhost:8080/",
          "height": 301
        },
        "id": "pRt-aiXtt7UZ",
        "outputId": "06fa7ede-fc2b-4964-d127-d945e24293a3"
      },
      "source": [
        "import matplotlib.pyplot as plt\n",
        "%matplotlib inline\n",
        "word_counts = sorted(Counter(words).values(), reverse=True)\n",
        "\n",
        "plt.loglog(word_counts)\n",
        "plt.ylabel(\"Freq\")\n",
        "plt.xlabel(\"Word Rank\")"
      ],
      "execution_count": 18,
      "outputs": [
        {
          "output_type": "execute_result",
          "data": {
            "text/plain": [
              "Text(0.5, 0, 'Word Rank')"
            ]
          },
          "metadata": {
            "tags": []
          },
          "execution_count": 18
        },
        {
          "output_type": "display_data",
          "data": {
            "image/png": "[encoded data removed]",
            "text/plain": [
              "<Figure size 432x288 with 1 Axes>"
            ]
          },
          "metadata": {
            "tags": [],
            "needs_background": "light"
          }
        }
      ]
    },
    {
      "cell_type": "markdown",
      "metadata": {
        "id": "QhaksjrvuQqh"
      },
      "source": [
        "### Generating histograms of words, screen names, and hashtags"
      ]
    },
    {
      "cell_type": "code",
      "metadata": {
        "colab": {
          "base_uri": "https://localhost:8080/",
          "height": 869
        },
        "id": "LGydZ5B3uM2Z",
        "outputId": "c90bcf0c-ee89-49d2-8df6-9e23023786ec"
      },
      "source": [
        "for label, data in (('Words', words), \n",
        "                    ('Screen Names', screen_names), \n",
        "                    ('Hashtags', hashtags)):\n",
        "\n",
        "    # Build a frequency map for each set of data\n",
        "    # and plot the values\n",
        "    c = Counter(data)\n",
        "    plt.hist(list(c.values()))\n",
        "    \n",
        "    # Add a title and y-label ...\n",
        "    plt.title(label)\n",
        "    plt.ylabel(\"Number of items in bin\")\n",
        "    plt.xlabel(\"Bins (number of times an item appeared)\")\n",
        "    \n",
        "    # ... and display as a new figure\n",
        "    plt.figure()"
      ],
      "execution_count": 19,
      "outputs": [
        {
          "output_type": "display_data",
          "data": {
            "image/png": "[encoded data removed]",
            "text/plain": [
              "<Figure size 432x288 with 1 Axes>"
            ]
          },
          "metadata": {
            "tags": [],
            "needs_background": "light"
          }
        },
        {
          "output_type": "display_data",
          "data": {
            "image/png": "[encoded data removed]",
            "text/plain": [
              "<Figure size 432x288 with 1 Axes>"
            ]
          },
          "metadata": {
            "tags": [],
            "needs_background": "light"
          }
        },
        {
          "output_type": "display_data",
          "data": {
            "image/png": "[encoded data removed]",
            "text/plain": [
              "<Figure size 432x288 with 1 Axes>"
            ]
          },
          "metadata": {
            "tags": [],
            "needs_background": "light"
          }
        },
        {
          "output_type": "display_data",
          "data": {
            "text/plain": [
              "<Figure size 432x288 with 0 Axes>"
            ]
          },
          "metadata": {
            "tags": []
          }
        }
      ]
    },
    {
      "cell_type": "markdown",
      "metadata": {
        "id": "AwsXu9e1uXhq"
      },
      "source": [
        "### Generating a histogram of retweet counts"
      ]
    },
    {
      "cell_type": "code",
      "metadata": {
        "colab": {
          "base_uri": "https://localhost:8080/",
          "height": 313
        },
        "id": "a-6_trSauUgd",
        "outputId": "4cf50cca-b5fa-41fb-c857-17ca872d7ad9"
      },
      "source": [
        "# Using underscores while unpacking values in\n",
        "# a tuple is idiomatic for discarding them\n",
        "\n",
        "counts = [count for count, _, _, _ in retweets]\n",
        "\n",
        "plt.hist(counts)\n",
        "plt.title('Retweets')\n",
        "plt.xlabel('Bins (number of times retweeted)')\n",
        "plt.ylabel('Number of tweets in bin')"
      ],
      "execution_count": 20,
      "outputs": [
        {
          "output_type": "execute_result",
          "data": {
            "text/plain": [
              "Text(0, 0.5, 'Number of tweets in bin')"
            ]
          },
          "metadata": {
            "tags": []
          },
          "execution_count": 20
        },
        {
          "output_type": "display_data",
          "data": {
            "image/png": "[encoded data removed]",
            "text/plain": [
              "<Figure size 432x288 with 1 Axes>"
            ]
          },
          "metadata": {
            "tags": [],
            "needs_background": "light"
          }
        }
      ]
    },
    {
      "cell_type": "markdown",
      "metadata": {
        "id": "Kb2WlrAruc8j"
      },
      "source": [
        "### Sentiment Analysis"
      ]
    },
    {
      "cell_type": "code",
      "metadata": {
        "colab": {
          "base_uri": "https://localhost:8080/"
        },
        "id": "U-Xg9w46ubFm",
        "outputId": "8b111684-84f5-4b9a-a5ea-d77574b80af6"
      },
      "source": [
        "# pip install nltk\n",
        "import nltk\n",
        "nltk.download('vader_lexicon')\n",
        "\n",
        "import numpy as np\n",
        "from nltk.sentiment.vader import SentimentIntensityAnalyzer"
      ],
      "execution_count": 21,
      "outputs": [
        {
          "output_type": "stream",
          "text": [
            "[nltk_data] Downloading package vader_lexicon to /root/nltk_data...\n"
          ],
          "name": "stdout"
        },
        {
          "output_type": "stream",
          "text": [
            "/usr/local/lib/python3.7/dist-packages/nltk/twitter/__init__.py:20: UserWarning: The twython library has not been installed. Some functionality from the twitter package will not be available.\n",
            "  warnings.warn(\"The twython library has not been installed. \"\n"
          ],
          "name": "stderr"
        }
      ]
    },
    {
      "cell_type": "code",
      "metadata": {
        "id": "tdyeLIobuf8D"
      },
      "source": [
        "twitter_stream = twitter.TwitterStream(auth=auth)\n",
        "iterator = twitter_stream.statuses.sample()"
      ],
      "execution_count": 22,
      "outputs": []
    },
    {
      "cell_type": "code",
      "metadata": {
        "id": "il60IzOuuiNj"
      },
      "source": [
        "tweets = []\n",
        "for tweet in iterator:\n",
        "    try:\n",
        "        if tweet['lang'] == 'en':\n",
        "            tweets.append(tweet)\n",
        "    except:\n",
        "        pass\n",
        "    if len(tweets) == 100:\n",
        "        break"
      ],
      "execution_count": 23,
      "outputs": []
    },
    {
      "cell_type": "code",
      "metadata": {
        "id": "RA9f4q-bukbp"
      },
      "source": [
        "analyzer = SentimentIntensityAnalyzer()"
      ],
      "execution_count": 24,
      "outputs": []
    },
    {
      "cell_type": "code",
      "metadata": {
        "colab": {
          "base_uri": "https://localhost:8080/"
        },
        "id": "5vu9Eg2PumpN",
        "outputId": "0ed069f7-4632-4f77-aefd-325614feaf54"
      },
      "source": [
        "analyzer.polarity_scores('woman attacked')"
      ],
      "execution_count": 25,
      "outputs": [
        {
          "output_type": "execute_result",
          "data": {
            "text/plain": [
              "{'compound': -0.4588, 'neg': 0.75, 'neu': 0.25, 'pos': 0.0}"
            ]
          },
          "metadata": {
            "tags": []
          },
          "execution_count": 25
        }
      ]
    },
    {
      "cell_type": "code",
      "metadata": {
        "colab": {
          "base_uri": "https://localhost:8080/"
        },
        "id": "a6NDxz7yuq5k",
        "outputId": "48e47ed2-cd79-499a-a0db-53b53d635922"
      },
      "source": [
        "analyzer.polarity_scores('child abuse')"
      ],
      "execution_count": 26,
      "outputs": [
        {
          "output_type": "execute_result",
          "data": {
            "text/plain": [
              "{'compound': -0.6369, 'neg': 0.808, 'neu': 0.192, 'pos': 0.0}"
            ]
          },
          "metadata": {
            "tags": []
          },
          "execution_count": 26
        }
      ]
    },
    {
      "cell_type": "code",
      "metadata": {
        "colab": {
          "base_uri": "https://localhost:8080/"
        },
        "id": "sUk1sLX4uzAm",
        "outputId": "1daabb26-97b8-4d98-86be-be4ee92a12ee"
      },
      "source": [
        "analyzer.polarity_scores('girl mistreated')"
      ],
      "execution_count": 28,
      "outputs": [
        {
          "output_type": "execute_result",
          "data": {
            "text/plain": [
              "{'compound': 0.0, 'neg': 0.0, 'neu': 1.0, 'pos': 0.0}"
            ]
          },
          "metadata": {
            "tags": []
          },
          "execution_count": 28
        }
      ]
    },
    {
      "cell_type": "code",
      "metadata": {
        "id": "FZ1UTZYwu6CD"
      },
      "source": [
        "scores = np.zeros(len(tweets))\n",
        "\n",
        "for i, t in enumerate(tweets):\n",
        "    # Extract the text portion of the tweet\n",
        "    text = t['text']\n",
        "    \n",
        "    # Measure the polarity of the tweet\n",
        "    polarity = analyzer.polarity_scores(text)\n",
        "    \n",
        "    # Store the normalized, weighted composite score\n",
        "    scores[i] = polarity['compound']"
      ],
      "execution_count": 29,
      "outputs": []
    },
    {
      "cell_type": "code",
      "metadata": {
        "id": "6YcSyyNrvBnE"
      },
      "source": [
        "most_positive = np.argmax(scores)\n",
        "most_negative = np.argmin(scores)"
      ],
      "execution_count": 30,
      "outputs": []
    },
    {
      "cell_type": "code",
      "metadata": {
        "colab": {
          "base_uri": "https://localhost:8080/"
        },
        "id": "umBcu63qvEjW",
        "outputId": "08bc2a7a-5c52-494a-a7c7-5cbb9098c515"
      },
      "source": [
        "print('{0:6.3f} : \"{1}\"'.format(scores[most_positive], tweets[most_positive]['text']))"
      ],
      "execution_count": 31,
      "outputs": [
        {
          "output_type": "stream",
          "text": [
            " 0.872 : \"@jengart @GGDiversificat1 @js_cryptoart @onhicetnunc Great! I love this piece!❤️⚡\"\n"
          ],
          "name": "stdout"
        }
      ]
    },
    {
      "cell_type": "code",
      "metadata": {
        "colab": {
          "base_uri": "https://localhost:8080/"
        },
        "id": "m-5tQPqXvGr2",
        "outputId": "53716dea-9d2a-44c1-a5f2-3a8dd65a1b87"
      },
      "source": [
        "print('{0:6.3f} : \"{1}\"'.format(scores[most_negative], tweets[most_negative]['text']))"
      ],
      "execution_count": 32,
      "outputs": [
        {
          "output_type": "stream",
          "text": [
            "-0.913 : \"RT @txkia_: babyfathers really be lame as hell! i hate it for me🤢\"\n"
          ],
          "name": "stdout"
        }
      ]
    },
    {
      "cell_type": "code",
      "metadata": {
        "id": "7OUA9aFYvJHZ"
      },
      "source": [
        ""
      ],
      "execution_count": null,
      "outputs": []
    }
  ]
}