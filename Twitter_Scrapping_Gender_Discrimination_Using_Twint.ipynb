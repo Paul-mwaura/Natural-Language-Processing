{
  "nbformat": 4,
  "nbformat_minor": 0,
  "metadata": {
    "colab": {
      "name": "Twitter Scrapping Gender Discrimination : Using Twint.ipynb",
      "provenance": [],
      "collapsed_sections": [],
      "include_colab_link": true
    },
    "kernelspec": {
      "display_name": "Python 3",
      "name": "python3"
    },
    "language_info": {
      "name": "python"
    }
  },
  "cells": [
    {
      "cell_type": "markdown",
      "metadata": {
        "id": "view-in-github",
        "colab_type": "text"
      },
      "source": [
        "<a href=\"https://colab.research.google.com/github/Paul-mwaura/Natural-Language-Processing/blob/main/Twitter_Scrapping_Gender_Discrimination_Using_Twint.ipynb\" target=\"_parent\"><img src=\"https://colab.research.google.com/assets/colab-badge.svg\" alt=\"Open In Colab\"/></a>"
      ]
    },
    {
      "cell_type": "markdown",
      "metadata": {
        "id": "DBonzWWepUBC"
      },
      "source": [
        "## Twitter Scrapping Using Twint"
      ]
    },
    {
      "cell_type": "markdown",
      "metadata": {
        "id": "EF6l6PrFfc3h"
      },
      "source": [
        "### Install Twint from Github"
      ]
    },
    {
      "cell_type": "code",
      "metadata": {
        "colab": {
          "base_uri": "https://localhost:8080/"
        },
        "id": "86HbSYEFAjQR",
        "outputId": "cf4bad28-260e-4d69-bfb1-81f7394cd8be"
      },
      "source": [
        "!git clone --depth=1 https://github.com/twintproject/twint.git\n",
        "%cd twint\n",
        "!pip3 install . -r requirements.txt"
      ],
      "execution_count": null,
      "outputs": [
        {
          "output_type": "stream",
          "text": [
            "Cloning into 'twint'...\n",
            "remote: Enumerating objects: 47, done.\u001b[K\n",
            "remote: Counting objects: 100% (47/47), done.\u001b[K\n",
            "remote: Compressing objects: 100% (44/44), done.\u001b[K\n",
            "remote: Total 47 (delta 3), reused 14 (delta 0), pack-reused 0\u001b[K\n",
            "Unpacking objects: 100% (47/47), done.\n",
            "/content/twint\n",
            "Processing /content/twint\n",
            "Collecting aiohttp\n",
            "\u001b[?25l  Downloading https://files.pythonhosted.org/packages/88/c0/5890b4c8b04a79b7360e8fe4490feb0bb3ab179743f199f0e6220cebd568/aiohttp-3.7.4.post0-cp37-cp37m-manylinux2014_x86_64.whl (1.3MB)\n",
            "\u001b[K     |████████████████████████████████| 1.3MB 7.8MB/s \n",
            "\u001b[?25hCollecting aiodns\n",
            "  Downloading https://files.pythonhosted.org/packages/ab/72/991ee33a517df69c6cd6f3486cfe9b6329557cb55acaa8cefac33c2aa4d2/aiodns-3.0.0-py3-none-any.whl\n",
            "Requirement already satisfied: beautifulsoup4 in /usr/local/lib/python3.7/dist-packages (from -r requirements.txt (line 3)) (4.6.3)\n",
            "Collecting cchardet\n",
            "\u001b[?25l  Downloading https://files.pythonhosted.org/packages/80/72/a4fba7559978de00cf44081c548c5d294bf00ac7dcda2db405d2baa8c67a/cchardet-2.1.7-cp37-cp37m-manylinux2010_x86_64.whl (263kB)\n",
            "\u001b[K     |████████████████████████████████| 266kB 37.5MB/s \n",
            "\u001b[?25hCollecting dataclasses\n",
            "  Downloading https://files.pythonhosted.org/packages/26/2f/1095cdc2868052dd1e64520f7c0d5c8c550ad297e944e641dbf1ffbb9a5d/dataclasses-0.6-py3-none-any.whl\n",
            "Collecting elasticsearch\n",
            "\u001b[?25l  Downloading https://files.pythonhosted.org/packages/ab/b1/58cfb0bf54e29c20669d6e588496fb7fe8b54f53bc238be4cb0a185a1e76/elasticsearch-7.13.1-py2.py3-none-any.whl (354kB)\n",
            "\u001b[K     |████████████████████████████████| 358kB 40.2MB/s \n",
            "\u001b[?25hRequirement already satisfied: pysocks in /usr/local/lib/python3.7/dist-packages (from -r requirements.txt (line 7)) (1.7.1)\n",
            "Requirement already satisfied: pandas>=0.23.0 in /usr/local/lib/python3.7/dist-packages (from -r requirements.txt (line 8)) (1.1.5)\n",
            "Collecting aiohttp_socks<=0.4.1\n",
            "  Downloading https://files.pythonhosted.org/packages/72/55/c00bf359a54c1438ac0fe36f9bba9538c912138f033897d4e95ddd8cc772/aiohttp_socks-0.4.1-py3-none-any.whl\n",
            "Collecting schedule\n",
            "  Downloading https://files.pythonhosted.org/packages/eb/3b/040bd180eaef427dd160562ee66adc9f4f67088185c272edcdb899c609c7/schedule-1.1.0-py2.py3-none-any.whl\n",
            "Requirement already satisfied: geopy in /usr/local/lib/python3.7/dist-packages (from -r requirements.txt (line 11)) (1.17.0)\n",
            "Collecting fake-useragent\n",
            "  Downloading https://files.pythonhosted.org/packages/d1/79/af647635d6968e2deb57a208d309f6069d31cb138066d7e821e575112a80/fake-useragent-0.1.11.tar.gz\n",
            "Collecting googletransx\n",
            "  Downloading https://files.pythonhosted.org/packages/27/e1/77cd530afec7944d40c5bdd260bcc111be4012b045c82d4e3ffec90b2a42/googletransx-2.4.2.tar.gz\n",
            "Requirement already satisfied: chardet<5.0,>=2.0 in /usr/local/lib/python3.7/dist-packages (from aiohttp->-r requirements.txt (line 1)) (3.0.4)\n",
            "Requirement already satisfied: typing-extensions>=3.6.5 in /usr/local/lib/python3.7/dist-packages (from aiohttp->-r requirements.txt (line 1)) (3.7.4.3)\n",
            "Collecting async-timeout<4.0,>=3.0\n",
            "  Downloading https://files.pythonhosted.org/packages/e1/1e/5a4441be21b0726c4464f3f23c8b19628372f606755a9d2e46c187e65ec4/async_timeout-3.0.1-py3-none-any.whl\n",
            "Requirement already satisfied: attrs>=17.3.0 in /usr/local/lib/python3.7/dist-packages (from aiohttp->-r requirements.txt (line 1)) (21.2.0)\n",
            "Collecting multidict<7.0,>=4.5\n",
            "\u001b[?25l  Downloading https://files.pythonhosted.org/packages/7c/a6/4123b8165acbe773d1a8dc8e3f0d1edea16d29f7de018eda769abb56bd30/multidict-5.1.0-cp37-cp37m-manylinux2014_x86_64.whl (142kB)\n",
            "\u001b[K     |████████████████████████████████| 143kB 40.4MB/s \n",
            "\u001b[?25hCollecting yarl<2.0,>=1.0\n",
            "\u001b[?25l  Downloading https://files.pythonhosted.org/packages/f1/62/046834c5fc998c88ab2ef722f5d42122230a632212c8afa76418324f53ff/yarl-1.6.3-cp37-cp37m-manylinux2014_x86_64.whl (294kB)\n",
            "\u001b[K     |████████████████████████████████| 296kB 39.6MB/s \n",
            "\u001b[?25hCollecting pycares>=4.0.0\n",
            "\u001b[?25l  Downloading https://files.pythonhosted.org/packages/aa/36/6328afbcc7591ff51a6d6c8c89fe1d53d3030d48aea74e36bab0ed8e2c3c/pycares-4.0.0-cp37-cp37m-manylinux2010_x86_64.whl (291kB)\n",
            "\u001b[K     |████████████████████████████████| 296kB 39.7MB/s \n",
            "\u001b[?25hRequirement already satisfied: certifi in /usr/local/lib/python3.7/dist-packages (from elasticsearch->-r requirements.txt (line 6)) (2021.5.30)\n",
            "Requirement already satisfied: urllib3<2,>=1.21.1 in /usr/local/lib/python3.7/dist-packages (from elasticsearch->-r requirements.txt (line 6)) (1.24.3)\n",
            "Requirement already satisfied: pytz>=2017.2 in /usr/local/lib/python3.7/dist-packages (from pandas>=0.23.0->-r requirements.txt (line 8)) (2018.9)\n",
            "Requirement already satisfied: numpy>=1.15.4 in /usr/local/lib/python3.7/dist-packages (from pandas>=0.23.0->-r requirements.txt (line 8)) (1.19.5)\n",
            "Requirement already satisfied: python-dateutil>=2.7.3 in /usr/local/lib/python3.7/dist-packages (from pandas>=0.23.0->-r requirements.txt (line 8)) (2.8.1)\n",
            "Requirement already satisfied: geographiclib<2,>=1.49 in /usr/local/lib/python3.7/dist-packages (from geopy->-r requirements.txt (line 11)) (1.50)\n",
            "Requirement already satisfied: requests in /usr/local/lib/python3.7/dist-packages (from googletransx->-r requirements.txt (line 13)) (2.23.0)\n",
            "Requirement already satisfied: idna>=2.0 in /usr/local/lib/python3.7/dist-packages (from yarl<2.0,>=1.0->aiohttp->-r requirements.txt (line 1)) (2.10)\n",
            "Requirement already satisfied: cffi>=1.5.0 in /usr/local/lib/python3.7/dist-packages (from pycares>=4.0.0->aiodns->-r requirements.txt (line 2)) (1.14.5)\n",
            "Requirement already satisfied: six>=1.5 in /usr/local/lib/python3.7/dist-packages (from python-dateutil>=2.7.3->pandas>=0.23.0->-r requirements.txt (line 8)) (1.15.0)\n",
            "Requirement already satisfied: pycparser in /usr/local/lib/python3.7/dist-packages (from cffi>=1.5.0->pycares>=4.0.0->aiodns->-r requirements.txt (line 2)) (2.20)\n",
            "Building wheels for collected packages: fake-useragent, googletransx, twint\n",
            "  Building wheel for fake-useragent (setup.py) ... \u001b[?25l\u001b[?25hdone\n",
            "  Created wheel for fake-useragent: filename=fake_useragent-0.1.11-cp37-none-any.whl size=13501 sha256=3220add539afdd210a0d9387827a45ccb742e9d70f9554eb8996fdc7f50779c4\n",
            "  Stored in directory: /root/.cache/pip/wheels/5e/63/09/d1dc15179f175357d3f5c00cbffbac37f9e8690d80545143ff\n",
            "  Building wheel for googletransx (setup.py) ... \u001b[?25l\u001b[?25hdone\n",
            "  Created wheel for googletransx: filename=googletransx-2.4.2-cp37-none-any.whl size=15970 sha256=5a3aacb85b02761f5d442d0f7d219bb60f08a850b087a73219bfb8605ace4d3e\n",
            "  Stored in directory: /root/.cache/pip/wheels/04/63/5f/75e7e94eb62517946116a783e4cd8970c4789c990bbc732616\n",
            "  Building wheel for twint (setup.py) ... \u001b[?25l\u001b[?25hdone\n",
            "  Created wheel for twint: filename=twint-2.1.21-cp37-none-any.whl size=38872 sha256=a67942605de29aecc5a8bc2e39e8c738fb63e0d57d8d7113ea7c4967f1cb6965\n",
            "  Stored in directory: /tmp/pip-ephem-wheel-cache-30j12enk/wheels/c9/bb/bd/2b559954ecc4f4905266df71e9f2e08268750df0fa1ec1a4d2\n",
            "Successfully built fake-useragent googletransx twint\n",
            "Installing collected packages: async-timeout, multidict, yarl, aiohttp, pycares, aiodns, cchardet, dataclasses, elasticsearch, aiohttp-socks, schedule, fake-useragent, googletransx, twint\n",
            "Successfully installed aiodns-3.0.0 aiohttp-3.7.4.post0 aiohttp-socks-0.4.1 async-timeout-3.0.1 cchardet-2.1.7 dataclasses-0.6 elasticsearch-7.13.1 fake-useragent-0.1.11 googletransx-2.4.2 multidict-5.1.0 pycares-4.0.0 schedule-1.1.0 twint-2.1.21 yarl-1.6.3\n"
          ],
          "name": "stdout"
        }
      ]
    },
    {
      "cell_type": "markdown",
      "metadata": {
        "id": "UtuLQhgjfmOc"
      },
      "source": [
        "### Import Libraries"
      ]
    },
    {
      "cell_type": "code",
      "metadata": {
        "id": "G19Oc5yYfoO6"
      },
      "source": [
        "from datetime import timedelta\n",
        "from string import ascii_letters, digits\n",
        "from os import mkdir, path\n",
        "import nest_asyncio\n",
        "import pandas as pd\n",
        "import twint"
      ],
      "execution_count": null,
      "outputs": []
    },
    {
      "cell_type": "markdown",
      "metadata": {
        "id": "-P7VAjgOfsKb"
      },
      "source": [
        "### Get Tweets and Save them into a Directory"
      ]
    },
    {
      "cell_type": "code",
      "metadata": {
        "id": "HgtVYI7HJxxc"
      },
      "source": [
        "\n",
        "nest_asyncio.apply()\n",
        "\n",
        "def clean_name(dirname):\n",
        "    \n",
        "    valid = set(ascii_letters + digits)\n",
        "    return ''.join(a for a in dirname if a in valid)\n",
        "\n",
        "\n",
        "def twint_search(searchterm, since, until, json_name):\n",
        "\n",
        "    c = twint.Config()\n",
        "    c.Search = searchterm\n",
        "    c.Since = since\n",
        "    c.Until = until\n",
        "    c.Limit = 100\n",
        "    c.Lang = \"en\"\n",
        "    c.Hide_output = True\n",
        "    c.Store_json = True\n",
        "    c.Output = json_name\n",
        "    c.Debug = True\n",
        "\n",
        "    try:\n",
        "        twint.run.Search(c)    \n",
        "        \n",
        "    except (KeyboardInterrupt, SystemExit):\n",
        "        raise\n",
        "\n",
        "        \n",
        "#     except:\n",
        "#         print(\"Problem with %s.\" % since)\n",
        "\n",
        "\n",
        "def twint_loop(searchterm, since, until):\n",
        "\n",
        "    dirname = clean_name(searchterm)\n",
        "    \n",
        "    try:\n",
        "        mkdir(dirname)\n",
        "        print(\"Directory\" , dirname ,  \"Created \")\n",
        "        \n",
        "    except FileExistsError:\n",
        "        print(\"Directory\" , dirname ,  \"already exists\")\n",
        "\n",
        "    daterange = pd.date_range(since, until)\n",
        "\n",
        "    for start_date in daterange:\n",
        "\n",
        "        since= start_date.strftime(\"%Y-%m-%d\")\n",
        "        until = (start_date + timedelta(days=1)).strftime(\"%Y-%m-%d\")\n",
        "\n",
        "        json_name = '%s.json' % since\n",
        "        json_name = path.join(dirname, json_name)\n",
        "\n",
        "        print('Getting %s ' % since )\n",
        "        twint_search(searchterm, since, until, json_name)"
      ],
      "execution_count": null,
      "outputs": []
    },
    {
      "cell_type": "code",
      "metadata": {
        "id": "Jfzw0LfApdcq",
        "colab": {
          "base_uri": "https://localhost:8080/"
        },
        "outputId": "f7ac5baf-8e37-476b-8496-2acb4e0a3152"
      },
      "source": [
        "twint_loop('discrimination OR gender OR gbv OR violence', '04-01-2021', '06-20-2021')"
      ],
      "execution_count": null,
      "outputs": [
        {
          "output_type": "stream",
          "text": [
            "Directory discriminationORgenderORgbvORviolence already exists\n",
            "Getting 2021-04-01 \n",
            "Getting 2021-04-02 \n",
            "Getting 2021-04-03 \n",
            "Getting 2021-04-04 \n",
            "Getting 2021-04-05 \n",
            "Getting 2021-04-06 \n",
            "Getting 2021-04-07 \n",
            "Getting 2021-04-08 \n",
            "Getting 2021-04-09 \n",
            "Getting 2021-04-10 \n",
            "Getting 2021-04-11 \n",
            "Getting 2021-04-12 \n",
            "Getting 2021-04-13 \n",
            "Getting 2021-04-14 \n",
            "Getting 2021-04-15 \n",
            "Getting 2021-04-16 \n",
            "Getting 2021-04-17 \n",
            "Getting 2021-04-18 \n",
            "Getting 2021-04-19 \n",
            "Getting 2021-04-20 \n",
            "Getting 2021-04-21 \n",
            "Getting 2021-04-22 \n",
            "Getting 2021-04-23 \n",
            "Getting 2021-04-24 \n",
            "Getting 2021-04-25 \n",
            "Getting 2021-04-26 \n",
            "Getting 2021-04-27 \n",
            "Getting 2021-04-28 \n",
            "Getting 2021-04-29 \n",
            "Getting 2021-04-30 \n",
            "Getting 2021-05-01 \n",
            "Getting 2021-05-02 \n",
            "Getting 2021-05-03 \n",
            "Getting 2021-05-04 \n",
            "Getting 2021-05-05 \n",
            "Getting 2021-05-06 \n",
            "Getting 2021-05-07 \n",
            "Getting 2021-05-08 \n",
            "Getting 2021-05-09 \n",
            "Getting 2021-05-10 \n",
            "Getting 2021-05-11 \n",
            "Getting 2021-05-12 \n",
            "Getting 2021-05-13 \n",
            "Getting 2021-05-14 \n",
            "Getting 2021-05-15 \n",
            "Getting 2021-05-16 \n",
            "Getting 2021-05-17 \n",
            "Getting 2021-05-18 \n",
            "Getting 2021-05-19 \n",
            "Getting 2021-05-20 \n",
            "Getting 2021-05-21 \n",
            "Getting 2021-05-22 \n",
            "Getting 2021-05-23 \n",
            "Getting 2021-05-24 \n",
            "Getting 2021-05-25 \n",
            "Getting 2021-05-26 \n",
            "Getting 2021-05-27 \n",
            "Getting 2021-05-28 \n",
            "Getting 2021-05-29 \n",
            "Getting 2021-05-30 \n",
            "Getting 2021-05-31 \n",
            "Getting 2021-06-01 \n",
            "Getting 2021-06-02 \n",
            "Getting 2021-06-03 \n",
            "Getting 2021-06-04 \n",
            "Getting 2021-06-05 \n",
            "Getting 2021-06-06 \n",
            "Getting 2021-06-07 \n",
            "Getting 2021-06-08 \n",
            "Getting 2021-06-09 \n",
            "Getting 2021-06-10 \n",
            "Getting 2021-06-11 \n",
            "Getting 2021-06-12 \n",
            "Getting 2021-06-13 \n",
            "Getting 2021-06-14 \n",
            "Getting 2021-06-15 \n",
            "Getting 2021-06-16 \n",
            "Getting 2021-06-17 \n",
            "Getting 2021-06-18 \n",
            "Getting 2021-06-19 \n",
            "Getting 2021-06-20 \n"
          ],
          "name": "stdout"
        }
      ]
    },
    {
      "cell_type": "markdown",
      "metadata": {
        "id": "Ro-Zzi3vf3kD"
      },
      "source": [
        "### Create a DataFrame from the Tweets Directories"
      ]
    },
    {
      "cell_type": "code",
      "metadata": {
        "id": "-FRSppZVA4pg",
        "colab": {
          "base_uri": "https://localhost:8080/",
          "height": 263
        },
        "outputId": "ec8b1081-4399-498a-cdb2-6bce2a7ebd0e"
      },
      "source": [
        "from glob import glob\n",
        "\n",
        "file_names = glob(path.join('discriminationORgenderORgbvORviolence','*.json'))\n",
        "dfs = [pd.read_json(fn, lines = True) for fn in file_names]\n",
        "gender_df = pd.concat(dfs)\n",
        "gender_df.head(2)"
      ],
      "execution_count": null,
      "outputs": [
        {
          "output_type": "execute_result",
          "data": {
            "text/html": [
              "<div>\n",
              "<style scoped>\n",
              "    .dataframe tbody tr th:only-of-type {\n",
              "        vertical-align: middle;\n",
              "    }\n",
              "\n",
              "    .dataframe tbody tr th {\n",
              "        vertical-align: top;\n",
              "    }\n",
              "\n",
              "    .dataframe thead th {\n",
              "        text-align: right;\n",
              "    }\n",
              "</style>\n",
              "<table border=\"1\" class=\"dataframe\">\n",
              "  <thead>\n",
              "    <tr style=\"text-align: right;\">\n",
              "      <th></th>\n",
              "      <th>id</th>\n",
              "      <th>conversation_id</th>\n",
              "      <th>created_at</th>\n",
              "      <th>date</th>\n",
              "      <th>time</th>\n",
              "      <th>timezone</th>\n",
              "      <th>user_id</th>\n",
              "      <th>username</th>\n",
              "      <th>name</th>\n",
              "      <th>place</th>\n",
              "      <th>tweet</th>\n",
              "      <th>language</th>\n",
              "      <th>mentions</th>\n",
              "      <th>urls</th>\n",
              "      <th>photos</th>\n",
              "      <th>replies_count</th>\n",
              "      <th>retweets_count</th>\n",
              "      <th>likes_count</th>\n",
              "      <th>hashtags</th>\n",
              "      <th>cashtags</th>\n",
              "      <th>link</th>\n",
              "      <th>retweet</th>\n",
              "      <th>quote_url</th>\n",
              "      <th>video</th>\n",
              "      <th>thumbnail</th>\n",
              "      <th>near</th>\n",
              "      <th>geo</th>\n",
              "      <th>source</th>\n",
              "      <th>user_rt_id</th>\n",
              "      <th>user_rt</th>\n",
              "      <th>retweet_id</th>\n",
              "      <th>reply_to</th>\n",
              "      <th>retweet_date</th>\n",
              "      <th>translate</th>\n",
              "      <th>trans_src</th>\n",
              "      <th>trans_dest</th>\n",
              "    </tr>\n",
              "  </thead>\n",
              "  <tbody>\n",
              "    <tr>\n",
              "      <th>0</th>\n",
              "      <td>1391181110441295873</td>\n",
              "      <td>1390933285241491456</td>\n",
              "      <td>2021-05-08 23:59:58+00:00</td>\n",
              "      <td>2021-05-08</td>\n",
              "      <td>23:59:58</td>\n",
              "      <td>0</td>\n",
              "      <td>3996917021</td>\n",
              "      <td>wild_gesturing</td>\n",
              "      <td>Organ Hoarder</td>\n",
              "      <td></td>\n",
              "      <td>@kat_veil My gender presentation to them has i...</td>\n",
              "      <td>en</td>\n",
              "      <td>[]</td>\n",
              "      <td>[]</td>\n",
              "      <td>[]</td>\n",
              "      <td>1</td>\n",
              "      <td>0</td>\n",
              "      <td>2</td>\n",
              "      <td>[]</td>\n",
              "      <td>[]</td>\n",
              "      <td>https://twitter.com/Wild_Gesturing/status/1391...</td>\n",
              "      <td>False</td>\n",
              "      <td></td>\n",
              "      <td>0</td>\n",
              "      <td></td>\n",
              "      <td></td>\n",
              "      <td></td>\n",
              "      <td></td>\n",
              "      <td></td>\n",
              "      <td></td>\n",
              "      <td></td>\n",
              "      <td>[{'screen_name': 'kat_veil', 'name': 'AceLord(...</td>\n",
              "      <td></td>\n",
              "      <td></td>\n",
              "      <td></td>\n",
              "      <td></td>\n",
              "    </tr>\n",
              "    <tr>\n",
              "      <th>1</th>\n",
              "      <td>1391181109610913792</td>\n",
              "      <td>1391180899446927360</td>\n",
              "      <td>2021-05-08 23:59:58+00:00</td>\n",
              "      <td>2021-05-08</td>\n",
              "      <td>23:59:58</td>\n",
              "      <td>0</td>\n",
              "      <td>1384219517170028551</td>\n",
              "      <td>quackityscuddlr</td>\n",
              "      <td>tea </td>\n",
              "      <td></td>\n",
              "      <td>@whosgnf theres a lot of violence but not much...</td>\n",
              "      <td>en</td>\n",
              "      <td>[]</td>\n",
              "      <td>[]</td>\n",
              "      <td>[]</td>\n",
              "      <td>1</td>\n",
              "      <td>0</td>\n",
              "      <td>1</td>\n",
              "      <td>[]</td>\n",
              "      <td>[]</td>\n",
              "      <td>https://twitter.com/quackityscuddlr/status/139...</td>\n",
              "      <td>False</td>\n",
              "      <td></td>\n",
              "      <td>0</td>\n",
              "      <td></td>\n",
              "      <td></td>\n",
              "      <td></td>\n",
              "      <td></td>\n",
              "      <td></td>\n",
              "      <td></td>\n",
              "      <td></td>\n",
              "      <td>[{'screen_name': 'whosgnf', 'name': 'kat ᵕ̈', ...</td>\n",
              "      <td></td>\n",
              "      <td></td>\n",
              "      <td></td>\n",
              "      <td></td>\n",
              "    </tr>\n",
              "  </tbody>\n",
              "</table>\n",
              "</div>"
            ],
            "text/plain": [
              "                    id      conversation_id  ... trans_src trans_dest\n",
              "0  1391181110441295873  1390933285241491456  ...                     \n",
              "1  1391181109610913792  1391180899446927360  ...                     \n",
              "\n",
              "[2 rows x 36 columns]"
            ]
          },
          "metadata": {
            "tags": []
          },
          "execution_count": 9
        }
      ]
    },
    {
      "cell_type": "code",
      "metadata": {
        "id": "v_pm4zhjBGq9",
        "colab": {
          "base_uri": "https://localhost:8080/"
        },
        "outputId": "0e361094-a9ba-4f97-de62-b502e1850854"
      },
      "source": [
        "gender_df.shape"
      ],
      "execution_count": null,
      "outputs": [
        {
          "output_type": "execute_result",
          "data": {
            "text/plain": [
              "(9450, 36)"
            ]
          },
          "metadata": {
            "tags": []
          },
          "execution_count": 10
        }
      ]
    },
    {
      "cell_type": "markdown",
      "metadata": {
        "id": "oD7rHRUWf9tn"
      },
      "source": [
        "### Save the DataFrame"
      ]
    },
    {
      "cell_type": "code",
      "metadata": {
        "id": "CEXiI4vZBReo"
      },
      "source": [
        "gender_df.to_csv('gender_violence.csv')"
      ],
      "execution_count": null,
      "outputs": []
    },
    {
      "cell_type": "code",
      "metadata": {
        "id": "CEo-_ajSnYqq"
      },
      "source": [
        "import pandas as pd"
      ],
      "execution_count": null,
      "outputs": []
    },
    {
      "cell_type": "code",
      "metadata": {
        "id": "-KIustxHnRIk",
        "colab": {
          "base_uri": "https://localhost:8080/",
          "height": 280
        },
        "outputId": "64c4f2c6-ac1b-483f-bf09-f941edd756e1"
      },
      "source": [
        "df = pd.read_csv('gender_violence.csv')\n",
        "df.head(2)"
      ],
      "execution_count": null,
      "outputs": [
        {
          "output_type": "execute_result",
          "data": {
            "text/html": [
              "<div>\n",
              "<style scoped>\n",
              "    .dataframe tbody tr th:only-of-type {\n",
              "        vertical-align: middle;\n",
              "    }\n",
              "\n",
              "    .dataframe tbody tr th {\n",
              "        vertical-align: top;\n",
              "    }\n",
              "\n",
              "    .dataframe thead th {\n",
              "        text-align: right;\n",
              "    }\n",
              "</style>\n",
              "<table border=\"1\" class=\"dataframe\">\n",
              "  <thead>\n",
              "    <tr style=\"text-align: right;\">\n",
              "      <th></th>\n",
              "      <th>Unnamed: 0</th>\n",
              "      <th>id</th>\n",
              "      <th>conversation_id</th>\n",
              "      <th>created_at</th>\n",
              "      <th>date</th>\n",
              "      <th>time</th>\n",
              "      <th>timezone</th>\n",
              "      <th>user_id</th>\n",
              "      <th>username</th>\n",
              "      <th>name</th>\n",
              "      <th>place</th>\n",
              "      <th>tweet</th>\n",
              "      <th>language</th>\n",
              "      <th>mentions</th>\n",
              "      <th>urls</th>\n",
              "      <th>photos</th>\n",
              "      <th>replies_count</th>\n",
              "      <th>retweets_count</th>\n",
              "      <th>likes_count</th>\n",
              "      <th>hashtags</th>\n",
              "      <th>cashtags</th>\n",
              "      <th>link</th>\n",
              "      <th>retweet</th>\n",
              "      <th>quote_url</th>\n",
              "      <th>video</th>\n",
              "      <th>thumbnail</th>\n",
              "      <th>near</th>\n",
              "      <th>geo</th>\n",
              "      <th>source</th>\n",
              "      <th>user_rt_id</th>\n",
              "      <th>user_rt</th>\n",
              "      <th>retweet_id</th>\n",
              "      <th>reply_to</th>\n",
              "      <th>retweet_date</th>\n",
              "      <th>translate</th>\n",
              "      <th>trans_src</th>\n",
              "      <th>trans_dest</th>\n",
              "    </tr>\n",
              "  </thead>\n",
              "  <tbody>\n",
              "    <tr>\n",
              "      <th>0</th>\n",
              "      <td>0</td>\n",
              "      <td>1391181110441295873</td>\n",
              "      <td>1390933285241491456</td>\n",
              "      <td>2021-05-08 23:59:58+00:00</td>\n",
              "      <td>2021-05-08</td>\n",
              "      <td>23:59:58</td>\n",
              "      <td>0</td>\n",
              "      <td>3996917021</td>\n",
              "      <td>wild_gesturing</td>\n",
              "      <td>Organ Hoarder</td>\n",
              "      <td>NaN</td>\n",
              "      <td>@kat_veil My gender presentation to them has i...</td>\n",
              "      <td>en</td>\n",
              "      <td>[]</td>\n",
              "      <td>[]</td>\n",
              "      <td>[]</td>\n",
              "      <td>1</td>\n",
              "      <td>0</td>\n",
              "      <td>2</td>\n",
              "      <td>[]</td>\n",
              "      <td>[]</td>\n",
              "      <td>https://twitter.com/Wild_Gesturing/status/1391...</td>\n",
              "      <td>False</td>\n",
              "      <td>NaN</td>\n",
              "      <td>0</td>\n",
              "      <td>NaN</td>\n",
              "      <td>NaN</td>\n",
              "      <td>NaN</td>\n",
              "      <td>NaN</td>\n",
              "      <td>NaN</td>\n",
              "      <td>NaN</td>\n",
              "      <td>NaN</td>\n",
              "      <td>[{'screen_name': 'kat_veil', 'name': 'AceLord(...</td>\n",
              "      <td>NaN</td>\n",
              "      <td>NaN</td>\n",
              "      <td>NaN</td>\n",
              "      <td>NaN</td>\n",
              "    </tr>\n",
              "    <tr>\n",
              "      <th>1</th>\n",
              "      <td>1</td>\n",
              "      <td>1391181109610913792</td>\n",
              "      <td>1391180899446927360</td>\n",
              "      <td>2021-05-08 23:59:58+00:00</td>\n",
              "      <td>2021-05-08</td>\n",
              "      <td>23:59:58</td>\n",
              "      <td>0</td>\n",
              "      <td>1384219517170028551</td>\n",
              "      <td>quackityscuddlr</td>\n",
              "      <td>tea </td>\n",
              "      <td>NaN</td>\n",
              "      <td>@whosgnf theres a lot of violence but not much...</td>\n",
              "      <td>en</td>\n",
              "      <td>[]</td>\n",
              "      <td>[]</td>\n",
              "      <td>[]</td>\n",
              "      <td>1</td>\n",
              "      <td>0</td>\n",
              "      <td>1</td>\n",
              "      <td>[]</td>\n",
              "      <td>[]</td>\n",
              "      <td>https://twitter.com/quackityscuddlr/status/139...</td>\n",
              "      <td>False</td>\n",
              "      <td>NaN</td>\n",
              "      <td>0</td>\n",
              "      <td>NaN</td>\n",
              "      <td>NaN</td>\n",
              "      <td>NaN</td>\n",
              "      <td>NaN</td>\n",
              "      <td>NaN</td>\n",
              "      <td>NaN</td>\n",
              "      <td>NaN</td>\n",
              "      <td>[{'screen_name': 'whosgnf', 'name': 'kat ᵕ̈', ...</td>\n",
              "      <td>NaN</td>\n",
              "      <td>NaN</td>\n",
              "      <td>NaN</td>\n",
              "      <td>NaN</td>\n",
              "    </tr>\n",
              "  </tbody>\n",
              "</table>\n",
              "</div>"
            ],
            "text/plain": [
              "   Unnamed: 0                   id  ...  trans_src trans_dest\n",
              "0           0  1391181110441295873  ...        NaN        NaN\n",
              "1           1  1391181109610913792  ...        NaN        NaN\n",
              "\n",
              "[2 rows x 37 columns]"
            ]
          },
          "metadata": {
            "tags": []
          },
          "execution_count": 13
        }
      ]
    },
    {
      "cell_type": "code",
      "metadata": {
        "id": "RT6h11oTnS5L",
        "colab": {
          "base_uri": "https://localhost:8080/"
        },
        "outputId": "faad6f2e-7d7e-4b72-fc17-d258f9679fa1"
      },
      "source": [
        "df.columns"
      ],
      "execution_count": null,
      "outputs": [
        {
          "output_type": "execute_result",
          "data": {
            "text/plain": [
              "Index(['Unnamed: 0', 'id', 'conversation_id', 'created_at', 'date', 'time',\n",
              "       'timezone', 'user_id', 'username', 'name', 'place', 'tweet', 'language',\n",
              "       'mentions', 'urls', 'photos', 'replies_count', 'retweets_count',\n",
              "       'likes_count', 'hashtags', 'cashtags', 'link', 'retweet', 'quote_url',\n",
              "       'video', 'thumbnail', 'near', 'geo', 'source', 'user_rt_id', 'user_rt',\n",
              "       'retweet_id', 'reply_to', 'retweet_date', 'translate', 'trans_src',\n",
              "       'trans_dest'],\n",
              "      dtype='object')"
            ]
          },
          "metadata": {
            "tags": []
          },
          "execution_count": 14
        }
      ]
    },
    {
      "cell_type": "code",
      "metadata": {
        "id": "fqFRSQEvn9eu",
        "colab": {
          "base_uri": "https://localhost:8080/",
          "height": 202
        },
        "outputId": "39f77abb-c549-4d68-bd4b-4abcbab9c148"
      },
      "source": [
        "tweet = df[['date', 'time', 'username', 'tweet', 'replies_count', 'retweets_count', 'likes_count']]\n",
        "tweet.head()"
      ],
      "execution_count": null,
      "outputs": [
        {
          "output_type": "execute_result",
          "data": {
            "text/html": [
              "<div>\n",
              "<style scoped>\n",
              "    .dataframe tbody tr th:only-of-type {\n",
              "        vertical-align: middle;\n",
              "    }\n",
              "\n",
              "    .dataframe tbody tr th {\n",
              "        vertical-align: top;\n",
              "    }\n",
              "\n",
              "    .dataframe thead th {\n",
              "        text-align: right;\n",
              "    }\n",
              "</style>\n",
              "<table border=\"1\" class=\"dataframe\">\n",
              "  <thead>\n",
              "    <tr style=\"text-align: right;\">\n",
              "      <th></th>\n",
              "      <th>date</th>\n",
              "      <th>time</th>\n",
              "      <th>username</th>\n",
              "      <th>tweet</th>\n",
              "      <th>replies_count</th>\n",
              "      <th>retweets_count</th>\n",
              "      <th>likes_count</th>\n",
              "    </tr>\n",
              "  </thead>\n",
              "  <tbody>\n",
              "    <tr>\n",
              "      <th>0</th>\n",
              "      <td>2021-05-08</td>\n",
              "      <td>23:59:58</td>\n",
              "      <td>wild_gesturing</td>\n",
              "      <td>@kat_veil My gender presentation to them has i...</td>\n",
              "      <td>1</td>\n",
              "      <td>0</td>\n",
              "      <td>2</td>\n",
              "    </tr>\n",
              "    <tr>\n",
              "      <th>1</th>\n",
              "      <td>2021-05-08</td>\n",
              "      <td>23:59:58</td>\n",
              "      <td>quackityscuddlr</td>\n",
              "      <td>@whosgnf theres a lot of violence but not much...</td>\n",
              "      <td>1</td>\n",
              "      <td>0</td>\n",
              "      <td>1</td>\n",
              "    </tr>\n",
              "    <tr>\n",
              "      <th>2</th>\n",
              "      <td>2021-05-08</td>\n",
              "      <td>23:59:58</td>\n",
              "      <td>anaspervaiz4</td>\n",
              "      <td>Israel is airing violence and terrorism in Jer...</td>\n",
              "      <td>0</td>\n",
              "      <td>0</td>\n",
              "      <td>1</td>\n",
              "    </tr>\n",
              "    <tr>\n",
              "      <th>3</th>\n",
              "      <td>2021-05-08</td>\n",
              "      <td>23:59:57</td>\n",
              "      <td>peterthebeast3</td>\n",
              "      <td>@Theresaroets911 I'm thinking a kick between t...</td>\n",
              "      <td>0</td>\n",
              "      <td>0</td>\n",
              "      <td>3</td>\n",
              "    </tr>\n",
              "    <tr>\n",
              "      <th>4</th>\n",
              "      <td>2021-05-08</td>\n",
              "      <td>23:59:56</td>\n",
              "      <td>meowkeyes</td>\n",
              "      <td>@jemazhen thinking about violence</td>\n",
              "      <td>0</td>\n",
              "      <td>0</td>\n",
              "      <td>1</td>\n",
              "    </tr>\n",
              "  </tbody>\n",
              "</table>\n",
              "</div>"
            ],
            "text/plain": [
              "         date      time  ... retweets_count likes_count\n",
              "0  2021-05-08  23:59:58  ...              0           2\n",
              "1  2021-05-08  23:59:58  ...              0           1\n",
              "2  2021-05-08  23:59:58  ...              0           1\n",
              "3  2021-05-08  23:59:57  ...              0           3\n",
              "4  2021-05-08  23:59:56  ...              0           1\n",
              "\n",
              "[5 rows x 7 columns]"
            ]
          },
          "metadata": {
            "tags": []
          },
          "execution_count": 15
        }
      ]
    },
    {
      "cell_type": "code",
      "metadata": {
        "colab": {
          "base_uri": "https://localhost:8080/"
        },
        "id": "4Y3VnJHhwxwd",
        "outputId": "ba7f44f9-519e-44b2-ec32-d61aac168f39"
      },
      "source": [
        "tweet.shape"
      ],
      "execution_count": null,
      "outputs": [
        {
          "output_type": "execute_result",
          "data": {
            "text/plain": [
              "(9450, 7)"
            ]
          },
          "metadata": {
            "tags": []
          },
          "execution_count": 17
        }
      ]
    },
    {
      "cell_type": "code",
      "metadata": {
        "id": "D_DtrRWsn_Xx"
      },
      "source": [
        "tweet.to_csv(\"clean_gender_violence.csv\")"
      ],
      "execution_count": null,
      "outputs": []
    },
    {
      "cell_type": "code",
      "metadata": {
        "id": "0cVfeV5AwXuy"
      },
      "source": [
        ""
      ],
      "execution_count": null,
      "outputs": []
    }
  ]
}