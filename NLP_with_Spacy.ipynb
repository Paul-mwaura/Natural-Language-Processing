{
  "nbformat": 4,
  "nbformat_minor": 0,
  "metadata": {
    "colab": {
      "name": "NLP with Spacy.ipynb",
      "provenance": [],
      "collapsed_sections": [],
      "authorship_tag": "ABX9TyPR8D8nsGcZGLNgeza0co6g",
      "include_colab_link": true
    },
    "kernelspec": {
      "name": "python3",
      "display_name": "Python 3"
    }
  },
  "cells": [
    {
      "cell_type": "markdown",
      "metadata": {
        "id": "view-in-github",
        "colab_type": "text"
      },
      "source": [
        "<a href=\"https://colab.research.google.com/github/Paul-mwaura/Natural-Language-Processing/blob/main/NLP_with_Spacy.ipynb\" target=\"_parent\"><img src=\"https://colab.research.google.com/assets/colab-badge.svg\" alt=\"Open In Colab\"/></a>"
      ]
    },
    {
      "cell_type": "markdown",
      "metadata": {
        "id": "DND3Nz-vqf2t"
      },
      "source": [
        "**Import Spacy**"
      ]
    },
    {
      "cell_type": "markdown",
      "metadata": {
        "id": "l8Qb56TIq07g"
      },
      "source": [
        "> The default model which is *english-core-web*, for which we load the \"en model."
      ]
    },
    {
      "cell_type": "code",
      "metadata": {
        "id": "8iIv5kINqUx8"
      },
      "source": [
        "import spacy\n",
        "nlp = spacy.load(\"en\")"
      ],
      "execution_count": null,
      "outputs": []
    },
    {
      "cell_type": "markdown",
      "metadata": {
        "id": "FC9qPTHEqrpL"
      },
      "source": [
        "**Word Tokenize**"
      ]
    },
    {
      "cell_type": "markdown",
      "metadata": {
        "id": "GSWq0cPNrGLN"
      },
      "source": [
        "> Tokenize words to get the tokens of the text i.e breaking the sentences into words."
      ]
    },
    {
      "cell_type": "code",
      "metadata": {
        "id": "Z02vq9fLqxlL",
        "colab": {
          "base_uri": "https://localhost:8080/",
          "height": 54
        },
        "outputId": "1269e5bb-f05b-4257-da56-6d28745c1f3f"
      },
      "source": [
        "from collections import Counter\n",
        "\n",
        "text = \"\"\"Most of the outlay will be at home. No surprise there, either. \n",
        "While Samsung has expanded overseas, South Korea \n",
        "is still host to most of its factories and research engineers. \"\"\"\n",
        "\n",
        "doc = nlp(text)\n",
        "words = [token.text for token in doc]\n",
        "print(words)"
      ],
      "execution_count": null,
      "outputs": [
        {
          "output_type": "stream",
          "text": [
            "['Most', 'of', 'the', 'outlay', 'will', 'be', 'at', 'home', '.', 'No', 'surprise', 'there', ',', 'either', '.', '\\n', 'While', 'Samsung', 'has', 'expanded', 'overseas', ',', 'South', 'Korea', '\\n', 'is', 'still', 'host', 'to', 'most', 'of', 'its', 'factories', 'and', 'research', 'engineers', '.']\n"
          ],
          "name": "stdout"
        }
      ]
    },
    {
      "cell_type": "markdown",
      "metadata": {
        "id": "aY_Iy4q4rzBx"
      },
      "source": [
        "**Sentence Tokenize**"
      ]
    },
    {
      "cell_type": "markdown",
      "metadata": {
        "id": "gCY9VOyOr16k"
      },
      "source": [
        "> Tokenize sentences if there are more than 1 sentence i.e breaking the sentences to list of sentence."
      ]
    },
    {
      "cell_type": "code",
      "metadata": {
        "id": "TxEsbrg7rqLR",
        "colab": {
          "base_uri": "https://localhost:8080/",
          "height": 125
        },
        "outputId": "3bad15e6-b285-4af5-bb83-96b4688908cb"
      },
      "source": [
        "text = \"\"\"Natural Language Toolkit, or more commonly NLTK, \n",
        "is a suite of libraries and programs for symbolic and statistical \n",
        "natural language processing (NLP) for English written in the Python \n",
        "programming language. It was developed by Steven Bird and Edward Loper \n",
        "in the Department of Computer and Information Science at the University of Pennsylvania.\"\"\"\n",
        "\n",
        "text = nlp(text)\n",
        "list(text.sents)"
      ],
      "execution_count": null,
      "outputs": [
        {
          "output_type": "execute_result",
          "data": {
            "text/plain": [
              "[Natural Language Toolkit, or more commonly NLTK, \n",
              " is a suite of libraries and programs for symbolic and statistical \n",
              " natural language processing (NLP) for English written in the Python \n",
              " programming language., It was developed by Steven Bird and Edward Loper \n",
              " in the Department of Computer and Information Science at the University of Pennsylvania.]"
            ]
          },
          "metadata": {
            "tags": []
          },
          "execution_count": 7
        }
      ]
    },
    {
      "cell_type": "markdown",
      "metadata": {
        "id": "UtLjd-LzsWgZ"
      },
      "source": [
        "**Stop words removal**"
      ]
    },
    {
      "cell_type": "markdown",
      "metadata": {
        "id": "5Bw5yzrWt9zb"
      },
      "source": [
        "> Remove irrelevant words using nltk stop words like is,the,a etc from the sentences as they don’t carry any information."
      ]
    },
    {
      "cell_type": "code",
      "metadata": {
        "id": "E37uKY33sZ_5",
        "colab": {
          "base_uri": "https://localhost:8080/",
          "height": 54
        },
        "outputId": "fc40fc09-a050-48d7-a26d-313502bc8801"
      },
      "source": [
        "text = \"\"\"Most of the outlay will be at home. No surprise there, either. While Samsung has expanded overseas, South Korea is still host to most of its factories and research engineers. \"\"\"\n",
        "\n",
        "doc = nlp(text)\n",
        "# Remove stop words and punctuations.\n",
        "#\n",
        "words = [token.text for token in doc if token.is_stop !=True and token.is_punct != True]\n",
        "\n",
        "print(words)"
      ],
      "execution_count": null,
      "outputs": [
        {
          "output_type": "stream",
          "text": [
            "['outlay', 'home', 'surprise', 'Samsung', 'expanded', 'overseas', 'South', 'Korea', 'host', 'factories', 'research', 'engineers']\n"
          ],
          "name": "stdout"
        }
      ]
    },
    {
      "cell_type": "markdown",
      "metadata": {
        "id": "fdbFxBvexMmf"
      },
      "source": [
        "**Lemmatization**"
      ]
    },
    {
      "cell_type": "markdown",
      "metadata": {
        "id": "-WIh0vK9xP4V"
      },
      "source": [
        "> lemmatize the text so as to get its root form eg: functions,funtionality as function."
      ]
    },
    {
      "cell_type": "code",
      "metadata": {
        "id": "vntWs_GHsPYM",
        "colab": {
          "base_uri": "https://localhost:8080/",
          "height": 372
        },
        "outputId": "c7919629-7be1-4cdc-ae48-980be29f3127"
      },
      "source": [
        "nlp = spacy.load(\"en\")\n",
        "text = \"\"\"While Samsung has expanded overseas, South Korea is still host to most of its factories and research engineers. \"\"\"\n",
        "doc = nlp(text)\n",
        "for token in doc:\n",
        "  print(token, token.lemma_)"
      ],
      "execution_count": null,
      "outputs": [
        {
          "output_type": "stream",
          "text": [
            "While while\n",
            "Samsung Samsung\n",
            "has have\n",
            "expanded expand\n",
            "overseas overseas\n",
            ", ,\n",
            "South South\n",
            "Korea Korea\n",
            "is be\n",
            "still still\n",
            "host host\n",
            "to to\n",
            "most most\n",
            "of of\n",
            "its -PRON-\n",
            "factories factory\n",
            "and and\n",
            "research research\n",
            "engineers engineer\n",
            ". .\n"
          ],
          "name": "stdout"
        }
      ]
    },
    {
      "cell_type": "markdown",
      "metadata": {
        "id": "kzHLZDcAx11P"
      },
      "source": [
        "**Get word frequency**"
      ]
    },
    {
      "cell_type": "markdown",
      "metadata": {
        "id": "JH1AdxdPx5Xc"
      },
      "source": [
        "> Counting the word occurrence using FreqDist library. Word frequency helps us to determine how important the word is in the document by knowing how many times the word is being used."
      ]
    },
    {
      "cell_type": "code",
      "metadata": {
        "id": "AWUzQsJkxlfp",
        "colab": {
          "base_uri": "https://localhost:8080/",
          "height": 54
        },
        "outputId": "2ca468a0-65fb-43db-d1cc-9230cf902ca4"
      },
      "source": [
        "nlp = spacy.load(\"en\")\n",
        "text = \"\"\"Most of the outlay will be at home. No surprise there, either. While Samsung has expanded overseas, South Korea is still host to most of its factories and research engineers. \"\"\"\n",
        "\n",
        "doc = nlp(text)\n",
        "# remove stopwords and punctuations.\n",
        "#\n",
        "words = [token.text for token in doc if token.is_stop != True and token.is_punct != True]\n",
        "word_freq = Counter(words)\n",
        "common_words = word_freq.most_common(6)\n",
        "print(common_words)"
      ],
      "execution_count": null,
      "outputs": [
        {
          "output_type": "stream",
          "text": [
            "[('outlay', 1), ('home', 1), ('surprise', 1), ('Samsung', 1), ('expanded', 1), ('overseas', 1)]\n"
          ],
          "name": "stdout"
        }
      ]
    },
    {
      "cell_type": "markdown",
      "metadata": {
        "id": "vXUbESx1zNSO"
      },
      "source": [
        "**POS tags**"
      ]
    },
    {
      "cell_type": "markdown",
      "metadata": {
        "id": "Fa6WgVwtzQrx"
      },
      "source": [
        "> POS tag helps us to know the tags of each word like whether a word is noun, adjective etc."
      ]
    },
    {
      "cell_type": "code",
      "metadata": {
        "id": "_EZqBohky_X_",
        "colab": {
          "base_uri": "https://localhost:8080/",
          "height": 176
        },
        "outputId": "5ef5315b-4cc6-4ea1-82e1-3b233be6fb18"
      },
      "source": [
        "nlp = spacy.load(\"en\")\n",
        "text = \"\"\"Natural Language Toolkit, or more commonly NLTK.\"\"\"\n",
        "text = nlp(text)\n",
        "for w in text:\n",
        "  print(w, w.pos_)"
      ],
      "execution_count": null,
      "outputs": [
        {
          "output_type": "stream",
          "text": [
            "Natural PROPN\n",
            "Language PROPN\n",
            "Toolkit PROPN\n",
            ", PUNCT\n",
            "or CCONJ\n",
            "more ADJ\n",
            "commonly ADV\n",
            "NLTK NUM\n",
            ". PUNCT\n"
          ],
          "name": "stdout"
        }
      ]
    },
    {
      "cell_type": "markdown",
      "metadata": {
        "id": "6QeMZP_XzlmT"
      },
      "source": [
        "**NER-(Named Entity Recognition)**"
      ]
    },
    {
      "cell_type": "markdown",
      "metadata": {
        "id": "cKWPb2vUzo01"
      },
      "source": [
        "> NER(Named Entity Recognition) is the process of getting the entity names."
      ]
    },
    {
      "cell_type": "code",
      "metadata": {
        "id": "4jMPIEy6zS_R",
        "colab": {
          "base_uri": "https://localhost:8080/",
          "height": 70
        },
        "outputId": "78fb6777-f005-40cd-9e77-fb53f983bc70"
      },
      "source": [
        "nlp = spacy.load(\"en\")\n",
        "text = \"\"\"Most of the outlay will be at home. No surprise there, either. While Samsung has expanded overseas, South Korea is still host to most of its factories and research engineers. \n",
        "Meanwhile, Apple based in the USA can differ any much, according to Paul.\"\"\"\n",
        "\n",
        "text = nlp(text)\n",
        "labels = set([w.label_ for w in text.ents])\n",
        "for label in labels:\n",
        "  entities = [e.string for e in text.ents if label==e.label_]\n",
        "  entities = list(set(entities))\n",
        "  print(label, entities)"
      ],
      "execution_count": null,
      "outputs": [
        {
          "output_type": "stream",
          "text": [
            "GPE ['USA ', 'South Korea ']\n",
            "PERSON ['Paul']\n",
            "ORG ['Samsung ', 'Apple ']\n"
          ],
          "name": "stdout"
        }
      ]
    },
    {
      "cell_type": "code",
      "metadata": {
        "id": "heU5dojN0SpM",
        "colab": {
          "base_uri": "https://localhost:8080/",
          "height": 35
        },
        "outputId": "6ba8ad77-e5cf-492c-a181-1da03f26c8dc"
      },
      "source": [
        "# If you want to understand the tags associated with the outputs.\n",
        "#\n",
        "spacy.explain(\"GPE\")"
      ],
      "execution_count": null,
      "outputs": [
        {
          "output_type": "execute_result",
          "data": {
            "application/vnd.google.colaboratory.intrinsic": {
              "type": "string"
            },
            "text/plain": [
              "'Countries, cities, states'"
            ]
          },
          "metadata": {
            "tags": []
          },
          "execution_count": 21
        }
      ]
    },
    {
      "cell_type": "code",
      "metadata": {
        "id": "7jxKfAf41gGS"
      },
      "source": [
        "from spacy import displacy\n",
        "\n"
      ],
      "execution_count": null,
      "outputs": []
    }
  ]
}