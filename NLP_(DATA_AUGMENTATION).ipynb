{
  "nbformat": 4,
  "nbformat_minor": 0,
  "metadata": {
    "colab": {
      "name": " NLP (DATA AUGMENTATION).ipynb",
      "provenance": [],
      "authorship_tag": "ABX9TyNx6d6CK7GqY3pH8gZ3vt4F",
      "include_colab_link": true
    },
    "kernelspec": {
      "name": "python3",
      "display_name": "Python 3"
    },
    "language_info": {
      "name": "python"
    }
  },
  "cells": [
    {
      "cell_type": "markdown",
      "metadata": {
        "id": "view-in-github",
        "colab_type": "text"
      },
      "source": [
        "<a href=\"https://colab.research.google.com/github/Paul-mwaura/Natural-Language-Processing/blob/main/NLP_(DATA_AUGMENTATION).ipynb\" target=\"_parent\"><img src=\"https://colab.research.google.com/assets/colab-badge.svg\" alt=\"Open In Colab\"/></a>"
      ]
    },
    {
      "cell_type": "markdown",
      "metadata": {
        "id": "iztYYlHIcefw"
      },
      "source": [
        "# NLP (DATA AUGMENTATION)"
      ]
    },
    {
      "cell_type": "markdown",
      "metadata": {
        "id": "Rxf39WfUSm3t"
      },
      "source": [
        "## Data Augmentation Techniques\n",
        ">>\n",
        "The simple data augmentation techniques are the following:\n",
        ">>\n",
        "* SR: synonym replacement\n",
        "* RD: random deletion\n",
        "* RS: random swap\n",
        "* RI: random insertion"
      ]
    },
    {
      "cell_type": "markdown",
      "metadata": {
        "id": "py0VnRZFRC1Q"
      },
      "source": [
        "## Import Necessary Libraries"
      ]
    },
    {
      "cell_type": "code",
      "metadata": {
        "colab": {
          "base_uri": "https://localhost:8080/"
        },
        "id": "b8q763MmiKx4",
        "outputId": "ec5289f5-70e0-4b9c-d527-8dda1473ced1"
      },
      "source": [
        "import pandas as pd\n",
        "import random\n",
        "import nltk\n",
        "from nltk.corpus import wordnet, stopwords\n",
        "\n",
        "nltk.download('wordnet')\n",
        "nltk.download('stopwords')"
      ],
      "execution_count": 25,
      "outputs": [
        {
          "output_type": "stream",
          "text": [
            "[nltk_data] Downloading package wordnet to /root/nltk_data...\n",
            "[nltk_data]   Unzipping corpora/wordnet.zip.\n",
            "[nltk_data] Downloading package stopwords to /root/nltk_data...\n",
            "[nltk_data]   Package stopwords is already up-to-date!\n"
          ],
          "name": "stdout"
        },
        {
          "output_type": "execute_result",
          "data": {
            "text/plain": [
              "True"
            ]
          },
          "metadata": {
            "tags": []
          },
          "execution_count": 25
        }
      ]
    },
    {
      "cell_type": "markdown",
      "metadata": {
        "id": "lHpBzGVhRIEf"
      },
      "source": [
        "## Import the Dataset"
      ]
    },
    {
      "cell_type": "code",
      "metadata": {
        "colab": {
          "base_uri": "https://localhost:8080/",
          "height": 137
        },
        "id": "-eLM28CrgtB7",
        "outputId": "a39aefe3-e3b6-4622-865c-b067e7ce2009"
      },
      "source": [
        "text = open(\"food.txt\").read()\n",
        "text"
      ],
      "execution_count": 26,
      "outputs": [
        {
          "output_type": "execute_result",
          "data": {
            "application/vnd.google.colaboratory.intrinsic+json": {
              "type": "string"
            },
            "text/plain": [
              "\"The Global Report on Food Crises (GRFC) 2020 is the result of\\na joint, consensus-based assessment of acute food insecurity\\nsituations around the world by 16 partner organizations.\\nAt 135 million, the number of people in Crisis or worse\\n(IPC/CH Phase 3 or above) in 2019 was the highest in the four\\nyears of the GRFC's existence. This increase also reflected the\\ninclusion of additional countries and areas within some countries.\\nWhen comparing the 50 countries that were in both the\\n2019 and the 2020 reports, the population in Crisis or worse\\n(IPC/CH Phase 3 or above) rose from 112 to 123 million. This\\nreflected worsening acute food insecurity in key conflict-driven\\ncrises, notably the Democratic Republic of the Congo and South\\nSudan and the growing severity of drought and economic shocks\\nas drivers in countries such as Haiti, Pakistan and Zimbabwe.\\nAround 183 million people in 47 countries were classified in\\nStressed (IPC/CH Phase 2) conditions, at risk of slipping into Crisis\\nor worse (IPC/CH Phase 3 or above) if confronted by an additional\\nshock or stressor.\\nSource: FSIN, GRFC 2020\\nThe 10 worst food crises in 2019 by number of people in Crisis or worse (IPC/CH Phase 3 or above)\\nPercentage of population analysed in Crisis or worse (IPC/CH Phase 3 or above)\\nSource: FSIN, GRFC 2020\\nNumber of people (in millions) in Crisis or worse (IPC/CH Phase 3 or above)\\n90%\\n100%\\n80%\\n70%\\n60%\\n50%\\n40%\\n30%\\n20%\\n10%\\n20M\\n18M\\n16M\\n14M\\n12M\\n10M\\n8M\\n6M\\n4M\\n2M\\n0M 0%\\nYEMEN DEMOCRATIC\\nREPUBLIC\\nOF THE CONGO\\nAFGHANISTAN VENEZUELA\\n(BOLIVARIAN\\nREPUBLIC OF)\\nETHIOPIA SOUTH\\nSUDAN\\nSYRIAN\\nARAB\\nREPUBLIC\\nSUDAN NORTHERN\\nNIGERIA\\nHAITI\\n15.9M\\n15.6M\\n11.3M\\n9.3M 8.0M\\n7.0M 6.6M\\n5.9M\\n5.0M\\n3.7M\\n53% 26% 37% 32% 27% 61% 36% 14% 5% 35%\\nLatin America and Africa\\nthe Caribbean\\nMiddle East\\nand Asia\\n2019\\n135M\\nThe number of acutely\\nfood-insecure people in Crisis or\\nworse (IPC/CH Phase 3 or above)\\nacross 55 countries and territories\\nanalysed\\nMore than half of the affected population were in Africa\\n73M\\n43M\\n18.5M\\nThe data and the analyses in this report were prepared before the global crisis of the COVID-19\\npandemic and do not account for its impact on vulnerable people in food-crisis situations.\\nEurope 0.5M\\nGRFC 2020 IN BRIEF\\nGLOBAL REPORT ON FOOD CRISES 2020 | 3\\nAn estimated 75 million stunted children were living in the 55\\nfood-crisis countries analysed. These children have limited access\\nto sufficient dietary energy, nutritionally diverse diets, clean\\ndrinking water, sanitation and health care, which weakens their\\nhealth and nutrition status, with dire consequences for their\\ndevelopment and long-term productivity.\\nDrivers of acute food insecurity\\nConflict/insecurity was still the main driver of food crises in\\n2019, but weather extremes and economic shocks became\\nincreasingly significant. Over half of the 77 million acutely foodinsecure people in countries where conflict was identified as the\\nprimary driver were in the Middle East and Asia. Regional crises\\ncontinued to see high levels of acute food insecurity, particularly\\nin the Lake Chad Basin and Central Sahel.\\nAfrica had the largest numbers of acutely food-insecure people in\\nneed of assistance in countries badly affected by weather events,\\nparticularly in the Horn of Africa and Southern Africa, followed by\\nCentral America and Pakistan.\\nIn East Africa, armed conflicts, intercommunal violence and\\nother localized tensions continued to affect peace and security,\\nparticularly in South Sudan, and continued to maintain large\\nrefugee populations in neighbouring countries, such as Uganda.\\nThe report reflects the growing influence of economic crises\\non acute food insecurity levels, particularly in the Bolivarian\\nRepublic of Venezuela, Zimbabwe, Haiti and the Sudan.\\nAn estimated 79 million people remained displaced globally\\nas of mid-2019 – 44 million of them internally displaced and\\n20 million were refugees under UNHCR’s mandate. More\\nthan half of these refugees were hosted in countries with high\\nnumbers of acutely food-insecure people. In countries where\\nfunding constraints have reduced assistance in refugee camps,\\nrefugees’ food security was severely threatened.\\nShort-term outlook for 2020\\nThe acute food insecurity forecasts for 2020 were produced\\nbefore COVID-19 became a pandemic and do not account for its\\nlikely impact in food crisis countries.\\nThe combined effects of conflict, macroeconomic crisis, climaterelated shocks and crop pests, including fall armyworm and\\ndesert locusts, were likely to ensure that Yemen remained the\\nworld's worst food crisis.\\nIn East Africa, abundant seasonal rains benefitted crops and\\nrangelands, but fostered a severe desert locust outbreak that\\nwill likely aggravate acute food insecurity in complex and fragile\\ncontexts.\\nProtracted conflicts will either maintain or increase acute food\\ninsecurity levels in parts of Central Africa. In Southern Africa,\\npost-harvest improvements are likely to be short-lived as poor\\n2020\\nThe number of acutely malnourished\\nchildren under 5 years across the 55 17M countries/territories analysed in 2019\\nrains, high food prices and unresolved political and economic\\ninstability could worsen acute food insecurity levels. Increasing\\nviolence, displacements and disrupted agriculture and trade in\\ntandem with adverse climate in West Africa and Sahel countries\\nwill worsen acute food insecurity conditions in many areas.\\nViolent conflict and currency depreciation will drive alarming\\nrates of acute food insecurity and acute malnutrition levels across\\nthe most troubled areas of the Middle East and Asia.\\nIn Latin America and the Caribbean, sociopolitical crises, weather\\nextremes, lack of employment and high food prices are likely to\\nlead to deteriorating acute food insecurity in some countries.\\nThe drivers of food crises, as well as lack of access to dietary\\nenergy and diversity, safe water, sanitation and health care\\nwill continue to create high levels of child malnutrition, while\\nCOVID-19 is likely to overburden health systems.\\nThe pandemic may well devastate livelihoods and food security,\\nespecially in fragile contexts and particularly for the most\\nvulnerable people working in the informal agricultural and nonagricultural sectors. A global recession will majorly disrupt food\\nsupply chains.\\nWhile all partners are in broad agreement with the data and information\\npresented in this report, FEWS NET’s analyses suggest that the population\\nrequiring emergency food assistance in 2019 was lower than the IPC estimates\\nfor Afghanistan, the Democratic Republic of the Congo, Ethiopia and Haiti.\\nNumbers of acutely food-insecure people in Crisis or\\nworse (IPC/CH Phase 3 or above) (millions) by key driver\\nConflict/insecurity, weather extremes, desert locusts,\\neconomic shocks and COVID-19 are expected to be\\nthe key drivers of acute food insecurity\\n34M\\nin 25 countries\\n77M\\nin 22 countries\\n24M\\nin 8 countries\\nConflict/insecurity Weather extremes Economic shocks\\nSource: FSIN, GRFC 2020\\n4 | GLOBAL REPORT ON FOOD CRISES 2020\\nPANDEMIC ALERT\\nThe novel coronavirus disease (COVID-19) is having an\\nunprecedented impact around the world, both in health\\nand socioeconomic terms. By 11 April, 1.6 million cases\\nand nearly 100 000 deaths had occurred globally (WHO,\\n11 April 2020).\\nWhile COVID-19 does not discriminate, the 55 countries and\\nterritories that are home to 135 million acutely food-insecure\\npeople in need of urgent humanitarian food and nutrition\\nassistance are the most vulnerable to the consequences of this\\npandemic as they have very limited or no capacity to cope with\\neither the health or socioeconomic aspects of the shock.\\nThese countries may face an excruciating trade-off between\\nsaving lives or livelihoods or, in a worst-case scenario, saving\\npeople from the corona virus to have them die from hunger. To\\nprevent these tens of millions of people already facing food crises\\nfrom succumbing to the virus or to its economic consequences,\\nall actors need to mobilize and coordinate along a set of\\noperational and strategic priorities.\\nIn addition to the countries covered in the GRFC 2020, the\\npandemic may drive up acute food insecurity levels in other\\ncountries. For instance, Small Island Developing States (SIDS)\\nand oil-exporting countries may be severely affected as they are\\nnet importers of food with populations that are dependent on\\nincome from remittances and tourism.\\nThe impact on health and nutrition\\nIn most of the countries covered in this report, national health\\nsystems are already over-stretched, with an alarming dearth of\\nequipment, medicines and trained staff.\\nPoor people, including displaced people, often lack sufficient\\neconomic resources to access health care and/or live in remote\\nareas far from services. Some groups are fearful of being\\nstigmatized or discriminated against in accessing public services.\\nPeople in food crises often have higher rates of underlying\\nhealth conditions, including non-communicable diseases and\\nmalnutrition (acute, chronic and micronutrient deficiencies),\\nwhich weaken the immune system and increase the risk of\\npeople developing severe COVID-19 symptoms.\\nRising levels of food insecurity and lack of access to healthcare –\\neither because of movement restrictions, strained health systems\\nor falling incomes – are likely to increase malnutrition rates,\\nparticularly among children, pregnant and lactating women and\\nthe elderly.\\nThere are also urgent concerns for the nutritional status of\\nchildren in families that rely on school feeding programmes to fill\\nfood gaps.\\nThe impact on food availability\\nOn the food supply side, harvests have been good and the 2020\\noutlook for staple crops is promising. However, movement\\nrestrictions necessary to contain the spread of the virus will\\ndisrupt the transport and processing of food and other critical\\ngoods, increasing delivery times and reducing availability of\\neven the most basic food items. For households dependent on\\nfood production and livestock rearing, any disruption in the\\nsupply chain of agricultural inputs or the inability to access\\nlivestock markets, will likely lead to declines in crop and livestock\\nproduction and sales.\\nThe food security consequences of the pandemic on nomadic\\nand semi-nomadic pastoralists will likely be grave if national\\ngovernments close borders, disrupting livestock migration routes,\\nincluding across the fragile Sahel region. In countries where\\ncrop and livestock production are affected by the desert locust\\noutbreak, the restrictions on movement may hinder locust control\\noperations with dramatic consequences for crop production.\\nThe impact on food access\\nRising unemployment and under-employment is likely to\\nseverely reduce people’s purchasing power. Urban populations,\\nparticularly daily wage earners in the informal economies and\\nservice sector employees, are particularly at risk of losing their\\nincome sources as a result of regulations on social distancing and\\ngovernment restrictions to minimize transmission.\\nThose who are reliant on remittances to meet their basic needs\\nand those who cross borders on a regular basis to engage in\\nlivelihood activities will lose their income sources. As households\\nface reduced purchasing power, there is great potential for a\\ndecline in consumer demand – particularly for higher value\\nproducts – further weakening the income of producers, including\\nthose who produce high-value food products.\\nPandemic alert\\nMobilizing for the impact of\\nCOVID-19 in food-crisis countries\\nPANDEMIC ALERT\\nGLOBAL REPORT ON FOOD CRISES 2020 | 5\\nMovement restrictions (and illness) are likely to limit the\\navailability of agricultural labour, which will contribute to\\nrising food prices. Protectionism policies, such as tariffs and\\nexport bans, could also drive up food prices, while food crisis\\ncountries that rely heavily on food imports to cover consumption\\nrequirements, such as the Democratic Republic of the Congo,\\nthe Sudan, the Syrian Arab Republic and Yemen, will experience\\nrising food prices if their currencies depreciate further relative to\\nthe US dollar. If major importers resort to panic buying, the price\\nof globally traded food commodities could increase, particularly\\nin the short term. Whether or not localized food price spikes will\\ntrickle down to remote rural markets will depend on the level\\nof integration of local markets, as well as other factors such as\\nharvest performance, seasonality, infrastructure and security.\\nSimulations developed by the Organization for Economic Cooperation and Development (OECD) indicated that the expected\\n2020 GDP growth of 2.9 percent (forecast in November 2019)\\ncould be downgraded to 1.5 percent if the disease spreads widely\\nacross Asia-Pacific, Europe and North America.\\nGrowing fear in global markets could result in a severe decline in\\ninternational financing and portfolio outflows from food-insecure\\ncountries. As these countries often have limited fiscal and\\nexternal buffers, this trend would pose a significant risk to their\\ngovernments’ ability to fight the pandemic and maintain existing\\nsupport to vulnerable households.\\nThe impact on displaced populations\\nDisplaced people living in camps and displaced/host populations\\nin urban areas are particularly vulnerable in overcrowded settings\\nwith poor access to adequate health care, lack of clean water,\\nhand-washing facilities and sanitation, where social distancing\\nis difficult, if not impossible. The legal status of refugees often\\nprevents them from being included in national social protection\\nsupport, putting them at serious risk of rising poverty levels\\ngiven their severely limited ability to access income. Restrictions\\non border crossings may prevent asylum seekers from realizing\\ntheir right for protection and assistance.\\nSocial tensions and conflict\\nCOVID-19 could create the conditions for social and political\\nunrest, especially in the most vulnerable food-crisis countries.\\nUncertainty of future impacts of the pandemic combined with\\nrestrictions on movement, soaring unemployment, limited\\naccess to food, and the erosion of already fragile livelihoods may\\ngenerate discontent, fueling violence and conflict.\\nA lack of food/goods in refugee camps may increase tension\\namong refugees and host communities. Perceptions that the\\nvirus is brought by non-nationals may escalate discrimination\\nand social exclusion, particularly in areas hosting displaced\\npopulations.\\nAny postponement of elections may jeopardize the democratic\\nprocess and generate tensions between ruling parties and\\noppositions. The disease could hinder international mediation\\nefforts for conflict resolution, as well as peacekeeping operations.\\nViolence and exploitation, including sexual exploitation and\\nabuse and intimate partner violence, are likely to increase during\\nepidemic outbreaks due to increased confinement and exposure\\nto perpetrators, increased stress, and reduced income and access\\nto basic needs. Many children who are no longer attending\\nschool during the day face increased protection risks at home.\\nImpacts on humanitarian assistance\\nA major compounding factor for food-crisis countries is that\\nthe pandemic is likely to have significant repercussions on the\\ndelivery of humanitarian assistance. Resources may be diverted\\nto support COVID-19 efforts, affecting budgets for assistance.\\nMovement restrictions are likely to affect the mobility of\\nsupplies and staff including the ability to conduct field work.\\nHumanitarian delivery costs may increase as a result.\\nPre-empting the socioeconomic impacts\\nof COVID-19: priorities for action\\nGiven the unprecedented nature of the crisis, creating a better\\nunderstanding of the potential impacts of COVID-19 and taking\\nrapid collective action to pre-empt its impact on food security and\\nfood systems are of paramount importance and urgency.\\nAnticipatory actions must be undertaken now to safeguard the\\nlivelihoods of the most vulnerable people and related agrifood systems to protect the critical food supply chain. Such\\ninterventions must comply with government measures and\\nhealth guidelines and should be designed and implemented\\nin partnership and close coordination between governments,\\nhumanitarian and development actors.\\nExpand near-real time, remote food security monitoring\\nsystems to provide up-to-date information on the impacts of\\nthe outbreak on food security and livelihoods, health, access\\nto services, markets and supply chains, among others, for early\\naction and mitigation.\\nPreserve critical humanitarian food, livelihood and nutrition\\nassistance to vulnerable groups – adapted to potential\\nCOVID-19 impacts – to ensure that needs are fully met.\\nPosition food in food-crisis countries to reinforce and scale\\nup social protection systems, ensuring the most vulnerable\\nwho are affected or at high risk of COVID-19 can still access food.\\nScale up support for food processing, transport and local\\nfood markets, and advocate for trade corridors to remain\\nopen to ensure the continuous functioning of the critical food\\nsupply chain and agri-food systems in food-crisis countries.\\n6 | GLOBAL REPORT ON FOOD CRISES 2020\\nHUMANITARIAN AND DEVELOPMENT ASSISTANCE TO FOOD-CRISIS COUNTRIES\\nAccording to an analysis of external financial flows for\\nhumanitarian and development assistance in 32 of the 53 food\\ncrisis countries in the GRFC 2019, humanitarian contributions\\ndedicated to food security, agriculture and nutrition sectors in\\nmajor food crisis hotspots increased from USD 5.3 billion in 2016\\nto USD 6.5 billion in 2018 (see figure 1).\\nThe 32 countries analysed represented 106 million people out\\nof 113 million people identified as experiencing acute hunger\\n(IPC/CH Phase 3 or above) in 2018. Unsurprisingly, these 32 most\\nsevere food crises accounted for the vast majority of humanitarian\\ncontributions to food security, agriculture and nutrition assistance\\nworldwide (between 82 and 86 percent in 2016–2018).\\nAs figure 2 shows, deep inequalities exist between recipient\\ncountries with similar levels of needs in terms of acute food\\ninsecurity. For instance, Yemen, the Democratic Republic of the\\nCongo and Afghanistan each had more than 10 million acutely\\nFigure 1\\nGrowth of humanitarian assistance to meet rising\\ncommitments to food crises\\nSource: GNAFC 2019, based on data extracted from Global Report on Food Crises 2019 and OCHA FTS\\n2016\\nUSD\\n5.3B\\n2017\\nUSD\\n6.0B\\n2018\\nUSD\\n6.5B\\nFood security, nutrition and agriculture humanitarian assistance to 32 countries\\nFood security, nutrition and agriculture humanitarian assistance to other countries\\nSource: GNAFC 2019, based on data extracted from OCHA FTS and 3RP Annual reports 2016–2018\\nFigure 2\\nInequalities in humanitarian assistance allocation in 2018\\nAcutely food-insecure populations in IPC Phase3 or above in 2018 (in millions) Humanitarian assistance received (in billions USD)\\nUSD 1.5B USD 0.3B USD 0.2B USD 0.7B USD 0.2B USD 0.7B\\n15.9M\\n13.1M\\n10.6M\\n6.5M 6.2M 6.1M\\nDEMOCRATIC\\nREPUBLIC\\nOF THE CONGO\\nSYRIAN ARAB SUDAN\\nREPUBLIC\\nYEMEN AFGHANISTAN SOUTH SUDAN\\nOverview 2016–2018\\nHumanitarian and development\\nassistance to food-crisis countries\\nHUMANITARIAN AND DEVELOPMENT ASSISTANCE TO FOOD-CRISIS COUNTRIES\\nGLOBAL REPORT ON FOOD CRISES 2020 | 7\\nSource: GNAFC 2019, based on data extracted from OCHA FTS and OECD CRS\\nfood insecure people in need of assistance, but Yemen received\\nfive times more humanitarian assistance than the Democratic\\nRepublic of the Congo and seven times more than Afghanistan.\\nHowever, some of these inequalities may be the result of higher\\ncosts of response in certain contexts due to relatively poorer\\ninfrastructures and restricted access to populations in need, for\\ninstance.\\nSimilarly, South Sudan, the Syrian Arab Republic, and the\\nSudan each accounted for 6.0–6.5 million people in acute food\\ninsecurity and had similar needs, but South Sudan and the Syrian\\nArab Republic received almost four times more assistance than\\nthe Sudan.\\nAlthough Afghanistan had almost 5 million more people in\\nneed of urgent food, nutrition and livelihoods assistance\\nthan South Sudan, the latter received about three times more\\nhumanitarian assistance than Afghanistan. However, these\\nsignificant differences in external assistance provided between\\ncountries must again be considered in the light of the variety of\\ncontexts and the various levels of domestic response provided by\\ngovernments to food crisis situations (i.e. domestic response is\\nnot considered in the analysis presented here).\\nLooking at investment in development, the analysis revealed\\nthat the 32 countries/territories with major food crises received\\nsignificant development assistance (USD 4.2 billion) for food\\nsecurity, agriculture and nutrition sectors in 2017 (figure 3).\\nThis represented roughly 40 percent of the total ODA (official\\ndevelopment assistance) for these three sectors to food-crisis\\ncountries in 2017.\\nOverall, around USD 4.2 billion was allocated to development\\nand USD 6 billion to humanitarian assistance in food-related\\nsectors in the 32 countries in 2017. In many countries,\\nespecially those affected by protracted conflict, the spending on\\nhumanitarian assistance far outweighed that on development\\nassistance (figure 4).\\nFor instance, in 2017 South Sudan received almost USD 700\\nmillion in humanitarian assistance and less than USD 200 million\\nfor development.\\nIn Yemen, also in 2017, humanitarian assistance reached more\\nthan USD 1 billion, while less than USD 100 million was provided\\nfor development assistance. Some countries had more balanced\\nspending on the humanitarian and development assistance. The\\nDemocratic Republic of the Congo received comparable levels\\nof humanitarian and development assistance, though both were\\nlimited. Ethiopia represents another case where the assistance is\\nbalanced and large-scale, most probably due to the presence of\\nrelatively stable and well-established investment environment\\nand policy frameworks.\\nThere is much room to improve the coordination between\\nhumanitarian and development efforts in order to enhance\\nFigure 4\\nHumanitarian assistance and development assistance\\nto food crises in USD in 2017\\nUSD\\n1.04B\\nUSD\\n0.69B\\nUSD\\n0.16B\\nUSD\\n0.14B\\nUSD\\n0.58B\\nUSD\\n0.09B\\nUSD\\n0.18B USD\\n0.06B\\nUSD\\n0.14B\\nUSD\\n0.65B\\nFood security, nutrition and agriculture humanitarian assistance\\nFood security, nutrition and agriculture development assistance\\nDEMOCRATIC\\nREPUBLIC\\nOF THE CONGO\\nYEMEN SOUTH SUDAN ETHIOPIA SUDAN\\nSource: GNAFC 2019, based on data extracted from OECD CRS\\nFigure 3\\nDevelopment assistance in food crises\\nin 2016 and 2017\\nFood security, nutrition and agriculture development assistance to 32 major food crises\\nFood security, nutrition and agriculture development assistance to other countries\\nUSD 4.2B\\nUSD 4.0B\\n63% 37% 2017\\n64% 36% 2016\\nimpact and address the root causes of protracted crises. Much\\nmore analysis is needed at the country level to gain better\\nunderstanding of how development assistance is best allocated\\nin support of lasting food security and nutrition and resilient\\nagriculture and food supply chains, and how it could be\\nbetter aligned and coordinated with the humanitarian efforts,\\nparticularly in fragile and conflict-affected contexts.\\nThe analysis of funding flows for humanitarian and development\\nassistance in the major food crisis hotspots was carried out by non\\nprofit organization Development Initiatives, and members of the\\nGlobal Network technical support unit (GNAFC, 2019). \\n8 | GLOBAL REPORT ON FOOD CRISES 2020\\nACRONYMS\\n3RP....................Regional Refugee and Resilience Plan\\nACAPS................Assessment Capacities Project\\nACLED................. Armed Conflict Location and Event Data Project\\nALPS ..................Alert for Price Spikes indicator\\nALG ....................Liptako–Gourma Authority\\n...........................(Autorité de Développement Intégré de la\\n...........................Région du Liptako Gourma)\\nASAL................... Arid and semi-arid lands\\nBAY..................... Borno, Adamawa and Yobe states\\nCADC .................Central America Dry Corridor\\nCARI ................... Consolidated Approach to Reporting Indicators of\\n............................Food Security\\nCOVID-19........... Corona virus disease 2019\\nCFSAM...............Crop and Food Security Assessment Mission\\nCFSVA ..............Comprehensive Food Security and Vulnerability\\n...........................Analysis\\nCH......................Cadre Harmonisé\\nCholera/AWD....Cholera and Acute Watery Diarrhoea\\nCILSS .................Permanent Interstate Committee for\\n...........................Drought Control\\nCPI.....................Consumer Price Index\\nDEVCO...............International Cooperation and Development of\\n...........................the European Commission\\nDHS ...................Demographic and Health Survey\\nDTM...................Displacement Tracking Matrix\\nECHO.................European Civil Protection and Humanitarian Aid\\n...........................Operations of the European Commission\\nEC-JRC...............European Commission – Joint Research Centre\\nECOWAS ............Economic Community of West African States\\n(or CEDEAO) .....(Communauté économique des États de l'Afrique\\n...........................de l'Ouest)\\nEFSA ..................Emergency Food Security Assessment (Evaluación\\n...........................de Seguridad Alimentaria de Emergencia)\\nEHES..................Eswatini Household Income and\\n...........................Expenditure survey\\nFAO....................Food and Agriculture Organization of the\\n...........................United Nations\\nFAO-GIEWS........Food and Agriculture Organization of the\\n...........................United Nations - Global Information and\\n...........................Early Warning System\\nFCS ....................Food Consumption Score\\nFCT......................Federal Capital Territory\\nFEWS NET..........Famine Early Warning Systems Network\\nFSIN...................Food Security Information Network\\nFSNAU ..............Food Security and Nutrition Assessment Unit\\nFSNMS...............Food Security and Nutrition Monitoring System\\nFSNWG...............Food security and nutrition working group\\nGAM ..................Global Acute Malnutrition\\nGDP ...................Gross Domestic Product\\ngFSC ..................Global Food Security Cluster\\nGIFMM ..............Interagency Group on Mixed Migration Flows –\\n...........................Colombia (Grupo Interagencial de Flujos\\n...........................Migratorios Mixtos)\\nGNAFC................ Global Network Against Food Crises\\ngNC ...................Global Nutrition Cluster\\nGRFC..................Global Report on Food Crises\\nHDP ...................Humanitarian – Development – Peace nexus\\nHIV/AIDS ...........Human Immunodeficiency Virus Infection and\\n...........................Acquired Immune Deficiency Syndrome\\nHNO...................Humanitarian Needs Overview\\nHRP ...................Humanitarian Response Plan\\nICRC...................International Committee of the Red Cross\\nIDMC .................Internal Displacement Monitoring Centre\\nIDP.....................Internally Displaced People\\nIFPRI..................International Food Policy Research Institute\\nIFRC...................International Federation of the Red Cross\\nIGAD..................Intergovernmental Authority on Development\\n...........................(in Eastern Africa)\\nIMF ....................International Monetary Fund\\nIOM ...................International Organization for Migration\\nIPC.....................Integrated Food Security Phase Classification\\nIPC AMN............Integrated Food Security Phase Classification\\n...........................Acute Malnutrition\\nISIL....................Islamic State of Iraq and the Levant\\nIYCF ...................Infant and Young Child Feeding\\nJMP ...................Joint Monitoring Programme\\nJRP ....................Joint Response Plan\\nLGA.....................Local government area\\nMAD ..................Minimum Acceptable Diet\\nMAEP.................Ministry of Agriculture, Livestock and Fishery\\n...........................(Ministère de l'Agriculture, de l'Élevage et de la\\n...........................Pêche)\\nMAM..................Moderate Acute Malnutrition\\nMARN................Ministry of Environment and Natural Resources\\n...........................(Ministerio de Medio Ambiente y Recursos\\n...........................Naturales)\\nMCNA ................Multi-Cluster Needs Assessment\\nMDD..................Minimum Dietary Diversity\\nMICS..................Multiple Indicator Cluster Survey or Ministry\\n........................... and National Institute for Health (Ministerio de\\n...........................Salud-Instituto Nacional de Salud)\\nMoPH ................Ministry of Public Health\\nMPI..................... Multi-dimensional poverty index\\nMUAC ................Mid-Upper Arm Circumference\\n(WFP's) .............World Food Programme's mobile Vulnerability\\nmVAM ...............Analysis and Mapping\\nNDVI..................Normalized Difference Vegetation Index\\nNM.....................Nautical Miles\\nNNS ...................National Nutrition Survey\\nNRC ...................Norwegian Refugee Council\\nOCHA.................United Nations Office for the Coordination of\\n...........................Humanitarian Affairs\\nOECD.................. Organisation for Economic Co-operation and\\n............................ Development\\nPDM ..................Post-Distribution Monitoring\\nGRFC 2020 IN BRIEF\\nGLOBAL REPORT ON FOOD CRISES 2020 | 9\\nACRONYMS cont... ICONOGRAPHY\\nPDS....................Public Distribution System\\nR-ARCSS ............Revitalized Agreement on the Resolution of the\\n...........................Conflict in the Republic of South Sudan\\nrCSI....................Reduced Coping Strategy Index\\nREVA................... Refugee influx Emergency Vulnerability Assessment\\nRMRP ................Refugee and Migrant Response Plan\\nRPCA..................Food Crisis Prevention Network (Réseau de\\n...........................Prévention des Crises Alimentaires)\\nSADC .................Southern African Development Community\\nSAM...................Severe Acute Malnutrition\\nSDG .................... Sustainable Development Goal\\nSENS .................Standardised Expanded Nutrition Survey\\nSICA...................Central American Integration System\\n...........................(Sistema de la Integración Centroamericana)\\nSIDS.................... Small Island Developing states\\nSIPRI..................Stockholm International Peace Research Institute\\nSMART...............Standardized Monitoring and Assessment of Relief\\n........................... and Transitions\\nSNNPR...............Ethiopian Southern Nations, Nationalities, and\\n...........................Peoples' Region\\nSOFI....................The State of Food Security and Nutrition in the World\\nSPLM-N .............Sudan People’s Liberation Movement – North\\nTMC ...................Transitional Military Council\\nUAG ...................Unidentified Armed Groups\\nUEMOA..............West African Economic and Monetary Union\\n...........................(Union économique et monétaire ouest-africaine)\\nUN .....................United Nations\\nUNAIDS .............Joint United Nations Programme on HIV/AIDS\\nUNAMA..............United Nations Assistance Mission in Afghanistan\\nUNCTAD.............United Nations Conference on Trade and\\n...........................Development\\nUNDP.................United Nations Development Programme\\nUNHCR .............United Nations High Commissioner for Refugees\\nUNICEF ..............United Nations Children’s Fund\\nUNMISS ............United Nations Mission in South Sudan\\nUNRWA .............United Nations Relief and Works Agency for\\n...........................Palestine Refugees in the Near East\\nUNSC.................. United Nations Security Council\\nUSAID................United States Agency for International\\n...........................Development\\nUSD ...................United States Dollar\\nUSDA GAIN........United States Department of Agriculture - Global\\n...........................Agricultural Information Network\\nVAC....................Vulnerability Assessment Committee\\nVAM...................Vulnerability Analysis and Mapping\\nWASH ................Water, Sanitation and Hygiene\\nWB.....................World Bank\\nWFP...................World Food Programme\\nWHS ................... World Humanitarian Summit\\nWHO..................World Health Organization\\nDrivers of acute food insecurity\\nNutrition\\nDisplacement\\nMaps\\nThe boundaries and names shown and the designations used on all the maps in this document do not imply official\\nendorsement or acceptance by the United Nations.\\nDotted line represents approximately the Line of Control in Jammu and Kashmir agreed upon by India and Pakistan. The final\\nstatus of Jammu and Kashmir has not yet been agreed upon by the parties.\\nFinal boundary between the Republic of Sudan and the Republic of South Sudan has not yet been determined.\\nFinal status of the Abyei area is not yet determined.\\nA dispute exists between the Governments of Argentina and the United Kingdom of Great Britain and Northern Ireland\\nconcerning sovereignty over the Falkland Islands (Malvinas).\\nConflict/insecurity\\nAcute malnutrition (wasting)\\nInternally displaced people (IDPs)\\nDietary diversity\\nReturnees\\nAnaemia\\nChronic malnutrition (stunting)\\nRefugees/asylum-seekers\\nWeather extremes\\nBreastfeeding\\nAccess to safe drinking water\\nPests\\nHealth shocks\\nDisease\\nEconomic shocks\\n10 | GLOBAL REPORT ON FOOD CRISES 2020\\nINTRODUCTION AND METHODS\\nWHY THIS REPORT?\\nReliable data and analysis are important tools in\\ntackling the root causes of food crises\\nThe Global Report on Food Crises is the result of a joint\\nassessment of acute food insecurity situations around the\\nworld by 16 partners.\\nBy carrying out collective analysis and providing clear,\\nindependent evidence the partners aim to guide coherent\\nand coordinated strategic humanitarian and development\\ninvestments. The report tracks the numbers and locations\\nof people most in need of emergency food, nutrition\\nand livelihood assistance and it captures how acute food\\n Chapter 1\\nIntroduction and methods\\ninsecurity and malnutrition conditions have changed over\\ntime. It identifies the main drivers of acute food insecurity\\nand malnutrition – and explores whether and how conflict,\\nweather extremes and economic shocks interact and\\nexacerbate food crisis situations. It also examines how\\nchronic, structural or seasonal issues combine with shocks to\\nexacerbate situations.\\nThe data and evidence presented here can inform costefficient and needs-based humanitarian and resiliencebuilding actions, and ultimately enable agencies to seek\\nhigh-level political action and coordinate policies and actions\\nfor durable and innovative ways to tackle the root causes of\\nfood crises. In concrete terms, agencies, governments and\\nThe Global Network Against Food Crises was co-founded\\nby the European Union, FAO and WFP at the 2016 World\\nHumanitarian Summit (WHS) in response to the call for\\nnew approaches to tackle protracted crises and recurrent\\ndisasters, reduce vulnerability and better manage risks by\\nbridging the divide between development, humanitarian\\nand conflict-preventing action. The latter is often referred to\\nas the humanitarian–development–peace (HDP) nexus.\\nThe Global Network brings together partners from across\\nthe spectrum of interventions to tackle food crises,\\nincorporating humanitarian and development actions and\\nlinking to other sectors, such as education, health, the\\nenvironment and peace. It aims to develop evidence-based\\napproaches, build capacities and provide knowledge to\\nmore effectively prevent, prepare for and respond to food\\ncrises, ultimately contributing to longer-term recovery,\\ndevelopment and resilience-building efforts.\\nThe Global Network addresses the multiple facets of food\\ncrises that cannot be successfully tackled by individual\\nactors working under their own specific mandates. It\\nfacilitates a fundamental change in the way international\\nand local actors interact and promotes a holistic approach\\nto address food crises worldwide. Partners in the Global\\nNetwork work together and achieve results at national,\\nregional and global level in three key areas:\\n• Evidence-based analyses of food crisis risks and of\\npeople’s resilience to various shocks; knowledge\\nmanagement and communication monitoring,\\nevaluation and learning.\\n• Strategic investments for addressing and preventing\\nfood crises.\\n• Synergies and coordination with other sectors to address\\nthe full spectrum of humanitarian, development and\\npeace-building needs. This aims to deliver a more\\ninclusive, equitable, resilient and sustainable set of\\ncontext-specific responses and solutions.\\nWithin the Global Network’s framework and approach,\\nthe Food Security Information Network (FSIN) facilitates\\nthe consensus-building process around food security\\nand nutrition analyses, and ensures a constant flow of\\ninformation and exchange between stakeholders at\\ncountry, regional and global level around food security and\\nnutrition analysis.\\nINTRODUCTION AND METHODS\\nGLOBAL REPORT ON FOOD CRISES 2020 | 11\\nother key stakeholders can use the information to bolster the\\ncase for changing food systems, building resilience to extreme\\nweather events, resolving conflict, promoting durable peace\\nand upholding international humanitarian law.\\nThis report is the flagship publication of a series of analytical\\nproducts facilitated by the Food Security Information Network\\n(FSIN) and produced under the initiative of the Global\\nNetwork Against Food Crises.\\nThe humanitarian-development-peace (HDP) nexus has\\nemerged as a major focus of policy debate in the years since\\nthe United Nations Secretary General’s 2015 report for the\\nWorld Humanitarian Summit. The Commitment to Action\\nsigned at the WHS called on humanitarian, development and\\nother relevant actors to work collaboratively towards collective\\noutcomes that reduce needs, risks and vulnerabilities over\\nmultiple years through a “New Way of Working”.\\nFunding and financing tools, instruments, policies and\\napproaches have not had time to adapt to the new HDP\\npolicy agenda proposed at the WHS. Moreover, practical\\nchallenges in the operationalization of the humanitarian and\\ndevelopment collaboration in links with peace are emerging.\\nIn particular, stakeholders at country level report lack of\\nclarity regarding roles and rules of engagement, as well as\\nsignificant divergences in principles and practices, limiting the\\nconvergence between actors along the nexus.\\nThe Global Network Against Food Crises is an attempt to foster\\ngreater collaboration and cohesive action along the nexus.\\nWHAT IS FOOD INSECURITY?\\nFood insecurity refers to the lack of secure access to sufficient\\namounts of safe and nutritious food for normal human growth\\nand development and an active and healthy life. For people\\nto be food secure, food must be both consistently available\\nand accessible in sufficient quantities and diversity and\\nhouseholds must be able to utilize (store, cook, prepare and\\nshare) the food in a way that has a positive nutritional impact.\\nAcute food insecurity\\nAcute food insecurity is any manifestation of food insecurity\\nat a specific point in time of a severity that threatens lives,\\nlivelihoods or both, regardless of the causes, context or\\nduration. These acute states are highly susceptible to\\nchange and can manifest in a population within a short\\namount of time, as a result of sudden changes or shocks that\\nnegatively impact on the determinants of food insecurity\\nand malnutrition (IPC, 2019). Transitory food insecurity is a\\nshort-term or temporary inability to meet food consumption\\nrequirements related to sporadic crises, indicating a capacity\\nto recover.\\nChronic food insecurity\\nChronic food Insecurity is a long-term or persistent inability\\nto meet dietary energy requirements (lasting for a significant\\nperiod of time during the year), FAO defines this as\\n'undernourishment' and it is the basis for the SDG indicator\\n2.1.1 published in SOFI.\\nPeople experiencing moderate food insecurity face\\nuncertainties about their ability to obtain food and have been\\nforced to reduce, at times during the year, the quality and/or\\nquantity of food they consume due to lack of money or other\\nresources. It thus refers to a lack of consistent access to food,\\nwhich diminishes dietary quality, disrupts normal eating\\npatterns, and can have negative consequences for nutrition,\\nhealth and well-being. People facing severe food insecurity,\\non the other hand, have likely run out of food, experienced\\nhunger and, at the most extreme, gone for days without\\neating, putting their health and well-being at grave risk (FAO\\net al., 2019).\\nIn 2018 'More than 820 million people in the world were\\nundernourished; […] more than 700 million people were\\nexposed to severe levels of food insecurity' and 'an additional\\n1.3 billion people, have experienced food insecurity at\\nmoderate levels' (The State of Food Security and Nutrition in\\nthe World 2019).\\nDrivers of acute food insecurity\\nThe drivers of acute food insecurity are often interlinked\\nand mutually reinforcing, making it difficult to pinpoint the\\nspecific trigger or driver of each food crisis. The GRFC 2020\\ntakes a practical approach by estimating which are the most\\nsalient for each country/territory out of the broad categories\\nexplained below.\\nConflict/insecurity\\nThis includes interstate conflicts, internal violence, regional\\nor global instability, civil unrest or political crises leading to\\ndisplacements.\\nIn conflict civilians are frequently deprived of their income\\nsources and pushed into acute food insecurity. Food systems\\nand markets are disrupted, pushing up food prices and\\nsometimes leading to scarcities of water and fuel, or of food\\nitself. Landmines, explosive remnants of war and improvised\\nexplosive devices often destroy agricultural land, mills,\\nstorage facilities, machinery etc.\\nConflict prevents businesses from operating and weakens\\nthe national economy, reducing employment opportunities,\\nincreasing poverty levels and diverting government spending\\ntowards the war effort. Health systems are usually damaged\\nor destroyed leaving people reliant on humanitarian\\nsupport – yet increasingly insecurity and roadblocks prevent\\nhumanitarian convoys from reaching the most vulnerable. Or \\n12 | GLOBAL REPORT ON FOOD CRISES 2020\\nINTRODUCTION AND METHODS\\naid agencies face lengthy delays, restrictions on personnel\\nor the type or quantity of aid supplies, or insufficient security\\nguarantees. Parties to conflict can deny people access to\\nfood as a weapon of war, especially in areas under blockade/\\nembargo. Food insecurity itself can become a trigger for\\nviolence and instability, particularly in contexts marked by\\npervasive inequalities and fragile institutions. Sudden spikes\\nin food prices tend to exacerbate the risk of political unrest\\nand conflict (FAO et al., 2017).\\nWeather extremes\\nThese include droughts, floods and the untimely start of rainy\\nseasons.\\nWeather-related events can directly affect crops and/or\\nlivestock, cut off roads and prevent markets from being\\nstocked. Poor harvests push up food prices and diminish\\nagricultural employment opportunities, lowering income at\\na time when households are more market-reliant because of\\nreduced food stocks.\\nAdverse weather events are particularly grave for smallholder\\nfarmers who cannot afford to invest in the systems and inputs\\nrequired to withstand and recover from the impacts of such\\nshocks, and for pastoralists who are vulnerable because they\\nrely on rain-fed rangeland for grazing livestock and have very\\nfew fixed assets.\\nPeople’s vulnerability to weather shock events rests on their\\ncapacity to adapt, the scale and frequency of shocks and their\\ndependence on the affected sector. Repeated events further\\nerode capacity to withstand future shocks. Weather events\\nand changes in climate can often lead to an intensification of\\nconflict between pastoralist herders and farmers over access\\nto water and grazing. There is ample evidence suggesting\\nthat natural disasters – particularly droughts – contribute to\\naggravating existing civil conflicts.\\nEconomic shocks\\nEconomic shocks can affect the food insecurity of households\\nor individuals through various channels. Macroeconomic\\nshocks, characterized by high inflation or hyperinflation,\\nsignificant currency depreciation, worsening terms of trade,\\nhigh unemployment rates and loss of income, a significant\\ncontraction in exports and a critical decrease in investments\\nand other capital inflows tend to coincide with increases in\\nacute food insecurity. Increases in prices of staple grains, oil or\\nagricultural inputs can affect food availability, food prices and\\nincomes. Microeconomic shocks are characterized by rising\\nfood prices, lack of income sources and consequent reduction\\nin purchasing power, which directly affect households' food\\nsecurity.\\nCountries with weak governance and institutions, or facing\\narmed conflict, civil unrest or instability, are particularly\\nvulnerable to the impact of economic decline. High debt\\nconstrains economic growth, increases vulnerability to\\neconomic shocks and detracts from development spending.\\nOther drivers\\nOther drivers are used in the GRFC but are not recorded as the\\nprimary driver in any of the countries analysed.\\nHealth shocks Disease outbreaks (occurrence of disease\\ncases in excess of normal expectancy) are usually caused by\\nan infection, transmitted through person-to-person contact,\\nanimal-to-person contact, or from the environment or other\\nmedia. Water, sanitation, food and air quality are vital\\nelements in the transmission of communicable diseases and\\nin the spread of diseases prone to cause epidemics. Displaced\\npopulations – particularly in overcrowded camps – are more\\nsusceptible to disease outbreaks which strained health\\nsystems cannot prevent or control (WHO).\\nEpidemics and pandemics can also affect the ability of people\\nto carry on their activities and livelihoods and, in the worst\\ncases when widespread, may also affect markets and supply\\nchains.\\nCrop pests and animal diseases Fall armyworms, desert\\nlocusts, etc can damage crops and may lead to severe\\nproduction shortfalls. Peste des petits ruminants (PPR), footand-mouth disease (FMD), or Rift Valley fever (RVF) often affect\\nlivestock and pastoralists' livelihoods in food-crisis contexts.\\nNatural disasters (non-weather related) Disasters such\\nas earthquakes, tsunamis and volcanic eruptions can lead to\\nmajor property, infrastructure and/or environmental damage\\nas well as loss of human life.\\nDisplacement\\nDisplacement is often a side-effect of conflict, food insecurity\\nand weather shocks. Displaced people are often more\\nvulnerable to food insecurity and malnutrition having had\\nto abandon their livelihoods and assets, undertake arduous\\njourneys and settle in areas or camps with limited access to\\nbasic services or former social networks. Their rights are often\\nrestricted due to host country legal frameworks, resulting in a\\nlack of access to land, employment and freedom of movement.\\nThey are often dependent on humanitarian assistance to meet\\ntheir food needs.\\nForced displacement is the movement of people who have\\nbeen obliged to leave their homes, particularly to avoid the\\neffects of armed conflict, generalized violence, violations of\\nhuman rights or natural or human-made disasters.\\nA refugee is someone who has been forced to flee his or her\\ncountry because of persecution, war or violence. Refugees are\\nrecognized under various international agreements. Some\\nare recognized as a group or on a ‘prima facie’ basis while\\nothers undergo an individual investigation before being \\nINTRODUCTION AND METHODS\\nGLOBAL REPORT ON FOOD CRISES 2020 | 13\\ngiven refugee status. The 1951 Convention and 1967 Protocol\\nRelating to the Status of Refugees provide the full legal\\ndefinition of a refugee.\\nAn asylum-seeker is a person seeking sanctuary in a country\\nother than their own and waiting for a decision about their\\nstatus. The legal processes related to asylum are complex\\nand variable, which is a challenge when it comes to\\ncounting, measuring and understanding the asylum-seeking\\npopulation. When an asylum application is successful, the\\nperson is awarded refugee status.\\nInternally displaced people (IDPs) are those forced to flee\\ntheir homes as a result of or in order to avoid the effects of\\narmed conflict, situations of generalized violence, violations of\\nhuman rights, or natural or human-made disasters, and who\\nhave not crossed an international border.\\nA stateless person is someone who does not have a nationality\\nof any country. Some people are born stateless, but others\\nbecome stateless due to a variety of reasons, including\\nsovereign, legal, technical or administrative decisions or\\noversights. The Universal Declaration of Human Rights\\nunderlines that 'Everyone has the right to a nationality'\\n(UNGA, 1948, article 15).\\nAcute food insecurity data sources\\nfor the GRFC 2020\\nIPC/CH analyses for the peak number of acutely\\nfood-insecure people in 2019\\nIn the 39 countries where the government and food security\\nstakeholders have adopted the IPC/CH as the protocols\\nfor classifying the severity and magnitude of acute food\\ninsecurity, the number of people in Crisis or worse (IPC/\\nCH Phase 3 or above) corresponds to the highest estimates\\nregistered for the calendar year, independent of seasonality.\\nFor a summary of the IPC/CH classification system refer to\\ncountries were selected for inclusion in GRFC 2020\\nMethodology\\nCriteria for selecting countries for inclusion in GRFC 2020\\n4 in 2019 or\\n4at least once in the\\npast 3 years or\\n4at least 3 years in the\\npast 10 years.\\n48 23 countries that requested\\nexternal assistance for food\\nand/or faced shocks as\\nassessed by FAO GIEWS:\\nHigh income countries, countries that did not ask for FAO and WFP humanitarian assistance to cope with the shock(s) or\\ncountries in which the shock(s) had little impact on food security were not included.\\n4at least 20% of the population analysed in IPC/CH Phase 3 or above\\n4at least 1 million people in IPC/CH Phase 3 or above\\n4any area in IPC/CH Phase 4 or above\\n4included in the IASC humanitarian system-wide emergency response – level 3.\\nof the selected countries were identified as major crises in 2019 based on the\\nfollowing non-mutually exclusive criteria\\n71\\n35\\nlow or middle-income countries that did not meet GIEWS\\ncriteria, but had populations in need of humanitarian\\nassistance as a result of:\\n4hosting refugee populations who were assisted by UNHCR and WFP\\n4having over 1 million or at least 20% of its population\\nforcibly displaced\\n4having populations affected by weather shocks\\n4having populations affected by conflict and insecurity.\\n+\\n14 | GLOBAL REPORT ON FOOD CRISES 2020\\nINTRODUCTION AND METHODS\\ntable 1, and for the full version of the IPC acute food insecurity\\nreference table, see annex 1 on page 220. The 2019 acute food\\ninsecurity estimates are reported in table 5 on page 24, and\\nthe latest updates of acute food insecurity estimates available\\nin 2019 are in table 9, annex 3.\\nPopulations in Crisis (IPC/CH Phase 3), Emergency (IPC/CH\\nPhase 4) and Catastrophe (IPC/CH Phase 5) are deemed to\\nbe those in need of urgent food, livelihood and nutrition\\nassistance. Populations in Stressed (IPC/CH Phase 2) require\\na different set of actions — ideally disaster risk reduction and\\nlivelihood protection interventions — and are also indicated\\nin chapter 2. A wide range of sources are used to examine the\\ndrivers of acute food insecurity and complement the analysis.\\nOther sources for countries with no IPC/CH analysis\\nFor the handful of countries that have not adopted the IPC\\nor the CH classifications or did not conduct such analyses\\nin 2019, the data sources were FEWS NET IPC-compatible\\nanalyses1 (4 countries), WFP assessments using CARI\\nmethodology2\\n (6 countries) and Humanitarian Needs\\nOverviews (HNO)3\\n (6 countries). See annex 3, table 9.\\n1 IPC compatible products are generated using key IPC protocols but are not built on multi-partner\\ntechnical consensus\\n2 The Consolidated Approach for Reporting Indicators of Food Security (CARI) is used to classify\\nindividual households according to their level of food insecurity. All five indicators included within\\nthe CARI approach can be incorporated within IPC analysis. The IPC technical manual provides\\nguidance on where each indicator sits within the IPC analytical framework. For details see https://\\nresources.vam.wfp.org/data-analysis/quantitative/food-security/cari-the-consolidated-approach-forreporting-indicators-of-food-security.\\n3 The HNO includes an assessment of the food security situation, the impact of the crisis, the\\nbreakdown of the people in need and the required funds.\\nSources for the 2020 forecasts\\nThe sources for the outlook and projected trends for 2020\\nvary. IPC/CH projections are estimated by outlining the main\\nassumptions driving the evolution of food security in the\\nprojected period. The focus is on the 'most likely scenario'\\nwhich helps to devise the potential changes on population\\ndistribution across IPC/CH phases. Also, it takes into account\\nthe potential effects of planned, funded and likely-to-occur\\nhumanitarian assistance in the area of analysis.4\\nFEWS NET food assistance outlook briefs provide information\\non the projected severity and magnitude of acute food\\ninsecurity (using ranges) and indicate each country’s foodinsecure population in need of urgent humanitarian food\\nassistance (IPC Phase 3 or above). FEWS NET projections are\\nbased on a scenario development approach where a set of\\nassumptions regarding the evolution of food security drivers\\nand their impacts on food security outcomes in the absence of\\nhumanitarian food assistance. The report presents projections\\nconsidered to be the most-likely scenario.\\nCH projections forecast the number of people in CH Phase 3 or\\nabove for West Africa, the Sahel and Cameroon in a scenario in\\nwhich no food assistance is provided.\\n4 For more details on forecasting methods, see : http://www.ipcinfo.org/fileadmin/user_upload/\\nipcinfo/manual/IPC_Technical_Manual_3_Final.pdf\\nhttp://www.cilss.int/index.php/2019/10/04/cadre-harmonise-manuel-version-2-0/ https://fews.\\nnet/sectors-topics/approach/fews-net-guidance-document-series\\nTable 1\\nIPC/CH acute food insecurity phase description and response objectives\\nPhase Technical description\\n1 None/Minimal Households are able to meet essential food and non-food needs without engaging\\nin atypical and unsustainable strategies to access food and income.\\n2 Stressed Households have minimally adequate food consumption but are unable to afford\\nsome essential non-food expenditures without engaging in stress-coping strategies.\\n3 Crisis Households either:\\n• Have food consumption gaps that are reflected by high or above-usual acute malnutrition; OR\\n• Are marginally able to meet minimum food needs but only by depleting essential livelihood\\n assets or through crisis-coping strategies.\\n4 Emergency Households either:\\n• Have large food consumption gaps which are reflected in very high acute malnutrition and\\n excess mortality; OR\\n• Are able to mitigate large food consumption gaps but only by employing emergency livelihood\\n strategies and asset liquidation.\\n5 Catastrophe/Famine Households have an extreme lack of food and/or other basic needs even after full employment of\\ncoping strategies. Starvation, death, destitution and extremely critical acute malnutrition levels are\\nevident. (For Famine classification, area needs to have extreme critical levels of acute malnutrition\\nand mortality.)\\nPriority response objective\\nResilience building and\\ndisaster risk reduction.\\nDisaster risk reduction and\\nprotection of livelihoods.\\nURGENT ACTION\\nREQUIRED\\nto protect livelihoods and\\nreduce food consumption gaps.\\nURGENT ACTION\\nREQUIRED\\nto save lives and livelihoods.\\nURGENT ACTION\\nREQUIRED\\nto revert/prevent widespread\\ndeath and total collapse of\\nlivelihoods.\\nINTRODUCTION AND METHODS\\nGLOBAL REPORT ON FOOD CRISES 2020 | 15\\nWHAT IS MALNUTRITION?\\nMalnutrition exists in different forms; it includes\\nundernutrition and overnutrition. Undernutrition is more\\nthan a lack of food – it is a combination of factors: insufficient\\nenergy, protein and micronutrients exacerbated by frequent\\ninfections or disease. Malnutrition stunts children’s growth,\\ndeprives them of essential vitamins and minerals, and makes\\nthem more susceptible to frequent and severe disease and\\ninfections (UNICEF).\\nThere are also other forms of malnutrition. While not a focus of\\nthis report, it may also refer to overnutrition leading to obesity.\\nThis form of malnutrition is on the rise in almost every country\\nin the world. Undernutrition and overnutrition frequently\\ncoexist within the same country, community, and even within\\nthe same individual. Stunted children, for example, face a\\ngreater risk of becoming overweight as adults (UNICEF).\\nAcute malnutrition\\nA child being too thin for his or her height as a result of rapid\\nweight loss or the failure to gain weight is a sign of acute\\nmalnutrition (wasting) which, although treatable, can lead\\nto illness, disability or death. Moderate acute malnutrition\\n(MAM) using the weight for height indicator is identified by\\nweight for height z scores (WHZ) below -2 and above -3 of the\\nreference population, and severe acute malnutrition (SAM)\\nby WHZ below -3. Global acute malnutrition (GAM) reflects\\nboth MAM and SAM in a population. Acute malnutrition can\\nalso be defined by Mid-Upper Arm Circumference (MUAC)\\nmeasurements ≤ 12.5 cm, with severe acute malnutrition\\ndefined with a measurement of ≤11.5 cm. Children affected\\nrequire urgent feeding, treatment and care to survive. Acute\\nmalnutrition rates depict the nutrition situation in the general\\npopulation at a specific time: they can show marked seasonal\\npatterns and can change quickly over time. See table 2.\\nChronic malnutrition\\nA child being too short for his or her age (stunting) is considered\\nchronically malnourished. This condition is preventable from\\nthe 1 000 days between a woman’s pregnancy and the time her\\nchild turns two. The physical and cognitive damage caused by\\nstunting can be irreversible and has far-reaching consequences,\\nfrom diminished learning and school performance to lower\\nfuture earnings, and can affect the next generation. Stunted\\nchildren under 5 years old are identified by a height for age\\nz score (HAZ) below -2 of the reference population. Severe\\nstunting is defined as HAZ below -3. See table 3.\\nMicronutrient deficiencies\\nDeficiencies of vitamin A, iron and zinc are often referred to as\\n‘hidden' hunger because it develops gradually over time, and\\na large percentage of the population may be deficient without\\nshowing any clinical symptoms or signs of deficiency.\\nDrivers of malnutrition in food crises\\nThe immediate cause of acute malnutrition is a severe\\nnutritional restriction either as a result of inadequate food\\nintake, or a recent bout of illness, such as diarrhoea, that\\nhinders appropriate intake and absorption of nutrients. The\\ndeterminants of malnutrition also include inadequate access\\nto healthcare, water and sanitation services, inappropriate\\nchild feeding and care practices, as described in the UNICEF\\nframework .\\nChildren require an adequate amount of nutrient dense\\nfoods for their optimum growth and development, to build\\nimmunity to infections and protect against disease. Exclusive\\nbreastfeeding in the first six months of life followed by\\nthe timely introduction of safe and nutritionally adequate\\ncomplementary foods with continued breastfeeding until\\n2 years of age or beyond, ensures children receive all the\\nnutrients they need. Pregnant and lactating women also need\\nto consume foods from a variety of food groups, with adequate\\nand appropriate nutrients and energy to meet the increased\\nphysiological requirements, to sustain healthy fetal growth\\nand development, and support lactation.\\nDuring humanitarian crises, access to nutritious foods may\\nbe limited by food shortages or disrupted food systems\\nPrevalence Label\\nranges\\n< 2.5% Very low\\n2.5–< 5% Low\\n5–< 10% Medium\\n10–< 15% High\\n≥ 15% Very high\\nPrevalence Label\\nranges\\n< 2.5% Very low\\n2.5–10% Low\\n10–< 20% Medium\\n20–<30% High\\n≥ 30% Very high\\nTable 2\\nSeverity index for prevalence of wasting in children\\naged 6–59 months\\nTable 3\\nSeverity index for prevalence of stunting in children\\naged 0–59 months\\nDe Onis et al. Public Health Nutrition, 2018. Available at: https://www.who.int/nutrition/team/\\nprevalence-thresholds-wasting-overweight-stunting-children-paper.pdf\\n16 | GLOBAL REPORT ON FOOD CRISES 2020\\nINTRODUCTION AND METHODS\\nTable 4\\nIPC/CH acute malnutrition technical descriptions and response objectives\\nPhase Technical description\\n1 Acceptable Less than 5% of children are acutely malnourished. Maintain the low prevalence of acute malnutrition.\\n2 Alert 5–9.9% of children are acutely malnourished. Strengthen existing response capacity and resilience. Address\\ncontributing factors to acute malnutrition. Monitor conditions.\\n3 Serious 10–14.9% of children are acutely malnourished. Scaling up of treatment and prevention of affected populations.\\n4 Critical 15–29.9% children are acutely malnourished. The Significant scale up and intensification of treatment and\\nmortality and morbidity levels are elevated or increasing. protection activities to reach additional population affected.\\nIndividual food consumption is likely to be compromised.\\n5 Extremely 30% of children are acutely malnourished widespread Addressing widespread acute malnutrition and disease\\n Critical morbidity and/or very large individual food consumption epidemics by all means.\\ngaps are likely evident.\\ncompromising the availability of adequate and safe\\ncomplementary foods for vulnerable children. When food\\nproduction is limited, and/or markets and infrastructure are\\nfunctioning poorly the cost of food increases and vulnerable\\nhouseholds with limited purchasing power struggle to provide\\nchildren with the nutritious diet they require.\\nIn addition, caregivers during emergencies may have reduced\\ntime to prepare nutritious meals and care for children because\\nthey may, for instance, have to take on additional agricultural\\ntasks, care for other vulnerable family members or take longer\\nto access services and water. In some contexts – such as during\\ndisplacements – the precarious living conditions may also\\nhinder the hygienic preparation of meals.\\nDisplaced populations often face severely compromised access\\nto safe water and improved sanitation and are at increased risk\\nof frequent outbreaks of infectious disease, which weakened\\nhealth systems cannot treat, prevent or control. Measles,\\ncholera, Ebola and dengue fever outbreaks are illnesses that\\nhave a negative impact on the overall health and nutritional\\nstatus of individuals, especially young children. In crises\\nchildren are often not able to access other preventive services\\nsuch as micronutrient supplementation and immunization,\\nfurther increasing the risk of malnutrition. Displacement\\ncan also result in the break-down of familial and community\\nnetworks that provide the necessary support and guidance\\nneeded for looking after young children.\\nNutrition data sources for the GRFC 2020\\nThe nutrition analysis was conducted only for countries facing\\na food crisis to complement the acute food insecurity analysis.\\nThe nutritional status of children and related contributing\\nfactors was assessed using globally agreed indicators and\\nstandards.\\nThe GRFC reviews and analyses most recent available country\\ndata on anthropometry, dietary intake, infant and young\\nchild feeding (IYCF) practices, health and WASH indicators\\nfrom national and sub-national nutrition surveys. These\\ninclude representative SMART (Standardized Monitoring and\\nAssessment for Relief and Transitions) surveys, Demographic\\nand Health Surveys (DHS), Multiple Indicators Cluster Surveys\\n(MICS), National Vulnerability Assessments and Analysis, and\\nInfant and Young Child Feeding – Knowledge Attitude and\\nPractices Assessments (IYCF KAP). For refugee populations\\nnutrition data comes from UNHCR Standardized Expanded\\nNutrition Surveys (SENS).\\nThe GRFC uses the Joint Child Malnutrition Estimates 2019\\n(UNICEF, WHO, WB) for the number of children affected by\\nstunting and acute malnutrition globally. In chapter 3, it uses\\nin-country calculations approved by the nutrition clusters/\\nsectors and shared in key planning documents such as\\nHNOs and Humanitarian Response Plans (HRP) including\\nprojections. For the drivers, it consults the above surveys and\\nWHO, UNICEF, OCHA, ACAPS, UNHCR and other sources.\\nIn 2019, 10 countries (Chad, Kenya, Madagascar, Mozambique,\\nthe Niger, Nigeria, Pakistan, Uganda, Somalia and South\\nSudan) conducted an IPC acute malnutrition analysis in areas\\nknown to have high rates of acute malnutrition. The results of\\nthese analyses are shared in this report.\\nThe IPC analysis process reviews all contributing factors\\naffecting acute malnutrition in the area of analysis and\\nclassifies the severity of a nutrition situation in a population,\\nusing defined indicators. See table 4 below. The level of\\nGlobal Acute Malnutrition (GAM) is used to classify the\\nseverity of acute malnutrition and key factors such as dietary\\nintake, disease, feeding and care practices, health and WASH\\nenvironment and contextual information such as access to\\nservices, mortality etc are all included in the analysis.\\nPriority response objectives\\nINTRODUCTION AND METHODS\\nGLOBAL REPORT ON FOOD CRISES 2020 | 17\\nMinimum dietary diversity\\nfor children aged 6–23 months\\nThis indicator refers to the percentage of children aged\\n6–23 months who receive foods from more than five out\\nof eight food groups a day. The eight food groups are:\\ni. breastmilk; ii. grains, roots and tubers; iii. legumes\\nand nuts; iv. dairy products (infant formula, milk,\\nyogurt, cheese); v. flesh foods (meat, fish, poultry and\\nliver/organ meats); vi. eggs; vii. vitamin-A rich fruits and\\nvegetables; viii. other fruits and vegetables.\\nIn some surveys minimum dietary diversity is calculated\\nbased on seven food groups, excluding breastmilk. In\\nthese cases, the indicator refers to the percentage of\\nchildren aged 6–23 months who receive foods from\\nmore than four out of seven food groups a day.\\nMinimum meal frequency\\nThe indicator refers to the proportion of breastfed and\\nnon-breastfed children aged 6–23 months who receive\\nsolid, semi-solid or soft foods at least the minimum\\nnumber of recommended times a day.\\nMinimum acceptable diet\\nThis composite indicator combines meal frequency and\\ndietary diversity to assess the proportion of children\\naged 6–23 months consuming a diet that meets the\\nminimum requirements for growth and development.\\nPercentage of households not consuming\\nmicronutrient-rich food (analysed in refugee\\npopulations)\\nThis refers to the proportion of households with no\\nmember consuming any vegetables, fruits, meat, eggs,\\nfish/seafood, and milk/milk products over a reference\\nperiod of 24 hours. The food group of vegetables, fruits,\\nmeat, eggs, fish/seafood, and milk/milk products are the\\nsame as the 12 food groups defined by FAO (2011).\\nExclusive breastfeeding\\nThis indicator refers to the percentage of infants fed\\nexclusively with breast milk up to six months of age, as\\nrecommended by WHO.\\nPrevalence of anaemia\\nThis indicator refers to the proportion of children aged\\n6–59 months and of reproductive age women (15–49\\nyears) who are anaemic.\\nAnaemia is a condition in which the number of\\nred blood cells or their oxygen-carrying capacity is\\ninsufficient to meet physiological needs, which varies\\nby age, sex, altitude, smoking and pregnancy status.\\nIron deficiency is thought to be the most common\\ncause of anaemia globally, although other conditions,\\nsuch as folate, vitamin B12 and vitamin A deficiencies,\\nchronic inflammation, parasitic infections and inherited\\ndisorders can all cause anaemia. In its severe form,\\nit is associated with fatigue, weakness, dizziness\\nand drowsiness. Pregnant women and children are\\nparticularly vulnerable (WHO).\\nAccess to basic drinking\\nwater services\\nImproved drinking water sources are those which,\\nby nature of their design and construction, have the\\npotential to deliver safe water. The WHO and UNICEF\\nJoint Monitoring Program for Water Supply Sanitation\\nand Hygiene (JMP) subdivides the population using\\nimproved sources into three groups (safely managed,\\nbasic and limited) according to the level of service\\nprovided. In order to meet the criteria for a safely\\nmanaged drinking water service, people must use an\\nimproved source meeting three criteria: accessible\\non premises; available when needed; free from\\ncontamination.\\nIf the improved source does not meet any one of\\nthese criteria but a round trip to collect water takes 30\\nminutes or less, then it is classified as a basic drinking\\nwater service. If water collection from an improved\\nsource exceeds 30 minutes, it is categorized as a limited\\nservice (WHO and UNICEF).\\nFor refugees, the indicator refers to the type of drinking\\nwater source used by the household and serves to\\nindicate whether their drinking water is of a suitable\\nquality or not.\\nAdditional nutrition indicators used in GRFC 2020\\n18 | GLOBAL REPORT ON FOOD CRISES 2020\\nINTRODUCTION AND METHODS\\nLIMITATIONS\\nConsensus\\nAll partners are in agreement with the approximate degree\\nof magnitude and severity of acute food insecurity indicated\\nfor the countries included in this report, except in the cases of\\nAfghanistan, the Democratic Republic of the Congo, Haiti and\\nEthiopia, for which FEWS NET’s analyses of available evidence\\nsuggest that the population requiring emergency food\\nassistance in 2019 was lower than the estimates based on the\\nIPC. The differences stem from varying interpretations of the\\ndata related to factors contributing to acute food insecurity.\\nData gaps and challenges\\nOmission of 16 countries because of insufficient evidence\\nto produce estimates of people in Crisis or worse (IPC/\\nCH Phase 3 or above, or equivalent) Bolivia (Plurinational\\nState of), Comoros, Congo, Democratic People's Republic of\\nKorea, Djibouti, Syrian refugees in Egypt and Jordan, Eritrea,\\nIran (Islamic Republic of), Kyrgyzstan, Lao People's Democratic\\nRepublic, Nepal, Venezuelan migrants in Peru, Philippines\\nand Tajikistan and displaced populations in Algeria/Western\\nSahara.\\nUnderestimation of numbers of people in Crisis or\\nworse (IPC/CH Phase 3 or above, or equivalent) for many\\ncountries Data collection is not always national, and may only\\ntake place in accessible areas or those affected by a localized\\nshock. Data collection might also have been conducted out of\\nthe peak season or the analysis did not include a projection\\nfor the timing of peak needs. In addition, the number of\\npeople in Crisis or worse (IPC/CH Phase 3 or above) does\\nnot necessarily reflect the full population in need of urgent\\naction to decrease food gaps and protect and save lives\\nand livelihoods. This is because some households may only\\nbe classified in IPC/CH Phase 1 or 2 because they receive\\nassistance, and are in fact in need of continued action. The\\nnumber in Crisis or worse (IPC/CH Phase 3 or above) refers to\\npopulations in need of action further to that already taken.\\nAbsence of estimates for populations in Stressed (IPC/CH\\nPhase 2) pending data sources Bangladesh, Burundi, Iraq,\\nLibya, Nicaragua, Rwanda, Uganda and Ukraine. This is mainly\\nthe case when using FEWS NET, HNOs or to a lesser extent\\nWFP analyses as the source.\\nLack of data availability and comparability for refugee\\nfood security Refugee food security is measured in\\nvarious ways across refugee populations and data are not\\nsystematically collected, disaggregated, consolidated or\\nshared. Detailed, comparative analysis on refugee food\\nsecurity at country, regional or global level is not possible\\nwith current systems and processes, and particularly not in a\\ncomparable way to IPC/CH protocols.\\nLimited availability and frequency of national nutrition\\nsurveys and/or IPC acute malnutrition analyses Only\\n10 countries – Chad, Kenya, Madagascar, Mozambique, the\\nNiger, Nigeria, Pakistan, Somalia, South Sudan and Uganda –\\nconducted an IPC acute malnutrition analysis in 2019.\\nLimited predictive analysis (acute food insecurity and\\nmalnutrition) For several countries with no IPC/CH or\\ncompatible products where alternative estimates are used,\\npredictive analyses are not available. In some cases where\\nIPC/CH is used, data collection and analysis updates are not\\nas frequent as might be needed to provide estimates for the\\nforecast section of this report. IPC-compatible analyses offer\\nrange values for forecasts rather than precise estimates. Not\\nall countries with a 2019 IPC acute malnutrition analysis had a\\nprojection beyond publication of the GRFC 2020.\\nComparability challenges\\nMost IPC results presented in this report are based on the\\nIPC Technical Manual Version 3.0, which was launched in\\nApril 2019 and CH Technical Manual Version 2.0 for analyses\\ncarried out in October–November 2019. The use of these\\nrevised protocols does not affect the comparability of numbers\\nof food-insecure people with previous analysis periods and\\nbetween countries.\\nFor some countries, the coverage of food security analyses\\nwithin and between years varies in terms of population (e.g.\\nrural only vs. rural and urban) and/or areas analysed (e.g. part\\nof the country vs. whole country). This affects the comparability\\nof the number of acutely food-insecure people between\\ntime periods. In a few countries (e.g. Bangladesh, Burundi,\\nDjibouti), no IPC acute food insecurity analysis was conducted\\nin 2019. Depending on whether other comparable sources of\\ninformation could be found, this hampers comparability with\\nprevious years and highlights the importance for food-crisis\\ncountries to conduct an IPC analysis at least once a year.\\nnot collected/\\narea is inaccessible\\nnot comparable across time\\nor geographical areas\\nscattered across\\nvarious sources\\nnot disaggregated by age,\\ngender or IPC/CH phases\\nincomplete\\nData can be missing because it is\\nINTRODUCTION AND METHODS\\nGLOBAL REPORT ON FOOD CRISES 2020 | 19\\nChapter 2 starts with a graphical and textual analysis of the key findings of the\\nGRFC 2020. It provides the main list of 55 countries and territories in food crises,\\nsupplying the peak number of acutely food-insecure people in 2019.\\nRefer to the rest of the chapter for regional overviews of 2019 food crises for which\\ndata was available: three regions of Africa; Asia and the Middle East; Latin America\\nand the Caribbean.\\nChapter 3 covers the 35 most serious food crises in alphabetical order from\\nAfghanistan to Zimbabwe. There is a graphical overview page for each country\\ncrisis providing the key relevant food security and nutrition data; a summary of\\nthe main drivers in order of their contribution to the country’s food crisis and the\\ndisplacement figures that are most relevant for the country/territory.\\nThe rest of each country profile provides a more granular analysis of the acute food\\ninsecurity and nutrition situation in 2019 and discusses the drivers in some depth.\\nEach profile is illustrated with maps that give a sense of severity by region and,\\nwhere possible, graphs that convey changes over time.\\nChapter 4 provides a table with pre-COVID-19 pandemic estimates of the number\\nof acutely food-insecure people in need of urgent action in 2020.\\nIt further provides an analysis of expected trends by country/territory in 2020. It\\nexplains the assumptions underlying the acute food insecurity forecasts for 2020.\\nRegional maps of Africa, Asia and Latin America/Caribbean indicate the projected\\nranges of the numbers of people in IPC/CH Phase 3 or above as well as primary\\ndrivers and risks by country.\\nHow to use this report\\nURGENT CALL TO ACTION TO\\nIMPROVE DATA ANALYTICS\\n\""
            ]
          },
          "metadata": {
            "tags": []
          },
          "execution_count": 26
        }
      ]
    },
    {
      "cell_type": "markdown",
      "metadata": {
        "id": "XbeMonD4RQLQ"
      },
      "source": [
        "## Functions to get Synonyms and Replace them Randomly"
      ]
    },
    {
      "cell_type": "markdown",
      "metadata": {
        "id": "SfRVIYqKSa7a"
      },
      "source": [
        "> ##### **Synonym replacement (SR)**\n",
        "Synonym replacement is a technique in which we replace a word by one of its synonyms. We use WordNet, a large linguistic database, to identify relevant synonyms."
      ]
    },
    {
      "cell_type": "code",
      "metadata": {
        "id": "_XaawlPTiybl"
      },
      "source": [
        "stop_words = stopwords.words('english')\n",
        "\n",
        "def get_synonyms(word):\n",
        "    \"\"\"\n",
        "    Get synonyms of a word\n",
        "    \"\"\"\n",
        "    synonyms = set()\n",
        "    \n",
        "    for syn in wordnet.synsets(word): \n",
        "        for l in syn.lemmas(): \n",
        "            synonym = l.name().replace(\"_\", \" \").replace(\"-\", \" \").lower()\n",
        "            synonym = \"\".join([char for char in synonym if char in ' qwertyuiopasdfghjklzxcvbnm'])\n",
        "            synonyms.add(synonym) \n",
        "    \n",
        "    if word in synonyms:\n",
        "        synonyms.remove(word)\n",
        "    \n",
        "    return list(synonyms)\n",
        "\n",
        "# This first function identifies the synonyms of a given word and pre-processes them. \n",
        "# The synonyms are then randomly replaced in the original sentence.\n",
        "\n",
        "def synonym_replacement(words, n):\n",
        "    \n",
        "    words = words.split()\n",
        "    \n",
        "    new_words = words.copy()\n",
        "    random_word_list = list(set([word for word in words if word not in stop_words]))\n",
        "    random.shuffle(random_word_list)\n",
        "    num_replaced = 0\n",
        "    \n",
        "    for random_word in random_word_list:\n",
        "        synonyms = get_synonyms(random_word)\n",
        "        \n",
        "        if len(synonyms) >= 1:\n",
        "            synonym = random.choice(list(synonyms))\n",
        "            new_words = [synonym if word == random_word else word for word in new_words]\n",
        "            num_replaced += 1\n",
        "        \n",
        "        if num_replaced >= n: #only replace up to n words\n",
        "            break\n",
        "\n",
        "    sentence = ' '.join(new_words)\n",
        "\n",
        "    return sentence"
      ],
      "execution_count": 27,
      "outputs": []
    },
    {
      "cell_type": "markdown",
      "metadata": {
        "id": "3PKOlTy-SQ3-"
      },
      "source": [
        "> This first function identifies the synonyms of a given word and pre-processes them. The synonyms are then randomly replaced in the original sentence."
      ]
    },
    {
      "cell_type": "markdown",
      "metadata": {
        "id": "X1EJC3RASHwe"
      },
      "source": [
        "> We randomly select n words, and replace them by their synonyms. This function can then be used in an apply function on a data frame.\n"
      ]
    },
    {
      "cell_type": "code",
      "metadata": {
        "colab": {
          "base_uri": "https://localhost:8080/",
          "height": 52
        },
        "id": "frK1LwZ4i09i",
        "outputId": "254964b9-ad4c-4245-a9ef-5bfd8f69c630"
      },
      "source": [
        "syn_replace = synonym_replacement(text, 500)\n",
        "syn_replace[:200]"
      ],
      "execution_count": 71,
      "outputs": [
        {
          "output_type": "execute_result",
          "data": {
            "application/vnd.google.colaboratory.intrinsic+json": {
              "type": "string"
            },
            "text/plain": [
              "'The Global Report on Food crisis (GRFC) 2020 is the result of a joint, consensus-based assessment of keen food insecurity situations around the world by  collaborator organizations. At one hundred thi'"
            ]
          },
          "metadata": {
            "tags": []
          },
          "execution_count": 71
        }
      ]
    },
    {
      "cell_type": "code",
      "metadata": {
        "colab": {
          "base_uri": "https://localhost:8080/",
          "height": 52
        },
        "id": "4aR2uj_wO5Mc",
        "outputId": "13412d10-ffa2-4836-af46-ec631c4b1bae"
      },
      "source": [
        "text[:200]"
      ],
      "execution_count": 68,
      "outputs": [
        {
          "output_type": "execute_result",
          "data": {
            "application/vnd.google.colaboratory.intrinsic+json": {
              "type": "string"
            },
            "text/plain": [
              "'The Global Report on Food Crises (GRFC) 2020 is the result of\\na joint, consensus-based assessment of acute food insecurity\\nsituations around the world by 16 partner organizations.\\nAt 135 million, the '"
            ]
          },
          "metadata": {
            "tags": []
          },
          "execution_count": 68
        }
      ]
    },
    {
      "cell_type": "markdown",
      "metadata": {
        "id": "wTo6PNNlTtYX"
      },
      "source": [
        "## Random Deletion (RD)\n",
        ">>\n",
        "In Random Deletion, we randomly delete a word if a uniformly generated number between 0 and 1 is smaller than a pre-defined threshold. This allows for a random deletion of some words of the sentence."
      ]
    },
    {
      "cell_type": "code",
      "metadata": {
        "id": "k-W47V_5TbNE"
      },
      "source": [
        "def random_deletion(words, p):\n",
        "\n",
        "    words = words.split()\n",
        "    \n",
        "    #obviously, if there's only one word, don't delete it\n",
        "    if len(words) == 1:\n",
        "        return words\n",
        "\n",
        "    #randomly delete words with probability p\n",
        "    new_words = []\n",
        "    for word in words:\n",
        "        r = random.uniform(0, 1)\n",
        "        if r > p:\n",
        "            new_words.append(word)\n",
        "\n",
        "    #if you end up deleting all words, just return a random word\n",
        "    if len(new_words) == 0:\n",
        "        rand_int = random.randint(0, len(words)-1)\n",
        "        return [words[rand_int]]\n",
        "\n",
        "    sentence = ' '.join(new_words)\n",
        "    \n",
        "    return sentence"
      ],
      "execution_count": 40,
      "outputs": []
    },
    {
      "cell_type": "code",
      "metadata": {
        "colab": {
          "base_uri": "https://localhost:8080/"
        },
        "id": "Jonh6jAITcRs",
        "outputId": "5afd450f-68c2-475b-dc1a-c4949aaa1d65"
      },
      "source": [
        "rand_del = random_deletion(text, 5)\n",
        "rand_del"
      ],
      "execution_count": 64,
      "outputs": [
        {
          "output_type": "execute_result",
          "data": {
            "text/plain": [
              "['they']"
            ]
          },
          "metadata": {
            "tags": []
          },
          "execution_count": 64
        }
      ]
    },
    {
      "cell_type": "markdown",
      "metadata": {
        "id": "GFMVu3eeT1HP"
      },
      "source": [
        "## Random Swap (RS)\n",
        ">>\n",
        "In Random Swap, we randomly swap the order of two words in a sentence."
      ]
    },
    {
      "cell_type": "code",
      "metadata": {
        "id": "m7XGuWhLTfcL"
      },
      "source": [
        "def swap_word(new_words):\n",
        "    \n",
        "    random_idx_1 = random.randint(0, len(new_words)-1)\n",
        "    random_idx_2 = random_idx_1\n",
        "    counter = 0\n",
        "    \n",
        "    while random_idx_2 == random_idx_1:\n",
        "        random_idx_2 = random.randint(0, len(new_words)-1)\n",
        "        counter += 1\n",
        "        \n",
        "        if counter > 3:\n",
        "            return new_words\n",
        "    \n",
        "    new_words[random_idx_1], new_words[random_idx_2] = new_words[random_idx_2], new_words[random_idx_1] \n",
        "    return new_words\n",
        "\n",
        "def random_swap(words, n):\n",
        "    \n",
        "    words = words.split()\n",
        "    new_words = words.copy()\n",
        "    \n",
        "    for _ in range(n):\n",
        "        new_words = swap_word(new_words)\n",
        "        \n",
        "    sentence = ' '.join(new_words)\n",
        "    \n",
        "    return sentence"
      ],
      "execution_count": 45,
      "outputs": []
    },
    {
      "cell_type": "code",
      "metadata": {
        "colab": {
          "base_uri": "https://localhost:8080/",
          "height": 52
        },
        "id": "VEra3jRLT7LV",
        "outputId": "5b6bcde4-2169-4bdd-f294-7d434e939c65"
      },
      "source": [
        "swapped_text = random_swap(text, 500)\n",
        "swapped_text[:150]"
      ],
      "execution_count": 62,
      "outputs": [
        {
          "output_type": "execute_result",
          "data": {
            "application/vnd.google.colaboratory.intrinsic+json": {
              "type": "string"
            },
            "text/plain": [
              "'The and security on Food Crises (GRFC) 2020 is the result of a joint, la assessment of acute food insecurity situations around the world by 16 partner'"
            ]
          },
          "metadata": {
            "tags": []
          },
          "execution_count": 62
        }
      ]
    },
    {
      "cell_type": "code",
      "metadata": {
        "colab": {
          "base_uri": "https://localhost:8080/",
          "height": 52
        },
        "id": "roMWY_IfT8wX",
        "outputId": "66f03513-381a-423d-ac26-924ddc192b58"
      },
      "source": [
        "text[:150]"
      ],
      "execution_count": 61,
      "outputs": [
        {
          "output_type": "execute_result",
          "data": {
            "application/vnd.google.colaboratory.intrinsic+json": {
              "type": "string"
            },
            "text/plain": [
              "'The Global Report on Food Crises (GRFC) 2020 is the result of\\na joint, consensus-based assessment of acute food insecurity\\nsituations around the world'"
            ]
          },
          "metadata": {
            "tags": []
          },
          "execution_count": 61
        }
      ]
    },
    {
      "cell_type": "markdown",
      "metadata": {
        "id": "dhGwHklSUgkY"
      },
      "source": [
        "> Swapping does not give us the desired output as it swaps relevant words with unwanted words or words that do not give the desired meaning in the sentence."
      ]
    },
    {
      "cell_type": "markdown",
      "metadata": {
        "id": "CVVpfAdBU4rz"
      },
      "source": [
        "## Random Insertion (RI)\n",
        ">>\n",
        "Finally, in Random Insertion, we randomly insert synonyms of a word at a random position."
      ]
    },
    {
      "cell_type": "code",
      "metadata": {
        "id": "8hZLmV6uU6os"
      },
      "source": [
        "def random_insertion(words, n):\n",
        "    \n",
        "    words = words.split()\n",
        "    new_words = words.copy()\n",
        "    \n",
        "    for _ in range(n):\n",
        "        add_word(new_words)\n",
        "        \n",
        "    sentence = ' '.join(new_words)\n",
        "    return sentence\n",
        "\n",
        "def add_word(new_words):\n",
        "    \n",
        "    synonyms = []\n",
        "    counter = 0\n",
        "    \n",
        "    while len(synonyms) < 1:\n",
        "        random_word = new_words[random.randint(0, len(new_words)-1)]\n",
        "        synonyms = get_synonyms(random_word)\n",
        "        counter += 1\n",
        "        if counter >= 10:\n",
        "            return\n",
        "        \n",
        "    random_synonym = synonyms[0]\n",
        "    random_idx = random.randint(0, len(new_words)-1)\n",
        "    new_words.insert(random_idx, random_synonym)"
      ],
      "execution_count": 57,
      "outputs": []
    },
    {
      "cell_type": "code",
      "metadata": {
        "colab": {
          "base_uri": "https://localhost:8080/",
          "height": 52
        },
        "id": "-ezKDPV_VBqb",
        "outputId": "f4ef9d09-dde2-42e9-90c8-0cf4c2236ae9"
      },
      "source": [
        "rand_insert = random_insertion(text, 500)\n",
        "rand_insert[:150]"
      ],
      "execution_count": 60,
      "outputs": [
        {
          "output_type": "execute_result",
          "data": {
            "application/vnd.google.colaboratory.intrinsic+json": {
              "type": "string"
            },
            "text/plain": [
              "'The Global Report on unstableness Food Crises (GRFC) 2020 is the result of a joint, consensus-based assessment of acute food tear down insecurity situ'"
            ]
          },
          "metadata": {
            "tags": []
          },
          "execution_count": 60
        }
      ]
    },
    {
      "cell_type": "code",
      "metadata": {
        "id": "worzQgu7VEcV"
      },
      "source": [
        ""
      ],
      "execution_count": null,
      "outputs": []
    }
  ]
}